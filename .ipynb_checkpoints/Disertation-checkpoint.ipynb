{
 "cells": [
  {
   "cell_type": "code",
   "execution_count": 2,
   "metadata": {},
   "outputs": [],
   "source": [
    "import yfinance as yf \n",
    "import pandas as pd\n",
    "from scipy.stats import skew\n",
    "import talib\n",
    "import numpy as np\n",
    "import seaborn as sns\n",
    "from sklearn.preprocessing import MinMaxScaler\n",
    "from sklearn.linear_model import LogisticRegression\n",
    "from sklearn.svm import SVC\n",
    "from sklearn.model_selection import GridSearchCV\n",
    "from sklearn.model_selection import TimeSeriesSplit\n",
    "from sklearn.metrics import accuracy_score,f1_score,make_scorer\n",
    "from sklearn.svm import SVC"
   ]
  },
  {
   "cell_type": "code",
   "execution_count": 3,
   "metadata": {},
   "outputs": [],
   "source": [
    "start_date = \"2000-01-01\"\n",
    "end_date = \"2021-01-31\""
   ]
  },
  {
   "cell_type": "code",
   "execution_count": 4,
   "metadata": {},
   "outputs": [
    {
     "name": "stdout",
     "output_type": "stream",
     "text": [
      "[*********************100%***********************]  1 of 1 completed\n"
     ]
    }
   ],
   "source": [
    "aapl = yf.download(\"AAPL\",start=start_date,end = end_date)"
   ]
  },
  {
   "cell_type": "code",
   "execution_count": 5,
   "metadata": {},
   "outputs": [
    {
     "data": {
      "text/html": [
       "<div>\n",
       "<style scoped>\n",
       "    .dataframe tbody tr th:only-of-type {\n",
       "        vertical-align: middle;\n",
       "    }\n",
       "\n",
       "    .dataframe tbody tr th {\n",
       "        vertical-align: top;\n",
       "    }\n",
       "\n",
       "    .dataframe thead th {\n",
       "        text-align: right;\n",
       "    }\n",
       "</style>\n",
       "<table border=\"1\" class=\"dataframe\">\n",
       "  <thead>\n",
       "    <tr style=\"text-align: right;\">\n",
       "      <th></th>\n",
       "      <th>Open</th>\n",
       "      <th>High</th>\n",
       "      <th>Low</th>\n",
       "      <th>Close</th>\n",
       "      <th>Adj Close</th>\n",
       "      <th>Volume</th>\n",
       "    </tr>\n",
       "    <tr>\n",
       "      <th>Date</th>\n",
       "      <th></th>\n",
       "      <th></th>\n",
       "      <th></th>\n",
       "      <th></th>\n",
       "      <th></th>\n",
       "      <th></th>\n",
       "    </tr>\n",
       "  </thead>\n",
       "  <tbody>\n",
       "    <tr>\n",
       "      <th>2000-01-03</th>\n",
       "      <td>0.936384</td>\n",
       "      <td>1.004464</td>\n",
       "      <td>0.907924</td>\n",
       "      <td>0.999442</td>\n",
       "      <td>0.855796</td>\n",
       "      <td>535796800</td>\n",
       "    </tr>\n",
       "    <tr>\n",
       "      <th>2000-01-04</th>\n",
       "      <td>0.966518</td>\n",
       "      <td>0.987723</td>\n",
       "      <td>0.903460</td>\n",
       "      <td>0.915179</td>\n",
       "      <td>0.783644</td>\n",
       "      <td>512377600</td>\n",
       "    </tr>\n",
       "    <tr>\n",
       "      <th>2000-01-05</th>\n",
       "      <td>0.926339</td>\n",
       "      <td>0.987165</td>\n",
       "      <td>0.919643</td>\n",
       "      <td>0.928571</td>\n",
       "      <td>0.795111</td>\n",
       "      <td>778321600</td>\n",
       "    </tr>\n",
       "    <tr>\n",
       "      <th>2000-01-06</th>\n",
       "      <td>0.947545</td>\n",
       "      <td>0.955357</td>\n",
       "      <td>0.848214</td>\n",
       "      <td>0.848214</td>\n",
       "      <td>0.726304</td>\n",
       "      <td>767972800</td>\n",
       "    </tr>\n",
       "    <tr>\n",
       "      <th>2000-01-07</th>\n",
       "      <td>0.861607</td>\n",
       "      <td>0.901786</td>\n",
       "      <td>0.852679</td>\n",
       "      <td>0.888393</td>\n",
       "      <td>0.760708</td>\n",
       "      <td>460734400</td>\n",
       "    </tr>\n",
       "    <tr>\n",
       "      <th>2000-01-10</th>\n",
       "      <td>0.910714</td>\n",
       "      <td>0.912946</td>\n",
       "      <td>0.845982</td>\n",
       "      <td>0.872768</td>\n",
       "      <td>0.747329</td>\n",
       "      <td>505064000</td>\n",
       "    </tr>\n",
       "    <tr>\n",
       "      <th>2000-01-11</th>\n",
       "      <td>0.856585</td>\n",
       "      <td>0.887277</td>\n",
       "      <td>0.808036</td>\n",
       "      <td>0.828125</td>\n",
       "      <td>0.709102</td>\n",
       "      <td>441548800</td>\n",
       "    </tr>\n",
       "    <tr>\n",
       "      <th>2000-01-12</th>\n",
       "      <td>0.848214</td>\n",
       "      <td>0.852679</td>\n",
       "      <td>0.772321</td>\n",
       "      <td>0.778460</td>\n",
       "      <td>0.666575</td>\n",
       "      <td>976068800</td>\n",
       "    </tr>\n",
       "    <tr>\n",
       "      <th>2000-01-13</th>\n",
       "      <td>0.843610</td>\n",
       "      <td>0.881696</td>\n",
       "      <td>0.825893</td>\n",
       "      <td>0.863839</td>\n",
       "      <td>0.739683</td>\n",
       "      <td>1032684800</td>\n",
       "    </tr>\n",
       "    <tr>\n",
       "      <th>2000-01-14</th>\n",
       "      <td>0.892857</td>\n",
       "      <td>0.912946</td>\n",
       "      <td>0.887277</td>\n",
       "      <td>0.896763</td>\n",
       "      <td>0.767875</td>\n",
       "      <td>390376000</td>\n",
       "    </tr>\n",
       "    <tr>\n",
       "      <th>2000-01-18</th>\n",
       "      <td>0.901786</td>\n",
       "      <td>0.946429</td>\n",
       "      <td>0.896763</td>\n",
       "      <td>0.928013</td>\n",
       "      <td>0.794634</td>\n",
       "      <td>459177600</td>\n",
       "    </tr>\n",
       "    <tr>\n",
       "      <th>2000-01-19</th>\n",
       "      <td>0.943080</td>\n",
       "      <td>0.970982</td>\n",
       "      <td>0.922991</td>\n",
       "      <td>0.951451</td>\n",
       "      <td>0.814703</td>\n",
       "      <td>597643200</td>\n",
       "    </tr>\n",
       "    <tr>\n",
       "      <th>2000-01-20</th>\n",
       "      <td>1.031250</td>\n",
       "      <td>1.084821</td>\n",
       "      <td>1.013393</td>\n",
       "      <td>1.013393</td>\n",
       "      <td>0.867742</td>\n",
       "      <td>1831132800</td>\n",
       "    </tr>\n",
       "    <tr>\n",
       "      <th>2000-01-21</th>\n",
       "      <td>1.020089</td>\n",
       "      <td>1.020089</td>\n",
       "      <td>0.983817</td>\n",
       "      <td>0.993862</td>\n",
       "      <td>0.851018</td>\n",
       "      <td>495924800</td>\n",
       "    </tr>\n",
       "    <tr>\n",
       "      <th>2000-01-24</th>\n",
       "      <td>0.968192</td>\n",
       "      <td>1.006696</td>\n",
       "      <td>0.938616</td>\n",
       "      <td>0.948661</td>\n",
       "      <td>0.812314</td>\n",
       "      <td>440876800</td>\n",
       "    </tr>\n",
       "    <tr>\n",
       "      <th>2000-01-25</th>\n",
       "      <td>0.937500</td>\n",
       "      <td>1.010045</td>\n",
       "      <td>0.914063</td>\n",
       "      <td>1.002232</td>\n",
       "      <td>0.858185</td>\n",
       "      <td>497145600</td>\n",
       "    </tr>\n",
       "    <tr>\n",
       "      <th>2000-01-26</th>\n",
       "      <td>0.982143</td>\n",
       "      <td>1.019531</td>\n",
       "      <td>0.979911</td>\n",
       "      <td>0.983817</td>\n",
       "      <td>0.842417</td>\n",
       "      <td>367158400</td>\n",
       "    </tr>\n",
       "    <tr>\n",
       "      <th>2000-01-27</th>\n",
       "      <td>0.971540</td>\n",
       "      <td>1.008929</td>\n",
       "      <td>0.955357</td>\n",
       "      <td>0.982143</td>\n",
       "      <td>0.840984</td>\n",
       "      <td>340144000</td>\n",
       "    </tr>\n",
       "    <tr>\n",
       "      <th>2000-01-28</th>\n",
       "      <td>0.965960</td>\n",
       "      <td>0.989955</td>\n",
       "      <td>0.898438</td>\n",
       "      <td>0.907366</td>\n",
       "      <td>0.776954</td>\n",
       "      <td>423348800</td>\n",
       "    </tr>\n",
       "    <tr>\n",
       "      <th>2000-01-31</th>\n",
       "      <td>0.901786</td>\n",
       "      <td>0.927455</td>\n",
       "      <td>0.843750</td>\n",
       "      <td>0.926339</td>\n",
       "      <td>0.793200</td>\n",
       "      <td>701680000</td>\n",
       "    </tr>\n",
       "    <tr>\n",
       "      <th>2000-02-01</th>\n",
       "      <td>0.928571</td>\n",
       "      <td>0.937500</td>\n",
       "      <td>0.892857</td>\n",
       "      <td>0.895089</td>\n",
       "      <td>0.766442</td>\n",
       "      <td>318035200</td>\n",
       "    </tr>\n",
       "    <tr>\n",
       "      <th>2000-02-02</th>\n",
       "      <td>0.899554</td>\n",
       "      <td>0.911830</td>\n",
       "      <td>0.866071</td>\n",
       "      <td>0.882254</td>\n",
       "      <td>0.755451</td>\n",
       "      <td>464195200</td>\n",
       "    </tr>\n",
       "    <tr>\n",
       "      <th>2000-02-03</th>\n",
       "      <td>0.895647</td>\n",
       "      <td>0.930804</td>\n",
       "      <td>0.895089</td>\n",
       "      <td>0.922433</td>\n",
       "      <td>0.789855</td>\n",
       "      <td>475193600</td>\n",
       "    </tr>\n",
       "    <tr>\n",
       "      <th>2000-02-04</th>\n",
       "      <td>0.928013</td>\n",
       "      <td>0.982143</td>\n",
       "      <td>0.925223</td>\n",
       "      <td>0.964286</td>\n",
       "      <td>0.825693</td>\n",
       "      <td>425320000</td>\n",
       "    </tr>\n",
       "    <tr>\n",
       "      <th>2000-02-07</th>\n",
       "      <td>0.964286</td>\n",
       "      <td>1.020089</td>\n",
       "      <td>0.945871</td>\n",
       "      <td>1.018415</td>\n",
       "      <td>0.872043</td>\n",
       "      <td>441067200</td>\n",
       "    </tr>\n",
       "    <tr>\n",
       "      <th>2000-02-08</th>\n",
       "      <td>1.017857</td>\n",
       "      <td>1.036830</td>\n",
       "      <td>0.993304</td>\n",
       "      <td>1.025670</td>\n",
       "      <td>0.878255</td>\n",
       "      <td>408643200</td>\n",
       "    </tr>\n",
       "  </tbody>\n",
       "</table>\n",
       "</div>"
      ],
      "text/plain": [
       "                Open      High       Low     Close  Adj Close      Volume\n",
       "Date                                                                     \n",
       "2000-01-03  0.936384  1.004464  0.907924  0.999442   0.855796   535796800\n",
       "2000-01-04  0.966518  0.987723  0.903460  0.915179   0.783644   512377600\n",
       "2000-01-05  0.926339  0.987165  0.919643  0.928571   0.795111   778321600\n",
       "2000-01-06  0.947545  0.955357  0.848214  0.848214   0.726304   767972800\n",
       "2000-01-07  0.861607  0.901786  0.852679  0.888393   0.760708   460734400\n",
       "2000-01-10  0.910714  0.912946  0.845982  0.872768   0.747329   505064000\n",
       "2000-01-11  0.856585  0.887277  0.808036  0.828125   0.709102   441548800\n",
       "2000-01-12  0.848214  0.852679  0.772321  0.778460   0.666575   976068800\n",
       "2000-01-13  0.843610  0.881696  0.825893  0.863839   0.739683  1032684800\n",
       "2000-01-14  0.892857  0.912946  0.887277  0.896763   0.767875   390376000\n",
       "2000-01-18  0.901786  0.946429  0.896763  0.928013   0.794634   459177600\n",
       "2000-01-19  0.943080  0.970982  0.922991  0.951451   0.814703   597643200\n",
       "2000-01-20  1.031250  1.084821  1.013393  1.013393   0.867742  1831132800\n",
       "2000-01-21  1.020089  1.020089  0.983817  0.993862   0.851018   495924800\n",
       "2000-01-24  0.968192  1.006696  0.938616  0.948661   0.812314   440876800\n",
       "2000-01-25  0.937500  1.010045  0.914063  1.002232   0.858185   497145600\n",
       "2000-01-26  0.982143  1.019531  0.979911  0.983817   0.842417   367158400\n",
       "2000-01-27  0.971540  1.008929  0.955357  0.982143   0.840984   340144000\n",
       "2000-01-28  0.965960  0.989955  0.898438  0.907366   0.776954   423348800\n",
       "2000-01-31  0.901786  0.927455  0.843750  0.926339   0.793200   701680000\n",
       "2000-02-01  0.928571  0.937500  0.892857  0.895089   0.766442   318035200\n",
       "2000-02-02  0.899554  0.911830  0.866071  0.882254   0.755451   464195200\n",
       "2000-02-03  0.895647  0.930804  0.895089  0.922433   0.789855   475193600\n",
       "2000-02-04  0.928013  0.982143  0.925223  0.964286   0.825693   425320000\n",
       "2000-02-07  0.964286  1.020089  0.945871  1.018415   0.872043   441067200\n",
       "2000-02-08  1.017857  1.036830  0.993304  1.025670   0.878255   408643200"
      ]
     },
     "execution_count": 5,
     "metadata": {},
     "output_type": "execute_result"
    }
   ],
   "source": [
    "aapl.head(26)"
   ]
  },
  {
   "cell_type": "markdown",
   "metadata": {},
   "source": [
    "# Technical Indicators\n",
    "- Technical indicators are heuristic or pattern-based signals produced by the price,volume, and/or open interest of a security used by traders who follow technical analysis<br>\n",
    "- There are four major types of technical indicators that are commonly used by traders, which are:\n",
    "    - Trend Indicators\n",
    "    - Momentum Indicators\n",
    "    - Volatility Indicators \n",
    "    - Volume Indicators\n",
    "- These types of indicators can also be subdivided into leading or lagging\n",
    "    - Lagging indicators offer a historical report of background conditions that resulted in the current price being where it is\n",
    "    - Leading indicators attempt to predict where the price is headed\n",
    "- The technical indicators that I created in this project will be used as the input features for Machine Learning models."
   ]
  },
  {
   "cell_type": "markdown",
   "metadata": {},
   "source": [
    "In this section, I will separate the types of indicators and provides further explanation and formula for each indicators. "
   ]
  },
  {
   "cell_type": "markdown",
   "metadata": {},
   "source": [
    "## Trend Indicators\n",
    "\n",
    "Trend indicators (lagging) analyze whether a market is moving up,down or sideways over time\n",
    "\n"
   ]
  },
  {
   "cell_type": "markdown",
   "metadata": {},
   "source": [
    "### Simple Moving Averages (SMA)\n",
    "- Simple moving average is a technical analysis tools that smooths out price data by creating a constantly updated average price\n",
    "- Most of the time traders will look at the angle of moving average, if it is mostly moving horizontally, then the price isn't trending, it is ranging\n",
    "- If the simple moving average line is angled up, an uptrend is underway\n",
    "- However, simple moving averages don't make prediction about the future value of a stock, it simply reveal the trend of the stock over a period of time\n",
    "\n",
    "Formula for Simple Moving Averages:<br>\n",
    "$SMA = \\frac {A _{1} + A _{2} + ... + A _{n-1} + A _{n}}{n}$<br><br>\n",
    "where:<br> \n",
    "$A _{n}$ = the price of an asset at period n<br>\n",
    "$n$ = the number of total periods\n",
    "\n"
   ]
  },
  {
   "cell_type": "code",
   "execution_count": 6,
   "metadata": {},
   "outputs": [],
   "source": [
    "#Simple moving average\n",
    "def SMA(data,period,column=\"Close\"):\n",
    "    return data[column].rolling(window=period).mean()"
   ]
  },
  {
   "cell_type": "code",
   "execution_count": 7,
   "metadata": {},
   "outputs": [],
   "source": [
    "#Discrete \n",
    "def SMA_discrete(data,period,column='Close'):\n",
    "    data['sma'] = data[column].rolling(window=period).mean()\n",
    "    data['sma_discrete'] = np.where(data['sma'] > data['Close'],-1,1)\n",
    "    return data['sma_discrete']"
   ]
  },
  {
   "cell_type": "markdown",
   "metadata": {},
   "source": [
    "### Exponential Moving Averages (EMA)\n",
    "- Exponential Moving Averages is very similar to Simple Moving Averages, the only difference is that EMA reacts more significantly to recent price changes than a simple moving average, which applies an equal weight to all observations in the period<br>\n",
    "\n",
    "Formula for Exponential Moving Averages:<br>\n",
    "\n",
    "$EMA _{t} = \\alpha x _{t} + (1 - \\alpha)EMA _{t-1} $ <br><br>\n",
    "\n",
    "The smoothing factor alpha is defined as:<br>\n",
    "$\\alpha = \\frac {2} {n+1} $ \n",
    "\n",
    "where n is the time period\n",
    "\n",
    "\n"
   ]
  },
  {
   "cell_type": "code",
   "execution_count": 8,
   "metadata": {},
   "outputs": [],
   "source": [
    "def EMA(data,period,column=\"Close\"):\n",
    "    return data[column].ewm(span=period, adjust=False,min_periods=period).mean()"
   ]
  },
  {
   "cell_type": "code",
   "execution_count": 9,
   "metadata": {},
   "outputs": [],
   "source": [
    "def EMA_discrete(data,period,column=\"Close\"):\n",
    "    data['ema'] = data[column].ewm(span=period,adjust=False,min_periods=period).mean()\n",
    "    data['ema_discrete'] = np.where(data['ema']>data['Close'],-1,1)\n",
    "    return data['ema_discrete']"
   ]
  },
  {
   "cell_type": "markdown",
   "metadata": {},
   "source": [
    "## Momentum Indicators"
   ]
  },
  {
   "cell_type": "markdown",
   "metadata": {},
   "source": [
    "- Oscillators are chart indicators that can assist a trader in determining overbought or oversolf conditions in ranging markets.\n",
    "- A technician will rely on oscillators when the charts are not showing a definite trend in either direction"
   ]
  },
  {
   "cell_type": "markdown",
   "metadata": {},
   "source": [
    "### Relative Strength Index (RSI)\n",
    "\n",
    "- RSI measures the extent of recent price changes to determine overbought or oversold conditions in an instruments price.\n",
    "- It is one of the most trusted indicators for anyone planning to use oscillators to determine buy and sell points\n",
    "- If the RSI value is over 70, the security is considered overbought, if the value is lower than 30, it is considered oversolf.\n",
    "\n",
    "The formula for RSI:<br><br>\n",
    "$RS = \\frac{Avg.Gain}{Avg.Loss}$ <br><br>\n",
    "$RSI = 100 - \\frac {100} {1+RS}$\n"
   ]
  },
  {
   "cell_type": "code",
   "execution_count": 10,
   "metadata": {},
   "outputs": [],
   "source": [
    "#RSI \n",
    "def RSI(data,period):\n",
    "    df = pd.DataFrame()\n",
    "    df['Diff'] = data['Close'].transform(lambda x: x.diff())\n",
    "\n",
    "    df['Up'] = df['Diff']\n",
    "    df.loc[(df['Up']<0),'Up'] = 0\n",
    "\n",
    "    df['Down'] = df['Diff']\n",
    "    df.loc[(df['Down']>0),'Down'] = 0\n",
    "    df['Down'] = abs(df['Down'])\n",
    "\n",
    "    df['rsi_up'] = df['Up'].rolling(window=period).mean()\n",
    "    df['rsi_down'] = df['Down'].rolling(window=period).mean()\n",
    "    \n",
    "    df['rs'] = df['rsi_up'] / df['rsi_down']\n",
    "    df['rsi'] = round(100 - (100/(1+df['rs'])))\n",
    "    return df['rsi']\n",
    "    "
   ]
  },
  {
   "cell_type": "code",
   "execution_count": null,
   "metadata": {},
   "outputs": [],
   "source": [
    "def cond_rsi(data):\n",
    "    if (data.rsi < 70) & (data.rsi > 30):\n",
    "        if (data.rsi > data.previous):\n",
    "            return 1\n",
    "        else :\n",
    "            return -1\n",
    "    elif (data.rsi > 70):\n",
    "        return -1\n",
    "    else :\n",
    "        return 1 \n",
    "\n",
    "\n",
    "\n",
    "\n",
    "def rsi_discrete(data,period):\n",
    "    df = pd.DataFrame()\n",
    "    df['Diff'] = data['Close'].transform(lambda x: x.diff())\n",
    "\n",
    "    df['Up'] = df['Diff']\n",
    "    df.loc[(df['Up']<0),'Up'] = 0\n",
    "\n",
    "    df['Down'] = df['Diff']\n",
    "    df.loc[(df['Down']>0),'Down'] = 0\n",
    "    df['Down'] = abs(df['Down'])\n",
    "\n",
    "    df['rsi_up'] = df['Up'].rolling(window=period).mean()\n",
    "    df['rsi_down'] = df['Down'].rolling(window=period).mean()\n",
    "    \n",
    "    df['rs'] = df['rsi_up'] / df['rsi_down']\n",
    "    df['rsi'] = round(100 - (100/(1+df['rs'])))\n",
    "    df['previous'] = df['rsi'].shift(1)\n",
    "    \n",
    "    df['discrete_rsi'] = df.apply(cond_rsi,axis=1)\n",
    "    return df['discrete_rsi']"
   ]
  },
  {
   "cell_type": "markdown",
   "metadata": {},
   "source": [
    "### Momentum"
   ]
  },
  {
   "cell_type": "code",
   "execution_count": 11,
   "metadata": {},
   "outputs": [],
   "source": [
    "def mom(data):\n",
    "    close_9 = data['Close'].shift(9)\n",
    "    momentum = data['Close'] - close_9\n",
    "    return momentum"
   ]
  },
  {
   "cell_type": "code",
   "execution_count": null,
   "metadata": {},
   "outputs": [],
   "source": [
    "def mom_discrete(data):\n",
    "    data['close_9'] = data['Close'].shift(9)\n",
    "    data['momentum'] = data['Close'] - data['close_9']\n",
    "    data['discrete_momentum'] = np.where(data['momentum'] > 0 , 1, 0)\n",
    "    return data['discrete_momentum']\n",
    "    "
   ]
  },
  {
   "cell_type": "markdown",
   "metadata": {},
   "source": [
    "### William %R"
   ]
  },
  {
   "cell_type": "code",
   "execution_count": 12,
   "metadata": {},
   "outputs": [],
   "source": [
    "def williamR(data,period):\n",
    "    high = data['High'].rolling(window=period).max()\n",
    "    low = data['Low'].rolling(window=period).min()\n",
    "    wr = -100 * ((high-data['Close']) / (high-low))\n",
    "    return wr\n",
    "    "
   ]
  },
  {
   "cell_type": "code",
   "execution_count": null,
   "metadata": {},
   "outputs": [],
   "source": [
    "def cond_wr(data):\n",
    "    if (data.wr > data.previous):\n",
    "        return 1\n",
    "    else:\n",
    "        return -1\n",
    "\n",
    "\n",
    "\n",
    "def discrete_wr(data,period):\n",
    "    df = pd.DataFrame()\n",
    "    df['high'] = data['High'].rolling(window=period).max()\n",
    "    df['low'] = data['Low'].rolling(window=period).min()\n",
    "    df['wr'] = -100 * ((df['high']-data['Close']) / (df['high'] - df['low']))\n",
    "    df['previous'] = df['wr'].shift(1)\n",
    "    df['discrete_wr'] = df.apply(cond_wr,axis=1)\n",
    "    \n",
    "    return df['discrete_wr']"
   ]
  },
  {
   "cell_type": "markdown",
   "metadata": {},
   "source": [
    "### CCI"
   ]
  },
  {
   "cell_type": "code",
   "execution_count": 13,
   "metadata": {},
   "outputs": [],
   "source": [
    "def CCI(data):\n",
    "    data['tp'] = (data['High'] + data['Low'] + data['Close']) / 3\n",
    "    data['sma_tp'] = data['tp'].rolling(window=9).mean()\n",
    "    data['mad'] = data['tp'].rolling(window=9).apply(lambda x: pd.Series(x).mad())\n",
    "    data['CCI'] = (data['tp'] - data['sma_tp']) / (0.015 * data['mad'])\n",
    "    return data['CCI']"
   ]
  },
  {
   "cell_type": "code",
   "execution_count": null,
   "metadata": {},
   "outputs": [],
   "source": [
    "def cond_CCI(row):\n",
    "    if (row.CCI <= 200) & (row.CCI >= -200):\n",
    "        if (row.CCI > row.dif):\n",
    "            return 1\n",
    "        else:\n",
    "            return -1\n",
    "    elif (row.CCI > 200):\n",
    "        return -1\n",
    "    else:\n",
    "        return 1\n",
    "\n",
    "\n",
    "def CCI_discrete(data):\n",
    "    df = pd.DataFrame()\n",
    "    df['tp'] = (data['High'] + data['Low'] + data['Close']) / 3\n",
    "    df['sma_tp'] = df['tp'].rolling(window=9).mean()\n",
    "    df['mad'] = df['tp'].rolling(window=9).apply(lambda x: pd.Series(x).mad())\n",
    "    df['CCI'] = (df['tp'] - df['sma_tp']) / (0.015 * df['mad'])\n",
    "    df['dif'] = df['CCI'].shift(1)\n",
    "    df['CCI_discrete'] = df.apply(cond_CCI,axis=1)\n",
    "    \n",
    "    \n",
    "    return df['CCI_discrete']"
   ]
  },
  {
   "cell_type": "markdown",
   "metadata": {},
   "source": [
    "### Moving Average Convergence Divergence (MACD)"
   ]
  },
  {
   "cell_type": "markdown",
   "metadata": {},
   "source": [
    " - MACD is a trend-following momentum indicator that shows the relationship between two moving averages of a security's price\n",
    " - A nine-day EMA of the MACD called 'signal line' is used as a trigger for buy and sell signals\n",
    " - When the MACD line is crosses below the signal line, traders should sell\n",
    " - When the MACD line crosses above the signal line, traders should buy"
   ]
  },
  {
   "cell_type": "markdown",
   "metadata": {},
   "source": [
    "The formula for MACD:<br><br>\n",
    "$MACD = EMA _{12period} - EMA _{26period}$"
   ]
  },
  {
   "cell_type": "markdown",
   "metadata": {},
   "source": [
    "The formula for Signal:<br><br>\n",
    "$Signal $= 9-days EMA of MACD Line\n"
   ]
  },
  {
   "cell_type": "code",
   "execution_count": 14,
   "metadata": {},
   "outputs": [],
   "source": [
    "def MACD(data,period1,period2,period3):\n",
    "    macd_1 = data['Close'].ewm(span=period1,adjust=False,min_periods=period1).mean()\n",
    "    macd_2 = data['Close'].ewm(span=period2,adjust=False,min_periods=period2).mean()\n",
    "    macd = macd_1 - macd_2\n",
    "    signal = macd.ewm(span=period3,adjust=False,min_periods=period3).mean()\n",
    "    \n",
    "    return macd,signal"
   ]
  },
  {
   "cell_type": "code",
   "execution_count": null,
   "metadata": {},
   "outputs": [],
   "source": [
    "def cond_MACD(data):\n",
    "    if (data.macd > data.dif):\n",
    "        return 1\n",
    "    else:\n",
    "        return -1\n",
    "    \n",
    "\n",
    "def MACD_discrete(data):\n",
    "    df = pd.DataFrame()\n",
    "    df['macd_1'] = data['Close'].ewm(span=26,adjust=False,min_periods=26).mean()\n",
    "    df['macd_2'] = data['Close'].ewm(span=9,adjust=False,min_periods=9).mean()\n",
    "    df['macd'] = df['macd_1'] - df['macd_2']\n",
    "    df['dif'] = df['macd'].shift(1)\n",
    "    df['discrete_macd'] = df.apply(cond_MACD,axis=1)\n",
    "    \n",
    "    \n",
    "    return df['discrete_macd']"
   ]
  },
  {
   "cell_type": "markdown",
   "metadata": {},
   "source": [
    "### Stochastic Oscillator"
   ]
  },
  {
   "cell_type": "markdown",
   "metadata": {},
   "source": [
    " - Stochastic Oscillator measures the momentum of price movement and can be used to predict trend reversals \n",
    " - Stochastic Oscillator is range-bound, which means it is always between 0 and 100.\n",
    " - It can be used to identify overbought and oversold readings"
   ]
  },
  {
   "cell_type": "markdown",
   "metadata": {},
   "source": [
    "Stochastic Oscillator display two lines: %K and %D.\n",
    " - The %K line compares the lowest low and the highest high of a given period to define a price range\n",
    " - The %D line is a moving average of %K\n",
    " - If the %K line crosses below the %D line, a possible sell signal is generated\n",
    " - If %D crosses below the %K line, a possible buy signal is generated\n",
    " - These crossover may appear anywhere, but signals above the lines at 20 and 80 are considered to be stronger\n"
   ]
  },
  {
   "cell_type": "markdown",
   "metadata": {},
   "source": [
    "The formula for Stochastic K:<br><br>\n",
    "\n",
    "$ K = \\frac {(C - L _{period})} {(H _{period} - L _{period})} * 100$ <br><br>\n",
    "\n",
    "where: <br>\n",
    "$ C $ = The most recent closing price  <br>\n",
    "$ L _{period} $ = The lowest price traded of the trading period  <br>\n",
    "$ L _{period} $ = The highest price traded of the trading period  <br>\n"
   ]
  },
  {
   "cell_type": "code",
   "execution_count": 15,
   "metadata": {},
   "outputs": [],
   "source": [
    "def stochastic_k(data,period):\n",
    "    df = pd.DataFrame()\n",
    "    df['high'] = data['High'].rolling(period).max()\n",
    "    df['low'] = data['Low'].rolling(period).min()\n",
    "    df['percentage_k'] = (data['Close'] - df['low']) * 100 / (df['high'] - df['low'])\n",
    "    \n",
    "    return df['percentage_k']"
   ]
  },
  {
   "cell_type": "markdown",
   "metadata": {},
   "source": [
    "The formula for Stochastic D:<br><br>\n",
    "\n",
    "$ D = \\frac {K _{1} + K _{2} .... + K _{n}} {n}$\n",
    "<br><br>\n",
    "where:<br>\n",
    "$ K $ = Fast Stochastic indicator <br>\n",
    "$ n $ = Trading period\n"
   ]
  },
  {
   "cell_type": "code",
   "execution_count": 16,
   "metadata": {},
   "outputs": [],
   "source": [
    "def stochastic_d(data,period1,period2):\n",
    "    df = pd.DataFrame()\n",
    "    df['high'] = data['High'].rolling(period1).max()\n",
    "    df['low'] = data['Low'].rolling(period1).min()\n",
    "    df['percen_k'] = (data['Close'] - df['low']) * 100 / (df['high'] - df['low'])\n",
    "    df['percen_d'] = df['percen_k'].rolling(window=period2).mean()\n",
    "    \n",
    "    return df['percentage_d']"
   ]
  },
  {
   "cell_type": "code",
   "execution_count": null,
   "metadata": {},
   "outputs": [],
   "source": [
    "def cond_sto_d(data):\n",
    "    if (data.percen_d > data.previous):\n",
    "        return 1\n",
    "    else:\n",
    "        return -1\n",
    "\n",
    "\n",
    "def discrete_sto_d(data,period1,period2):\n",
    "    df = pd.DataFrame()\n",
    "    df['high'] = data['High'].rolling(period1).max()\n",
    "    df['low'] = data['Low'].rolling(period1).min()\n",
    "    df['percen_k'] = (data['Close'] - df['low']) * 100 / (df['high'] - df['low'])\n",
    "    df['percen_d'] = df['percen_k'].rolling(window=period2).mean()\n",
    "    df['previous'] = df['precen_d'].shift(1)\n",
    "    df['discrete_d'] = np.apply(cond_sto_d,axis=1)\n",
    "    \n",
    "    return df['discrete_d']"
   ]
  },
  {
   "cell_type": "markdown",
   "metadata": {},
   "source": [
    "### Target Variable\n",
    "Since technical indicators are mainly used for short term trading purpose, hence I will be looking at a short term trading period. In this case, I will be using 3 days prediction interval. The idea is when traders look at the technical indicators on today, traders will buy the stock on the next day and hold it for 3 trading days including the day he/she bought. If the closing price on the third day is higher than the opening price on the first day, the value will 1 while the closing price on the third day is lower than the opening price on the first day, the value will be 0"
   ]
  },
  {
   "cell_type": "markdown",
   "metadata": {},
   "source": [
    "To give a more comprehensive view, if a trader looking at technical indicators on 5th of Janurary, the trader will buy the stock on 6th of January and hold the stock until 8th of January. "
   ]
  },
  {
   "cell_type": "code",
   "execution_count": 17,
   "metadata": {},
   "outputs": [],
   "source": [
    "def pred_var(data):\n",
    "    var = pd.DataFrame()\n",
    "    var['Close_in_3'] = data['Close'].transform(lambda x: x.shift(-2))\n",
    "    var['diff'] = (var['Close_in_3'] - data['Open']).shift(-1)\n",
    "    var['act_pred'] = np.where(var['diff']>0,1,0)\n",
    "    var['act_pred'].mask(var['diff'].isna(),np.nan,inplace=True)\n",
    "    return var['act_pred']"
   ]
  },
  {
   "cell_type": "markdown",
   "metadata": {},
   "source": [
    "### Data Cleaning and Pre-processing"
   ]
  },
  {
   "cell_type": "markdown",
   "metadata": {},
   "source": [
    "The first step of data pre-processing to ensure there is no imbalanced dataset issue occur. when looking at the value counts, it shows that target variable 1 and 0 have very similar amount of value counts. Hence, imbalanced dataset does not occur in this case"
   ]
  },
  {
   "cell_type": "code",
   "execution_count": 18,
   "metadata": {},
   "outputs": [],
   "source": [
    "y = pred_var(aapl)"
   ]
  },
  {
   "cell_type": "code",
   "execution_count": 19,
   "metadata": {},
   "outputs": [
    {
     "name": "stdout",
     "output_type": "stream",
     "text": [
      "<class 'pandas.core.frame.DataFrame'>\n",
      "DatetimeIndex: 5303 entries, 2000-01-03 to 2021-01-29\n",
      "Data columns (total 10 columns):\n",
      " #   Column     Non-Null Count  Dtype  \n",
      "---  ------     --------------  -----  \n",
      " 0   sma_10     5294 non-null   float64\n",
      " 1   ema_10     5294 non-null   float64\n",
      " 2   rsi_14     5289 non-null   float64\n",
      " 3   macd       5278 non-null   float64\n",
      " 4   signal     5270 non-null   float64\n",
      " 5   %K         5290 non-null   float64\n",
      " 6   %D         5288 non-null   float64\n",
      " 7   mom        5294 non-null   float64\n",
      " 8   william%r  5290 non-null   float64\n",
      " 9   cci        5295 non-null   float64\n",
      "dtypes: float64(10)\n",
      "memory usage: 455.7 KB\n"
     ]
    }
   ],
   "source": [
    "x = pd.DataFrame()\n",
    "x[\"sma_10\"] = SMA(aapl,10)\n",
    "x[\"ema_10\"] = EMA(aapl,10)\n",
    "x[\"rsi_14\"] = RSI(aapl,14)\n",
    "x[\"macd\"] = MACD(aapl,12,26,9)[0]\n",
    "x[\"signal\"] = MACD(aapl,12,26,9)[1]\n",
    "x['%K'] = stochastic_k(aapl,14)\n",
    "x['%D'] = stochastic_d(aapl,14,3)\n",
    "x['mom'] = mom(aapl)\n",
    "x['william%r'] = williamR(aapl,14)\n",
    "x['cci'] = CCI(aapl)\n",
    "x.info()"
   ]
  },
  {
   "cell_type": "code",
   "execution_count": 20,
   "metadata": {},
   "outputs": [
    {
     "name": "stdout",
     "output_type": "stream",
     "text": [
      "1.0    1555\n",
      "0.0    1214\n",
      "Name: act_pred, dtype: int64\n"
     ]
    }
   ],
   "source": [
    "y = y.loc[\"2010-01-01\":\"2020-12-31\"]\n",
    "print(y.value_counts())\n"
   ]
  },
  {
   "cell_type": "code",
   "execution_count": 21,
   "metadata": {},
   "outputs": [
    {
     "name": "stdout",
     "output_type": "stream",
     "text": [
      "0\n"
     ]
    }
   ],
   "source": [
    "print(np.sum(y.isnull()))"
   ]
  },
  {
   "cell_type": "code",
   "execution_count": 22,
   "metadata": {},
   "outputs": [
    {
     "name": "stdout",
     "output_type": "stream",
     "text": [
      "sma_10       0\n",
      "ema_10       0\n",
      "rsi_14       0\n",
      "macd         0\n",
      "signal       0\n",
      "%K           0\n",
      "%D           0\n",
      "mom          0\n",
      "william%r    0\n",
      "cci          0\n",
      "dtype: int64\n"
     ]
    }
   ],
   "source": [
    "x = x.loc[\"2010-01-01\":\"2020-12-31\"]\n",
    "print(np.sum(x.isnull()))"
   ]
  },
  {
   "cell_type": "code",
   "execution_count": 23,
   "metadata": {},
   "outputs": [
    {
     "name": "stdout",
     "output_type": "stream",
     "text": [
      "<class 'pandas.core.frame.DataFrame'>\n",
      "DatetimeIndex: 2769 entries, 2010-01-04 to 2020-12-31\n",
      "Data columns (total 10 columns):\n",
      " #   Column     Non-Null Count  Dtype  \n",
      "---  ------     --------------  -----  \n",
      " 0   sma_10     2769 non-null   float64\n",
      " 1   ema_10     2769 non-null   float64\n",
      " 2   rsi_14     2769 non-null   float64\n",
      " 3   macd       2769 non-null   float64\n",
      " 4   signal     2769 non-null   float64\n",
      " 5   %K         2769 non-null   float64\n",
      " 6   %D         2769 non-null   float64\n",
      " 7   mom        2769 non-null   float64\n",
      " 8   william%r  2769 non-null   float64\n",
      " 9   cci        2769 non-null   float64\n",
      "dtypes: float64(10)\n",
      "memory usage: 238.0 KB\n"
     ]
    }
   ],
   "source": [
    "x.info()"
   ]
  },
  {
   "cell_type": "code",
   "execution_count": 24,
   "metadata": {},
   "outputs": [
    {
     "name": "stdout",
     "output_type": "stream",
     "text": [
      "Number of Training dataset: 2013\n",
      "Number of Testing dataset: 756\n",
      "Train dataset percentage: 0.7269772481040087\n",
      "Test dataset percentage: 0.27302275189599134\n"
     ]
    }
   ],
   "source": [
    "#Split dataset into train and test\n",
    "x_train = x.loc[\"2010-01-01\":\"2017-12-31\"]\n",
    "x_test = x.loc[\"2018-01-01\":\"2020-12-31\"]\n",
    "y_train = y.loc[\"2010-01-01\":\"2017-12-31\"]\n",
    "y_test = y.loc[\"2018-01-01\":\"2020-12-31\"]\n",
    "print(\"Number of Training dataset:\", x_train.shape[0])\n",
    "print(\"Number of Testing dataset:\",x_test.shape[0])\n",
    "print(\"Train dataset percentage:\", x_train.shape[0]/(x_train.shape[0] + x_test.shape[0]))\n",
    "print(\"Test dataset percentage:\", x_test.shape[0]/(x_train.shape[0] + x_test.shape[0]))"
   ]
  },
  {
   "cell_type": "code",
   "execution_count": 25,
   "metadata": {},
   "outputs": [
    {
     "data": {
      "text/plain": [
       "1.0    1105\n",
       "0.0     908\n",
       "Name: act_pred, dtype: int64"
      ]
     },
     "execution_count": 25,
     "metadata": {},
     "output_type": "execute_result"
    }
   ],
   "source": [
    "y_train.value_counts()"
   ]
  },
  {
   "cell_type": "code",
   "execution_count": 26,
   "metadata": {},
   "outputs": [
    {
     "data": {
      "text/plain": [
       "1.0    450\n",
       "0.0    306\n",
       "Name: act_pred, dtype: int64"
      ]
     },
     "execution_count": 26,
     "metadata": {},
     "output_type": "execute_result"
    }
   ],
   "source": [
    "y_test.value_counts()"
   ]
  },
  {
   "cell_type": "code",
   "execution_count": 27,
   "metadata": {},
   "outputs": [
    {
     "name": "stdout",
     "output_type": "stream",
     "text": [
      "Value for 1.0: 59.523809523809526\n",
      "Value for 0.0: 40.476190476190474\n"
     ]
    }
   ],
   "source": [
    "print(\"Value for 1.0:\",(((y_test.value_counts()[1]) / (len(y_test)))*100))\n",
    "print(\"Value for 0.0:\",(((y_test.value_counts()[0]) / (len(y_test)))*100))"
   ]
  },
  {
   "cell_type": "code",
   "execution_count": 28,
   "metadata": {},
   "outputs": [],
   "source": [
    "scaler = MinMaxScaler()\n",
    "scaler.fit(x_train)\n",
    "x_train_scaled = pd.DataFrame(scaler.transform(x_train),index = x_train.index, columns = x_train.columns)\n",
    "x_test_scaled = pd.DataFrame(scaler.transform(x_test),index = x_test.index, columns = x_test.columns)"
   ]
  },
  {
   "cell_type": "markdown",
   "metadata": {},
   "source": [
    "# Classification"
   ]
  },
  {
   "cell_type": "markdown",
   "metadata": {},
   "source": [
    "### Logistic Regression"
   ]
  },
  {
   "cell_type": "code",
   "execution_count": 29,
   "metadata": {},
   "outputs": [],
   "source": [
    "time = TimeSeriesSplit(n_splits = 3)\n",
    "scorer = make_scorer(f1_score)"
   ]
  },
  {
   "cell_type": "code",
   "execution_count": 30,
   "metadata": {},
   "outputs": [
    {
     "name": "stdout",
     "output_type": "stream",
     "text": [
      "Fitting 3 folds for each of 54 candidates, totalling 162 fits\n"
     ]
    },
    {
     "name": "stderr",
     "output_type": "stream",
     "text": [
      "[Parallel(n_jobs=-1)]: Using backend LokyBackend with 8 concurrent workers.\n",
      "[Parallel(n_jobs=-1)]: Done  16 tasks      | elapsed:    2.0s\n",
      "[Parallel(n_jobs=-1)]: Done 112 tasks      | elapsed: 129.1min\n"
     ]
    },
    {
     "ename": "KeyboardInterrupt",
     "evalue": "",
     "output_type": "error",
     "traceback": [
      "\u001b[0;31m---------------------------------------------------------------------------\u001b[0m",
      "\u001b[0;31mKeyboardInterrupt\u001b[0m                         Traceback (most recent call last)",
      "\u001b[0;32m<ipython-input-30-a8140d1e061a>\u001b[0m in \u001b[0;36m<module>\u001b[0;34m\u001b[0m\n\u001b[1;32m      6\u001b[0m \u001b[0mparams_grid\u001b[0m \u001b[0;34m=\u001b[0m \u001b[0;34m{\u001b[0m\u001b[0;34m'C'\u001b[0m\u001b[0;34m:\u001b[0m\u001b[0mC\u001b[0m\u001b[0;34m,\u001b[0m\u001b[0;34m'gamma'\u001b[0m\u001b[0;34m:\u001b[0m\u001b[0mgamma\u001b[0m\u001b[0;34m,\u001b[0m\u001b[0;34m'kernel'\u001b[0m\u001b[0;34m:\u001b[0m\u001b[0mkernel\u001b[0m\u001b[0;34m,\u001b[0m\u001b[0;34m'degree'\u001b[0m\u001b[0;34m:\u001b[0m\u001b[0mdegree\u001b[0m\u001b[0;34m}\u001b[0m\u001b[0;34m\u001b[0m\u001b[0;34m\u001b[0m\u001b[0m\n\u001b[1;32m      7\u001b[0m \u001b[0msvc_grid\u001b[0m \u001b[0;34m=\u001b[0m \u001b[0mGridSearchCV\u001b[0m\u001b[0;34m(\u001b[0m\u001b[0msvc\u001b[0m\u001b[0;34m,\u001b[0m\u001b[0mparams_grid\u001b[0m\u001b[0;34m,\u001b[0m\u001b[0mcv\u001b[0m\u001b[0;34m=\u001b[0m\u001b[0mtime\u001b[0m\u001b[0;34m,\u001b[0m\u001b[0mscoring\u001b[0m\u001b[0;34m=\u001b[0m\u001b[0;34m'accuracy'\u001b[0m\u001b[0;34m,\u001b[0m\u001b[0mn_jobs\u001b[0m \u001b[0;34m=\u001b[0m \u001b[0;34m-\u001b[0m\u001b[0;36m1\u001b[0m\u001b[0;34m,\u001b[0m\u001b[0mverbose\u001b[0m \u001b[0;34m=\u001b[0m \u001b[0;36m3\u001b[0m\u001b[0;34m)\u001b[0m\u001b[0;34m\u001b[0m\u001b[0;34m\u001b[0m\u001b[0m\n\u001b[0;32m----> 8\u001b[0;31m \u001b[0msvc_grid\u001b[0m\u001b[0;34m.\u001b[0m\u001b[0mfit\u001b[0m\u001b[0;34m(\u001b[0m\u001b[0mx_train_scaled\u001b[0m\u001b[0;34m,\u001b[0m\u001b[0my_train\u001b[0m\u001b[0;34m)\u001b[0m\u001b[0;34m\u001b[0m\u001b[0;34m\u001b[0m\u001b[0m\n\u001b[0m\u001b[1;32m      9\u001b[0m \u001b[0mprint\u001b[0m\u001b[0;34m(\u001b[0m\u001b[0msvc_grid\u001b[0m\u001b[0;34m.\u001b[0m\u001b[0mbest_params_\u001b[0m\u001b[0;34m)\u001b[0m\u001b[0;34m\u001b[0m\u001b[0;34m\u001b[0m\u001b[0m\n",
      "\u001b[0;32m~/opt/anaconda3/lib/python3.8/site-packages/sklearn/utils/validation.py\u001b[0m in \u001b[0;36minner_f\u001b[0;34m(*args, **kwargs)\u001b[0m\n\u001b[1;32m     70\u001b[0m                           FutureWarning)\n\u001b[1;32m     71\u001b[0m         \u001b[0mkwargs\u001b[0m\u001b[0;34m.\u001b[0m\u001b[0mupdate\u001b[0m\u001b[0;34m(\u001b[0m\u001b[0;34m{\u001b[0m\u001b[0mk\u001b[0m\u001b[0;34m:\u001b[0m \u001b[0marg\u001b[0m \u001b[0;32mfor\u001b[0m \u001b[0mk\u001b[0m\u001b[0;34m,\u001b[0m \u001b[0marg\u001b[0m \u001b[0;32min\u001b[0m \u001b[0mzip\u001b[0m\u001b[0;34m(\u001b[0m\u001b[0msig\u001b[0m\u001b[0;34m.\u001b[0m\u001b[0mparameters\u001b[0m\u001b[0;34m,\u001b[0m \u001b[0margs\u001b[0m\u001b[0;34m)\u001b[0m\u001b[0;34m}\u001b[0m\u001b[0;34m)\u001b[0m\u001b[0;34m\u001b[0m\u001b[0;34m\u001b[0m\u001b[0m\n\u001b[0;32m---> 72\u001b[0;31m         \u001b[0;32mreturn\u001b[0m \u001b[0mf\u001b[0m\u001b[0;34m(\u001b[0m\u001b[0;34m**\u001b[0m\u001b[0mkwargs\u001b[0m\u001b[0;34m)\u001b[0m\u001b[0;34m\u001b[0m\u001b[0;34m\u001b[0m\u001b[0m\n\u001b[0m\u001b[1;32m     73\u001b[0m     \u001b[0;32mreturn\u001b[0m \u001b[0minner_f\u001b[0m\u001b[0;34m\u001b[0m\u001b[0;34m\u001b[0m\u001b[0m\n\u001b[1;32m     74\u001b[0m \u001b[0;34m\u001b[0m\u001b[0m\n",
      "\u001b[0;32m~/opt/anaconda3/lib/python3.8/site-packages/sklearn/model_selection/_search.py\u001b[0m in \u001b[0;36mfit\u001b[0;34m(self, X, y, groups, **fit_params)\u001b[0m\n\u001b[1;32m    734\u001b[0m                 \u001b[0;32mreturn\u001b[0m \u001b[0mresults\u001b[0m\u001b[0;34m\u001b[0m\u001b[0;34m\u001b[0m\u001b[0m\n\u001b[1;32m    735\u001b[0m \u001b[0;34m\u001b[0m\u001b[0m\n\u001b[0;32m--> 736\u001b[0;31m             \u001b[0mself\u001b[0m\u001b[0;34m.\u001b[0m\u001b[0m_run_search\u001b[0m\u001b[0;34m(\u001b[0m\u001b[0mevaluate_candidates\u001b[0m\u001b[0;34m)\u001b[0m\u001b[0;34m\u001b[0m\u001b[0;34m\u001b[0m\u001b[0m\n\u001b[0m\u001b[1;32m    737\u001b[0m \u001b[0;34m\u001b[0m\u001b[0m\n\u001b[1;32m    738\u001b[0m         \u001b[0;31m# For multi-metric evaluation, store the best_index_, best_params_ and\u001b[0m\u001b[0;34m\u001b[0m\u001b[0;34m\u001b[0m\u001b[0;34m\u001b[0m\u001b[0m\n",
      "\u001b[0;32m~/opt/anaconda3/lib/python3.8/site-packages/sklearn/model_selection/_search.py\u001b[0m in \u001b[0;36m_run_search\u001b[0;34m(self, evaluate_candidates)\u001b[0m\n\u001b[1;32m   1186\u001b[0m     \u001b[0;32mdef\u001b[0m \u001b[0m_run_search\u001b[0m\u001b[0;34m(\u001b[0m\u001b[0mself\u001b[0m\u001b[0;34m,\u001b[0m \u001b[0mevaluate_candidates\u001b[0m\u001b[0;34m)\u001b[0m\u001b[0;34m:\u001b[0m\u001b[0;34m\u001b[0m\u001b[0;34m\u001b[0m\u001b[0m\n\u001b[1;32m   1187\u001b[0m         \u001b[0;34m\"\"\"Search all candidates in param_grid\"\"\"\u001b[0m\u001b[0;34m\u001b[0m\u001b[0;34m\u001b[0m\u001b[0m\n\u001b[0;32m-> 1188\u001b[0;31m         \u001b[0mevaluate_candidates\u001b[0m\u001b[0;34m(\u001b[0m\u001b[0mParameterGrid\u001b[0m\u001b[0;34m(\u001b[0m\u001b[0mself\u001b[0m\u001b[0;34m.\u001b[0m\u001b[0mparam_grid\u001b[0m\u001b[0;34m)\u001b[0m\u001b[0;34m)\u001b[0m\u001b[0;34m\u001b[0m\u001b[0;34m\u001b[0m\u001b[0m\n\u001b[0m\u001b[1;32m   1189\u001b[0m \u001b[0;34m\u001b[0m\u001b[0m\n\u001b[1;32m   1190\u001b[0m \u001b[0;34m\u001b[0m\u001b[0m\n",
      "\u001b[0;32m~/opt/anaconda3/lib/python3.8/site-packages/sklearn/model_selection/_search.py\u001b[0m in \u001b[0;36mevaluate_candidates\u001b[0;34m(candidate_params)\u001b[0m\n\u001b[1;32m    706\u001b[0m                               n_splits, n_candidates, n_candidates * n_splits))\n\u001b[1;32m    707\u001b[0m \u001b[0;34m\u001b[0m\u001b[0m\n\u001b[0;32m--> 708\u001b[0;31m                 out = parallel(delayed(_fit_and_score)(clone(base_estimator),\n\u001b[0m\u001b[1;32m    709\u001b[0m                                                        \u001b[0mX\u001b[0m\u001b[0;34m,\u001b[0m \u001b[0my\u001b[0m\u001b[0;34m,\u001b[0m\u001b[0;34m\u001b[0m\u001b[0;34m\u001b[0m\u001b[0m\n\u001b[1;32m    710\u001b[0m                                                        \u001b[0mtrain\u001b[0m\u001b[0;34m=\u001b[0m\u001b[0mtrain\u001b[0m\u001b[0;34m,\u001b[0m \u001b[0mtest\u001b[0m\u001b[0;34m=\u001b[0m\u001b[0mtest\u001b[0m\u001b[0;34m,\u001b[0m\u001b[0;34m\u001b[0m\u001b[0;34m\u001b[0m\u001b[0m\n",
      "\u001b[0;32m~/opt/anaconda3/lib/python3.8/site-packages/joblib/parallel.py\u001b[0m in \u001b[0;36m__call__\u001b[0;34m(self, iterable)\u001b[0m\n\u001b[1;32m   1059\u001b[0m \u001b[0;34m\u001b[0m\u001b[0m\n\u001b[1;32m   1060\u001b[0m             \u001b[0;32mwith\u001b[0m \u001b[0mself\u001b[0m\u001b[0;34m.\u001b[0m\u001b[0m_backend\u001b[0m\u001b[0;34m.\u001b[0m\u001b[0mretrieval_context\u001b[0m\u001b[0;34m(\u001b[0m\u001b[0;34m)\u001b[0m\u001b[0;34m:\u001b[0m\u001b[0;34m\u001b[0m\u001b[0;34m\u001b[0m\u001b[0m\n\u001b[0;32m-> 1061\u001b[0;31m                 \u001b[0mself\u001b[0m\u001b[0;34m.\u001b[0m\u001b[0mretrieve\u001b[0m\u001b[0;34m(\u001b[0m\u001b[0;34m)\u001b[0m\u001b[0;34m\u001b[0m\u001b[0;34m\u001b[0m\u001b[0m\n\u001b[0m\u001b[1;32m   1062\u001b[0m             \u001b[0;31m# Make sure that we get a last message telling us we are done\u001b[0m\u001b[0;34m\u001b[0m\u001b[0;34m\u001b[0m\u001b[0;34m\u001b[0m\u001b[0m\n\u001b[1;32m   1063\u001b[0m             \u001b[0melapsed_time\u001b[0m \u001b[0;34m=\u001b[0m \u001b[0mtime\u001b[0m\u001b[0;34m.\u001b[0m\u001b[0mtime\u001b[0m\u001b[0;34m(\u001b[0m\u001b[0;34m)\u001b[0m \u001b[0;34m-\u001b[0m \u001b[0mself\u001b[0m\u001b[0;34m.\u001b[0m\u001b[0m_start_time\u001b[0m\u001b[0;34m\u001b[0m\u001b[0;34m\u001b[0m\u001b[0m\n",
      "\u001b[0;32m~/opt/anaconda3/lib/python3.8/site-packages/joblib/parallel.py\u001b[0m in \u001b[0;36mretrieve\u001b[0;34m(self)\u001b[0m\n\u001b[1;32m    938\u001b[0m             \u001b[0;32mtry\u001b[0m\u001b[0;34m:\u001b[0m\u001b[0;34m\u001b[0m\u001b[0;34m\u001b[0m\u001b[0m\n\u001b[1;32m    939\u001b[0m                 \u001b[0;32mif\u001b[0m \u001b[0mgetattr\u001b[0m\u001b[0;34m(\u001b[0m\u001b[0mself\u001b[0m\u001b[0;34m.\u001b[0m\u001b[0m_backend\u001b[0m\u001b[0;34m,\u001b[0m \u001b[0;34m'supports_timeout'\u001b[0m\u001b[0;34m,\u001b[0m \u001b[0;32mFalse\u001b[0m\u001b[0;34m)\u001b[0m\u001b[0;34m:\u001b[0m\u001b[0;34m\u001b[0m\u001b[0;34m\u001b[0m\u001b[0m\n\u001b[0;32m--> 940\u001b[0;31m                     \u001b[0mself\u001b[0m\u001b[0;34m.\u001b[0m\u001b[0m_output\u001b[0m\u001b[0;34m.\u001b[0m\u001b[0mextend\u001b[0m\u001b[0;34m(\u001b[0m\u001b[0mjob\u001b[0m\u001b[0;34m.\u001b[0m\u001b[0mget\u001b[0m\u001b[0;34m(\u001b[0m\u001b[0mtimeout\u001b[0m\u001b[0;34m=\u001b[0m\u001b[0mself\u001b[0m\u001b[0;34m.\u001b[0m\u001b[0mtimeout\u001b[0m\u001b[0;34m)\u001b[0m\u001b[0;34m)\u001b[0m\u001b[0;34m\u001b[0m\u001b[0;34m\u001b[0m\u001b[0m\n\u001b[0m\u001b[1;32m    941\u001b[0m                 \u001b[0;32melse\u001b[0m\u001b[0;34m:\u001b[0m\u001b[0;34m\u001b[0m\u001b[0;34m\u001b[0m\u001b[0m\n\u001b[1;32m    942\u001b[0m                     \u001b[0mself\u001b[0m\u001b[0;34m.\u001b[0m\u001b[0m_output\u001b[0m\u001b[0;34m.\u001b[0m\u001b[0mextend\u001b[0m\u001b[0;34m(\u001b[0m\u001b[0mjob\u001b[0m\u001b[0;34m.\u001b[0m\u001b[0mget\u001b[0m\u001b[0;34m(\u001b[0m\u001b[0;34m)\u001b[0m\u001b[0;34m)\u001b[0m\u001b[0;34m\u001b[0m\u001b[0;34m\u001b[0m\u001b[0m\n",
      "\u001b[0;32m~/opt/anaconda3/lib/python3.8/site-packages/joblib/_parallel_backends.py\u001b[0m in \u001b[0;36mwrap_future_result\u001b[0;34m(future, timeout)\u001b[0m\n\u001b[1;32m    540\u001b[0m         AsyncResults.get from multiprocessing.\"\"\"\n\u001b[1;32m    541\u001b[0m         \u001b[0;32mtry\u001b[0m\u001b[0;34m:\u001b[0m\u001b[0;34m\u001b[0m\u001b[0;34m\u001b[0m\u001b[0m\n\u001b[0;32m--> 542\u001b[0;31m             \u001b[0;32mreturn\u001b[0m \u001b[0mfuture\u001b[0m\u001b[0;34m.\u001b[0m\u001b[0mresult\u001b[0m\u001b[0;34m(\u001b[0m\u001b[0mtimeout\u001b[0m\u001b[0;34m=\u001b[0m\u001b[0mtimeout\u001b[0m\u001b[0;34m)\u001b[0m\u001b[0;34m\u001b[0m\u001b[0;34m\u001b[0m\u001b[0m\n\u001b[0m\u001b[1;32m    543\u001b[0m         \u001b[0;32mexcept\u001b[0m \u001b[0mCfTimeoutError\u001b[0m \u001b[0;32mas\u001b[0m \u001b[0me\u001b[0m\u001b[0;34m:\u001b[0m\u001b[0;34m\u001b[0m\u001b[0;34m\u001b[0m\u001b[0m\n\u001b[1;32m    544\u001b[0m             \u001b[0;32mraise\u001b[0m \u001b[0mTimeoutError\u001b[0m \u001b[0;32mfrom\u001b[0m \u001b[0me\u001b[0m\u001b[0;34m\u001b[0m\u001b[0;34m\u001b[0m\u001b[0m\n",
      "\u001b[0;32m~/opt/anaconda3/lib/python3.8/concurrent/futures/_base.py\u001b[0m in \u001b[0;36mresult\u001b[0;34m(self, timeout)\u001b[0m\n\u001b[1;32m    432\u001b[0m                 \u001b[0;32mreturn\u001b[0m \u001b[0mself\u001b[0m\u001b[0;34m.\u001b[0m\u001b[0m__get_result\u001b[0m\u001b[0;34m(\u001b[0m\u001b[0;34m)\u001b[0m\u001b[0;34m\u001b[0m\u001b[0;34m\u001b[0m\u001b[0m\n\u001b[1;32m    433\u001b[0m \u001b[0;34m\u001b[0m\u001b[0m\n\u001b[0;32m--> 434\u001b[0;31m             \u001b[0mself\u001b[0m\u001b[0;34m.\u001b[0m\u001b[0m_condition\u001b[0m\u001b[0;34m.\u001b[0m\u001b[0mwait\u001b[0m\u001b[0;34m(\u001b[0m\u001b[0mtimeout\u001b[0m\u001b[0;34m)\u001b[0m\u001b[0;34m\u001b[0m\u001b[0;34m\u001b[0m\u001b[0m\n\u001b[0m\u001b[1;32m    435\u001b[0m \u001b[0;34m\u001b[0m\u001b[0m\n\u001b[1;32m    436\u001b[0m             \u001b[0;32mif\u001b[0m \u001b[0mself\u001b[0m\u001b[0;34m.\u001b[0m\u001b[0m_state\u001b[0m \u001b[0;32min\u001b[0m \u001b[0;34m[\u001b[0m\u001b[0mCANCELLED\u001b[0m\u001b[0;34m,\u001b[0m \u001b[0mCANCELLED_AND_NOTIFIED\u001b[0m\u001b[0;34m]\u001b[0m\u001b[0;34m:\u001b[0m\u001b[0;34m\u001b[0m\u001b[0;34m\u001b[0m\u001b[0m\n",
      "\u001b[0;32m~/opt/anaconda3/lib/python3.8/threading.py\u001b[0m in \u001b[0;36mwait\u001b[0;34m(self, timeout)\u001b[0m\n\u001b[1;32m    300\u001b[0m         \u001b[0;32mtry\u001b[0m\u001b[0;34m:\u001b[0m    \u001b[0;31m# restore state no matter what (e.g., KeyboardInterrupt)\u001b[0m\u001b[0;34m\u001b[0m\u001b[0;34m\u001b[0m\u001b[0m\n\u001b[1;32m    301\u001b[0m             \u001b[0;32mif\u001b[0m \u001b[0mtimeout\u001b[0m \u001b[0;32mis\u001b[0m \u001b[0;32mNone\u001b[0m\u001b[0;34m:\u001b[0m\u001b[0;34m\u001b[0m\u001b[0;34m\u001b[0m\u001b[0m\n\u001b[0;32m--> 302\u001b[0;31m                 \u001b[0mwaiter\u001b[0m\u001b[0;34m.\u001b[0m\u001b[0macquire\u001b[0m\u001b[0;34m(\u001b[0m\u001b[0;34m)\u001b[0m\u001b[0;34m\u001b[0m\u001b[0;34m\u001b[0m\u001b[0m\n\u001b[0m\u001b[1;32m    303\u001b[0m                 \u001b[0mgotit\u001b[0m \u001b[0;34m=\u001b[0m \u001b[0;32mTrue\u001b[0m\u001b[0;34m\u001b[0m\u001b[0;34m\u001b[0m\u001b[0m\n\u001b[1;32m    304\u001b[0m             \u001b[0;32melse\u001b[0m\u001b[0;34m:\u001b[0m\u001b[0;34m\u001b[0m\u001b[0;34m\u001b[0m\u001b[0m\n",
      "\u001b[0;31mKeyboardInterrupt\u001b[0m: "
     ]
    }
   ],
   "source": [
    "svc = SVC()\n",
    "kernel = ['rbf','poly']\n",
    "degree = [3,5,7]\n",
    "C = [10,1.0,0.5]\n",
    "gamma = [10,1.0,0.5]\n",
    "params_grid = {'C':C,'gamma':gamma,'kernel':kernel,'degree':degree}\n",
    "svc_grid = GridSearchCV(svc,params_grid,cv=time,scoring='accuracy',n_jobs = -1,verbose = 3)\n",
    "svc_grid.fit(x_train_scaled,y_train)\n",
    "print(svc_grid.best_params_)"
   ]
  },
  {
   "cell_type": "code",
   "execution_count": 42,
   "metadata": {},
   "outputs": [
    {
     "name": "stdout",
     "output_type": "stream",
     "text": [
      "Fitting 3 folds for each of 9 candidates, totalling 27 fits\n"
     ]
    },
    {
     "name": "stderr",
     "output_type": "stream",
     "text": [
      "[Parallel(n_jobs=-1)]: Using backend LokyBackend with 8 concurrent workers.\n",
      "[Parallel(n_jobs=-1)]: Done  22 out of  27 | elapsed:   28.1s remaining:    6.4s\n"
     ]
    },
    {
     "name": "stdout",
     "output_type": "stream",
     "text": [
      "{'C': 0.5, 'gamma': 0.5}\n"
     ]
    },
    {
     "name": "stderr",
     "output_type": "stream",
     "text": [
      "[Parallel(n_jobs=-1)]: Done  27 out of  27 | elapsed:  5.9min finished\n"
     ]
    }
   ],
   "source": [
    "svc = SVC(kernel='poly')\n",
    "C = [10,1.0,0.5]\n",
    "gamma = [10,1.0,0.5]\n",
    "params_grid = {'C':C,'gamma':gamma}\n",
    "svc_grid = GridSearchCV(svc,params_grid,cv=time,scoring='accuracy',n_jobs = -1,verbose = 3)\n",
    "svc_grid.fit(x_train_scaled,y_train)\n",
    "print(svc_grid.best_params_)"
   ]
  },
  {
   "cell_type": "markdown",
   "metadata": {},
   "source": [
    "### Support Vector Machine"
   ]
  },
  {
   "cell_type": "code",
   "execution_count": 43,
   "metadata": {},
   "outputs": [
    {
     "name": "stdout",
     "output_type": "stream",
     "text": [
      "{0.0: 150, 1.0: 606}\n"
     ]
    }
   ],
   "source": [
    "pred = svc_grid.predict(x_test_scaled)\n",
    "unique,counts = np.unique(pred,return_counts=True)\n",
    "print(dict(zip(unique,counts)))"
   ]
  },
  {
   "cell_type": "code",
   "execution_count": null,
   "metadata": {},
   "outputs": [],
   "source": []
  }
 ],
 "metadata": {
  "kernelspec": {
   "display_name": "Python 3",
   "language": "python",
   "name": "python3"
  },
  "language_info": {
   "codemirror_mode": {
    "name": "ipython",
    "version": 3
   },
   "file_extension": ".py",
   "mimetype": "text/x-python",
   "name": "python",
   "nbconvert_exporter": "python",
   "pygments_lexer": "ipython3",
   "version": "3.8.5"
  }
 },
 "nbformat": 4,
 "nbformat_minor": 4
}
