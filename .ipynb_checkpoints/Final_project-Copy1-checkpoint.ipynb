{
 "cells": [
  {
   "cell_type": "code",
   "execution_count": 239,
   "metadata": {},
   "outputs": [],
   "source": [
    "import yfinance as yf \n",
    "import pandas as pd\n",
    "import numpy as np\n",
    "from sklearn.svm import SVC\n",
    "from sklearn.model_selection import GridSearchCV,TimeSeriesSplit\n",
    "from sklearn.metrics import accuracy_score,f1_score\n",
    "from sklearn.svm import SVC\n",
    "from sklearn.neural_network import MLPClassifier\n",
    "from sklearn.tree import DecisionTreeClassifier\n",
    "from sklearn.ensemble import VotingClassifier,BaggingClassifier,AdaBoostClassifier\n",
    "from sklearn.linear_model import LogisticRegression\n",
    "import matplotlib.pyplot as plt\n",
    "from numpy import hstack\n",
    "from sklearn.model_selection import train_test_split\n",
    "from warnings import simplefilter\n",
    "from sklearn.exceptions import ConvergenceWarning\n",
    "simplefilter(\"ignore\", category=ConvergenceWarning)\n",
    "from mlxtend.evaluate import bias_variance_decomp"
   ]
  },
  {
   "cell_type": "markdown",
   "metadata": {},
   "source": [
    "# Objectives"
   ]
  },
  {
   "cell_type": "markdown",
   "metadata": {},
   "source": [
    "The main objective for this project is to study the impact on applying Ensemble method in predicting the price movement in stock market. Over this two decades, many researchers have shifted their attention into using Machine Learning algorithms to predict the stock market. This became more common as the advancement of Deep Learning technique such RNN has proven a lot of success in predicting the stock market. However, Ensemble method has also gained its reputation in these recent years due its success in improving the model's accuracy in various sectors such as health, agriculture, energy and finance. Besides that, it has always been adopted by Machine Learning research team at Kaggle competitions where they often achieve impressive results. For example, the top two teams in Netflix competition also utilise Ensemble method to improve their model. Hence, in this project, we will be looking at how Ensemble methods will improve the accuracy in predicting stock market."
   ]
  },
  {
   "cell_type": "markdown",
   "metadata": {},
   "source": [
    "### Project Framework"
   ]
  },
  {
   "cell_type": "markdown",
   "metadata": {},
   "source": [
    "The project will be seperated into different parts and it will be listed in the below:\n",
    "- Feature Construction\n",
    "- Data Pre-processing\n",
    "- Strategy for cross validation\n",
    "- Building of Machine Learning and Ensemble methods\n",
    "- Comparing the accuracy and error metrics of models"
   ]
  },
  {
   "cell_type": "markdown",
   "metadata": {},
   "source": [
    "### Feature Construction"
   ]
  },
  {
   "cell_type": "markdown",
   "metadata": {},
   "source": [
    "In analysing the stock market, the two common methods that have been used are namely: fundamental analysis and technical analysis. Fundamental analyst use financial statements and industry trends to see if an asset is under or overvalued. However, for technical analysis, it uses historic market price to forecast the direction of market price, primarily price and volume. "
   ]
  },
  {
   "cell_type": "markdown",
   "metadata": {},
   "source": [
    "For this project, we will adopt the strategy of using 9 different technical indicators from technical analysis to construct our feature input to Machine Learning models and Ensemble method."
   ]
  },
  {
   "cell_type": "markdown",
   "metadata": {},
   "source": [
    "### Fetch Dataset"
   ]
  },
  {
   "cell_type": "markdown",
   "metadata": {},
   "source": [
    "The Yahoo finance API provides financial information such as financial news, price data and financial reports of a stock. In this project, we will retrieve the opening price, closing price and volume for a certain period."
   ]
  },
  {
   "cell_type": "markdown",
   "metadata": {},
   "source": [
    "Instead of making individual stock prediction, we will use Nifty 50 and S&P 500 for stock index prediction as these stock index consists a list of top companies in the market. Besides that, using stock index from different continents will also helps us in building a more roboust model"
   ]
  },
  {
   "cell_type": "code",
   "execution_count": 4,
   "metadata": {},
   "outputs": [],
   "source": [
    "start_date = \"2004-11-01\"\n",
    "end_date = \"2021-01-31\""
   ]
  },
  {
   "cell_type": "code",
   "execution_count": 5,
   "metadata": {},
   "outputs": [
    {
     "name": "stdout",
     "output_type": "stream",
     "text": [
      "[*********************100%***********************]  1 of 1 completed\n",
      "[*********************100%***********************]  1 of 1 completed\n"
     ]
    }
   ],
   "source": [
    "sp500 = yf.download(\"SPY\",start= start_date,end=end_date)\n",
    "nifty50 = yf.download(\"^NSEI\",start= start_date,end=end_date)"
   ]
  },
  {
   "cell_type": "code",
   "execution_count": 350,
   "metadata": {},
   "outputs": [
    {
     "data": {
      "text/html": [
       "<div>\n",
       "<style scoped>\n",
       "    .dataframe tbody tr th:only-of-type {\n",
       "        vertical-align: middle;\n",
       "    }\n",
       "\n",
       "    .dataframe tbody tr th {\n",
       "        vertical-align: top;\n",
       "    }\n",
       "\n",
       "    .dataframe thead th {\n",
       "        text-align: right;\n",
       "    }\n",
       "</style>\n",
       "<table border=\"1\" class=\"dataframe\">\n",
       "  <thead>\n",
       "    <tr style=\"text-align: right;\">\n",
       "      <th></th>\n",
       "      <th>Open</th>\n",
       "      <th>High</th>\n",
       "      <th>Low</th>\n",
       "      <th>Close</th>\n",
       "      <th>Adj Close</th>\n",
       "      <th>Volume</th>\n",
       "      <th>tp</th>\n",
       "      <th>sma_tp</th>\n",
       "      <th>mad</th>\n",
       "      <th>CCI</th>\n",
       "    </tr>\n",
       "    <tr>\n",
       "      <th>Date</th>\n",
       "      <th></th>\n",
       "      <th></th>\n",
       "      <th></th>\n",
       "      <th></th>\n",
       "      <th></th>\n",
       "      <th></th>\n",
       "      <th></th>\n",
       "      <th></th>\n",
       "      <th></th>\n",
       "      <th></th>\n",
       "    </tr>\n",
       "  </thead>\n",
       "  <tbody>\n",
       "    <tr>\n",
       "      <th>2004-11-01</th>\n",
       "      <td>113.559998</td>\n",
       "      <td>113.839996</td>\n",
       "      <td>113.199997</td>\n",
       "      <td>113.510002</td>\n",
       "      <td>80.529953</td>\n",
       "      <td>36720900</td>\n",
       "      <td>113.516665</td>\n",
       "      <td>NaN</td>\n",
       "      <td>NaN</td>\n",
       "      <td>NaN</td>\n",
       "    </tr>\n",
       "    <tr>\n",
       "      <th>2004-11-02</th>\n",
       "      <td>113.669998</td>\n",
       "      <td>114.570000</td>\n",
       "      <td>113.220001</td>\n",
       "      <td>113.550003</td>\n",
       "      <td>80.558319</td>\n",
       "      <td>56210000</td>\n",
       "      <td>113.780001</td>\n",
       "      <td>NaN</td>\n",
       "      <td>NaN</td>\n",
       "      <td>NaN</td>\n",
       "    </tr>\n",
       "    <tr>\n",
       "      <th>2004-11-03</th>\n",
       "      <td>115.029999</td>\n",
       "      <td>115.360001</td>\n",
       "      <td>114.239998</td>\n",
       "      <td>114.980003</td>\n",
       "      <td>81.572876</td>\n",
       "      <td>76960200</td>\n",
       "      <td>114.860001</td>\n",
       "      <td>NaN</td>\n",
       "      <td>NaN</td>\n",
       "      <td>NaN</td>\n",
       "    </tr>\n",
       "    <tr>\n",
       "      <th>2004-11-04</th>\n",
       "      <td>114.779999</td>\n",
       "      <td>116.669998</td>\n",
       "      <td>114.680000</td>\n",
       "      <td>116.550003</td>\n",
       "      <td>82.686653</td>\n",
       "      <td>55350300</td>\n",
       "      <td>115.966667</td>\n",
       "      <td>NaN</td>\n",
       "      <td>NaN</td>\n",
       "      <td>NaN</td>\n",
       "    </tr>\n",
       "    <tr>\n",
       "      <th>2004-11-05</th>\n",
       "      <td>117.050003</td>\n",
       "      <td>117.639999</td>\n",
       "      <td>116.489998</td>\n",
       "      <td>117.279999</td>\n",
       "      <td>83.204620</td>\n",
       "      <td>63287200</td>\n",
       "      <td>117.136665</td>\n",
       "      <td>NaN</td>\n",
       "      <td>NaN</td>\n",
       "      <td>NaN</td>\n",
       "    </tr>\n",
       "  </tbody>\n",
       "</table>\n",
       "</div>"
      ],
      "text/plain": [
       "                  Open        High         Low       Close  Adj Close  \\\n",
       "Date                                                                    \n",
       "2004-11-01  113.559998  113.839996  113.199997  113.510002  80.529953   \n",
       "2004-11-02  113.669998  114.570000  113.220001  113.550003  80.558319   \n",
       "2004-11-03  115.029999  115.360001  114.239998  114.980003  81.572876   \n",
       "2004-11-04  114.779999  116.669998  114.680000  116.550003  82.686653   \n",
       "2004-11-05  117.050003  117.639999  116.489998  117.279999  83.204620   \n",
       "\n",
       "              Volume          tp  sma_tp  mad  CCI  \n",
       "Date                                                \n",
       "2004-11-01  36720900  113.516665     NaN  NaN  NaN  \n",
       "2004-11-02  56210000  113.780001     NaN  NaN  NaN  \n",
       "2004-11-03  76960200  114.860001     NaN  NaN  NaN  \n",
       "2004-11-04  55350300  115.966667     NaN  NaN  NaN  \n",
       "2004-11-05  63287200  117.136665     NaN  NaN  NaN  "
      ]
     },
     "execution_count": 350,
     "metadata": {},
     "output_type": "execute_result"
    }
   ],
   "source": [
    "sp500.head()"
   ]
  },
  {
   "cell_type": "markdown",
   "metadata": {},
   "source": [
    "### Simple Moving Average (SMA) - 10 days"
   ]
  },
  {
   "cell_type": "markdown",
   "metadata": {},
   "source": [
    "- Simple moving average is a technical analysis tools that smooths out price data by creating a constantly updated average price\n",
    "- However, simple moving averages don't make prediction about the future value of a stock, it simply reveal the trend of the stock over a period of time\n",
    "\n",
    "Formula for Simple Moving Averages:<br><br>\n",
    "$SMA = \\frac {C _{1} + C _{2} + ... + C _{n}}{n}$<br><br>\n",
    "where:<br> \n",
    "$C$ = The closing price of a stock<br>\n",
    "$n$ = the number of total periods\n",
    "\n"
   ]
  },
  {
   "cell_type": "code",
   "execution_count": 6,
   "metadata": {},
   "outputs": [],
   "source": [
    "def SMA(data):\n",
    "    return data['Close'].rolling(window=10).mean()"
   ]
  },
  {
   "cell_type": "markdown",
   "metadata": {},
   "source": [
    "### Weighted Moving Average (WMA) - 10 days"
   ]
  },
  {
   "cell_type": "markdown",
   "metadata": {},
   "source": [
    "- Weighted moving average is very similar to SMA as it also smooths out the price data but WMA gives more weight to the recent price and gradually less as we look back in time\n",
    "- For example the closing price of stock Z for the past 3 days are 20, 30 and 50 usd. Since it is a three-day period, the most recent day(50 usd) will multiply with the largest weight(3) and the second day(30 usd) will multiply with the second largest weight(2) and so on\n",
    "- The sum of the value after multiplying with the weight will be divide by the sum of the periods which is 1+2+3 = 6\n",
    "\n",
    "Formula for Weighted Moving Average:<br><br>\n",
    "$WMA = \\frac {C_{1}W_{1} + C_{2}W_{2} + ... + C_{n}W_{n}}{W_{n} + W_{n-1} + ... + 1}$<br><br>\n",
    "where:<br>\n",
    "$C$ = The closing price of a stock<br>\n",
    "$W$ = The weighting factor<br>\n",
    "$n$ = Number of periods in the weighting group"
   ]
  },
  {
   "cell_type": "code",
   "execution_count": 7,
   "metadata": {},
   "outputs": [],
   "source": [
    "def WMA(data):\n",
    "    weights = np.arange(1,11)\n",
    "    return data['Close'].rolling(10).apply(lambda price: np.dot(price,weights)/weights.sum(),raw=True)"
   ]
  },
  {
   "cell_type": "markdown",
   "metadata": {},
   "source": [
    "### Relative Strength Index (RSI)\n",
    "\n",
    "- RSI measures the extent of recent price changes to determine overbought or oversold conditions in an instruments price.\n",
    "- It is one of the most trusted indicators for anyone planning to use oscillators to determine buy and sell points"
   ]
  },
  {
   "cell_type": "markdown",
   "metadata": {},
   "source": [
    "The formula for RSI:<br><br>\n",
    "$RS = \\frac{Avg.Gain}{Avg.Loss}$ <br><br>\n",
    "$RSI = 100 - \\frac {100} {1+RS}$\n",
    "\n"
   ]
  },
  {
   "cell_type": "code",
   "execution_count": 8,
   "metadata": {},
   "outputs": [],
   "source": [
    "def RSI(data):\n",
    "    df = pd.DataFrame()\n",
    "    df['Diff'] = data['Close'].transform(lambda x: x.diff())\n",
    "\n",
    "    df['Up'] = df['Diff']\n",
    "    df.loc[(df['Up']<0),'Up'] = 0\n",
    "\n",
    "    df['Down'] = df['Diff']\n",
    "    df.loc[(df['Down']>0),'Down'] = 0\n",
    "    df['Down'] = abs(df['Down'])\n",
    "\n",
    "    df['rsi_up'] = df['Up'].rolling(window=14).mean()\n",
    "    df['rsi_down'] = df['Down'].rolling(window=14).mean()\n",
    "    \n",
    "    df['rs'] = df['rsi_up'] / df['rsi_down']\n",
    "    df['rsi'] = round(100 - (100/(1+df['rs'])))\n",
    "    return df['rsi']\n",
    "    "
   ]
  },
  {
   "cell_type": "markdown",
   "metadata": {},
   "source": [
    "### Momentum "
   ]
  },
  {
   "cell_type": "markdown",
   "metadata": {},
   "source": [
    "- Momentum is a simple technical indicator used in the financial field\n",
    "- It simply calculate the rate of change of the closing price in a certain period\n",
    "- For example, a ten-days momentum can be calculated by subtracting the closing price in the most recent day and 10th day<br><br>\n",
    "\n",
    "The formula for Momentum:\n",
    "\n",
    "$mom = C_{t} - C_{t-9}$<br>\n",
    "where:<br>\n",
    "$C$ = The closing price<br>\n",
    "$t$ = The number of period"
   ]
  },
  {
   "cell_type": "code",
   "execution_count": 9,
   "metadata": {},
   "outputs": [],
   "source": [
    "def mom(data):\n",
    "    close_9 = data['Close'].shift(9)\n",
    "    momentum = data['Close'] - close_9\n",
    "    return momentum"
   ]
  },
  {
   "cell_type": "markdown",
   "metadata": {},
   "source": [
    "### Williams %R\n",
    "\n",
    "- William %R is a momentum indicator developed by Larry Williams that moves between 0 and -100\n",
    "- It is used to measure overbought and oversold levels to allow traders to find entry and exit point in the stock market<br><br>\n",
    "\n",
    "The formula for William %R:\n",
    "\n",
    "$WilliamsR = \\frac {H_{n} - C_{t}}{H_{n} - L_{n}} * -100$<br><br>\n",
    "where:<br>\n",
    "$H_{n}$ = The high price at period n<br>\n",
    "$L_{n}$ = The low price at period n<br>\n",
    "$C_{t}$ = The high price at time t\n"
   ]
  },
  {
   "cell_type": "code",
   "execution_count": 10,
   "metadata": {},
   "outputs": [],
   "source": [
    "def williamR(data):\n",
    "    high = data['High'].rolling(window=14).max()\n",
    "    low = data['Low'].rolling(window=14).min()\n",
    "    wr = -100 * ((high-data['Close']) / (high-low))\n",
    "    return wr\n",
    "    "
   ]
  },
  {
   "cell_type": "markdown",
   "metadata": {},
   "source": [
    "### Commodity Channel Index (CCI)\n",
    "- CCI is a momentum-based oscillator that developed by Donald Lambert\n",
    "- It is used to examine the price trend direction and strength to allow traders to decide the entry and exit point in the stock market\n",
    "- CCI was originally developed to spot long-term trend changes, however traders have been use it on all different timeframes.<br><br>\n",
    "\n",
    "The formula for CCI:<br>\n",
    "$CCI = \\frac {TP - MA} {0.015 * MD}$<br><br>\n",
    "where:<br>\n",
    "TP = Typical Price<br>\n",
    "Typical Price = $\\sum \\limits _{i=1} ^{P} ((High + Low + Close) \\div 3)$<br>\n",
    "MA = Moving Average<br>\n",
    "Moving Average = $(\\sum \\limits _{i=1} ^{P} Typical Price) \\div P $<br>\n",
    "Mean Deviation = $ (\\sum \\limits _{i=1} ^{P} |Typical Price - MA|) \\div P $<br>\n",
    "P = Number of periods\n"
   ]
  },
  {
   "cell_type": "code",
   "execution_count": 11,
   "metadata": {},
   "outputs": [],
   "source": [
    "def CCI(data):\n",
    "    data['tp'] = (data['High'] + data['Low'] + data['Close']) / 3\n",
    "    data['sma_tp'] = data['tp'].rolling(window=12).mean()\n",
    "    data['mad'] = data['tp'].rolling(window=12).apply(lambda x: pd.Series(x).mad())\n",
    "    data['CCI'] = (data['tp'] - data['sma_tp']) / (0.015 * data['mad'])\n",
    "    return data['CCI']"
   ]
  },
  {
   "cell_type": "markdown",
   "metadata": {},
   "source": [
    "### Moving Average Convergence Divergence (MACD)"
   ]
  },
  {
   "cell_type": "markdown",
   "metadata": {},
   "source": [
    "- Moving average convergence divergence is also another famous trend-based momentum indicator that shows the relationship between two different period of moving averages of a security's price\n",
    "- It is calculated by subtracting the 26-period exponential moving average from the 12-period exponential moving average\n",
    "- It is often used to determine whether the market is in bullish or bearish\n",
    "\n",
    "\n"
   ]
  },
  {
   "cell_type": "markdown",
   "metadata": {},
   "source": [
    "The formula for MACD:<br><br>\n",
    "$MACD = EMA _{26} - EMA _{12}$"
   ]
  },
  {
   "cell_type": "code",
   "execution_count": 12,
   "metadata": {},
   "outputs": [],
   "source": [
    "def MACD(data):\n",
    "    macd_1 = data['Close'].ewm(span=26,adjust=False,min_periods=26).mean()\n",
    "    macd_2 = data['Close'].ewm(span=12,adjust=False,min_periods=12).mean()\n",
    "    macd = macd_2 - macd_1\n",
    "    \n",
    "    return macd"
   ]
  },
  {
   "cell_type": "markdown",
   "metadata": {},
   "source": [
    "### Stochastic Oscillator"
   ]
  },
  {
   "cell_type": "markdown",
   "metadata": {},
   "source": [
    " - Stochastic Oscillator measures the momentum of price movement \n",
    " - Stochastic Oscillator is range-bound, which means it is always between 0 and 100 and this can be used to identify overbought and oversold levels\n",
    " - There are two different stochastic oscillator, namely %K and %D where %D is the 3-day simple moving average of %K"
   ]
  },
  {
   "cell_type": "markdown",
   "metadata": {},
   "source": [
    "### Stochastic %K\n",
    "The formula for Stochastic K:<br><br>\n",
    "\n",
    "$ K = \\frac {(C - L _{period})} {(H _{period} - L _{period})} * 100$ <br><br>\n",
    "\n",
    "where: <br>\n",
    "$ C $ = The most recent closing price  <br>\n",
    "$ L _{period} $ = The lowest price traded of the trading period  <br>\n",
    "$ L _{period} $ = The highest price traded of the trading period  <br>"
   ]
  },
  {
   "cell_type": "code",
   "execution_count": 13,
   "metadata": {},
   "outputs": [],
   "source": [
    "def stochastic_k(data):\n",
    "    df = pd.DataFrame()\n",
    "    df['high'] = data['High'].rolling(14).max()\n",
    "    df['low'] = data['Low'].rolling(14).min()\n",
    "    df['percentage_k'] = (data['Close'] - df['low']) * 100 / (df['high'] - df['low'])\n",
    "    \n",
    "    return df['percentage_k']"
   ]
  },
  {
   "cell_type": "markdown",
   "metadata": {},
   "source": [
    "### Stochastic %D\n",
    "The formula for Stochastic D:<br><br>\n",
    "\n",
    "$ D = \\frac {K _{1} + K _{2} .... + K _{n}} {n}$\n",
    "<br><br>\n",
    "where:<br>\n",
    "$ K $ = Fast Stochastic indicator <br>\n",
    "$ n $ = Trading period"
   ]
  },
  {
   "cell_type": "code",
   "execution_count": 14,
   "metadata": {},
   "outputs": [],
   "source": [
    "def stochastic_d(data):\n",
    "    df = pd.DataFrame()\n",
    "    df['high'] = data['High'].rolling(14).max()\n",
    "    df['low'] = data['Low'].rolling(14).min()\n",
    "    df['percen_k'] = (data['Close'] - df['low']) * 100 / (df['high'] - df['low'])\n",
    "    df['percen_d'] = df['percen_k'].rolling(window=3).mean()\n",
    "    \n",
    "    return df['percen_d']"
   ]
  },
  {
   "cell_type": "markdown",
   "metadata": {},
   "source": [
    "### Data Pre-processing"
   ]
  },
  {
   "cell_type": "markdown",
   "metadata": {},
   "source": [
    "A research done by Pajan shows that an another approach of using technical indicators does improve the model. This approach is to transform the continous value obtained from technical indicators into discrete form. In general, every technical indicators have its own way of interpreting the market. For example, in RSI, traders often sells their stock when RSI value exceeds 70 or above and buys when RSI value goes 30 or below. In this part, we will first transform each technical indicators that we constructed into discrete form. "
   ]
  },
  {
   "cell_type": "markdown",
   "metadata": {},
   "source": [
    "### Simple Moving Average 10-days (SMA)"
   ]
  },
  {
   "cell_type": "markdown",
   "metadata": {},
   "source": [
    "SMA and EMA are both used to smooth out the price data by constantly update the average price. In here, if SMA and EMA are higher than the current price, then the trend is 'down' and denote as '-1'. If SMA and EMA are lower than the current price, then the trend is 'up' and denote as '+1'"
   ]
  },
  {
   "cell_type": "code",
   "execution_count": 15,
   "metadata": {},
   "outputs": [],
   "source": [
    "#Discrete \n",
    "def SMA_discrete(data):\n",
    "    df = pd.DataFrame()\n",
    "    df['sma'] = SMA(data)\n",
    "    df['sma_discrete'] = np.where(df['sma'] > data['Close'],-1,1)\n",
    "    return df['sma_discrete']"
   ]
  },
  {
   "cell_type": "markdown",
   "metadata": {},
   "source": [
    "### Weighted Moving Average 10-days (WMA)"
   ]
  },
  {
   "cell_type": "code",
   "execution_count": 16,
   "metadata": {},
   "outputs": [],
   "source": [
    "def WMA_discrete(data):\n",
    "    df = pd.DataFrame()\n",
    "    df['wma'] = WMA(data)\n",
    "    df['wma_discrete'] = np.where(df['wma'] > data['Close'],-1,1)\n",
    "    return df['wma_discrete']"
   ]
  },
  {
   "cell_type": "markdown",
   "metadata": {},
   "source": [
    "### Relative Strength Index (RSI)"
   ]
  },
  {
   "cell_type": "markdown",
   "metadata": {},
   "source": [
    "For RSI, if the value of RSI is higher than 70, it means the stock is overbought and we will denote it as '-1' and if the value of RSI is lower than 30, it means the stock is oversold and we will denote it as '+1'. For the case that the value of RSI is between 30 and 70, if the value of RSI at time 't' is higher than 't-1', we will denote it as '+1' and vice-a-versa"
   ]
  },
  {
   "cell_type": "code",
   "execution_count": 17,
   "metadata": {},
   "outputs": [],
   "source": [
    "def cond_rsi(data):\n",
    "    if (data.rsi < 70) & (data.rsi > 30):\n",
    "        if (data.rsi > data.previous):\n",
    "            return 1\n",
    "        else :\n",
    "            return -1\n",
    "    elif (data.rsi > 70):\n",
    "        return -1\n",
    "    else :\n",
    "        return 1 \n",
    "\n",
    "\n",
    "\n",
    "\n",
    "def rsi_discrete(data):\n",
    "    df = pd.DataFrame()\n",
    "    \n",
    "    df['rsi'] = RSI(data)\n",
    "    df['previous'] = df['rsi'].shift(1)\n",
    "    df['discrete_rsi'] = df.apply(cond_rsi,axis=1)\n",
    "    \n",
    "    return df['discrete_rsi']"
   ]
  },
  {
   "cell_type": "markdown",
   "metadata": {},
   "source": [
    "### Momentum"
   ]
  },
  {
   "cell_type": "markdown",
   "metadata": {},
   "source": [
    "Since momentum calculates the rate of change of stock prices. A positive value of momentum indicates 'up' trend and we will denote as '+1' and a negative value of momentum indicates 'down' trend and will be denote as '-1'"
   ]
  },
  {
   "cell_type": "code",
   "execution_count": 18,
   "metadata": {},
   "outputs": [],
   "source": [
    "def mom_discrete(data):\n",
    "    df = pd.DataFrame()\n",
    "    df['mom'] = mom(data)\n",
    "    df['discrete_momentum'] = np.where(df['mom'] > 0 , 1, 0)\n",
    "    \n",
    "    return df['discrete_momentum']\n",
    "    "
   ]
  },
  {
   "cell_type": "markdown",
   "metadata": {},
   "source": [
    "### Commodity Channel Index (CCI)"
   ]
  },
  {
   "cell_type": "markdown",
   "metadata": {},
   "source": [
    "In this part, we set 200 as overbought level and -200 as oversold level. Hence, if the value of CCI is higher than 200, we will denote as '-1' and vice-a-versa. For the case when the value of CCI is between -200 and 200, if the value of CCI at time 't' is higher than time 't-1', the trend is 'up' and we denote as '+1'."
   ]
  },
  {
   "cell_type": "code",
   "execution_count": 19,
   "metadata": {},
   "outputs": [],
   "source": [
    "def cond_CCI(row):\n",
    "    if (row.CCI <= 200) & (row.CCI >= -200):\n",
    "        if (row.CCI > row.dif):\n",
    "            return 1\n",
    "        else:\n",
    "            return -1\n",
    "    elif (row.CCI > 200):\n",
    "        return -1\n",
    "    else:\n",
    "        return 1\n",
    "\n",
    "\n",
    "def CCI_discrete(data):\n",
    "    df = pd.DataFrame()\n",
    "    \n",
    "    df['CCI'] = CCI(data)\n",
    "    df['dif'] = df['CCI'].shift(1)\n",
    "    df['CCI_discrete'] = df.apply(cond_CCI,axis=1)\n",
    "    \n",
    "    \n",
    "    return df['CCI_discrete']"
   ]
  },
  {
   "cell_type": "markdown",
   "metadata": {},
   "source": [
    "### Moving Average Convergence Divergence (MACD)"
   ]
  },
  {
   "cell_type": "markdown",
   "metadata": {},
   "source": [
    "MACD follows the trend of the stock price, which means that if the value of MACD goes up then the stock price is also rising. Hence, the interpretation of MACD in this project will be looking at if the value of MACD at time 't' is greater than the value at time 't-1', then the trend is 'up' and we will denote as '+1' and vice-a-versa"
   ]
  },
  {
   "cell_type": "code",
   "execution_count": 20,
   "metadata": {},
   "outputs": [],
   "source": [
    "def cond_MACD(data):\n",
    "    if (data.macd > data.dif):\n",
    "        return 1\n",
    "    else:\n",
    "        return -1\n",
    "    \n",
    "\n",
    "def MACD_discrete(data):\n",
    "    df = pd.DataFrame()\n",
    "    \n",
    "    df['macd'] = MACD(data)\n",
    "    df['dif'] = df['macd'].shift(1)\n",
    "    df['discrete_macd'] = df.apply(cond_MACD,axis=1)\n",
    "    \n",
    "    \n",
    "    return df['discrete_macd']"
   ]
  },
  {
   "cell_type": "markdown",
   "metadata": {},
   "source": [
    "Stochastic %K, %D and William %R are all stochastic oscillator, as all normalizes price as a percentage between 0 and 100. Hence, we will be using the same interpretation for all these three technical indicators. When the indicators at time 't' is higher than the value at time 't-1' then the trend is 'up' and we denote as '+1' and vice-a-versa"
   ]
  },
  {
   "cell_type": "markdown",
   "metadata": {},
   "source": [
    "### Stochastic Oscillator"
   ]
  },
  {
   "cell_type": "code",
   "execution_count": 21,
   "metadata": {},
   "outputs": [],
   "source": [
    "#Stochastic %K\n",
    "def cond_sto_k(data):\n",
    "    if (data.percen_k > data.previous):\n",
    "        return 1\n",
    "    else:\n",
    "        return -1\n",
    "\n",
    "def discrete_sto_k(data):\n",
    "    df = pd.DataFrame()\n",
    "    \n",
    "    df['percen_k'] = stochastic_k(data)\n",
    "    df['previous'] = df['percen_k'].shift(1)\n",
    "    df['discrete_k'] = df.apply(cond_sto_k,axis=1) \n",
    "    \n",
    "    return df['discrete_k']"
   ]
  },
  {
   "cell_type": "code",
   "execution_count": 22,
   "metadata": {},
   "outputs": [],
   "source": [
    "#Stochastic %D\n",
    "def cond_sto_d(data):\n",
    "    if (data.percen_d > data.previous):\n",
    "        return 1\n",
    "    else:\n",
    "        return -1\n",
    "\n",
    "\n",
    "def discrete_sto_d(data):\n",
    "    df = pd.DataFrame()\n",
    "    \n",
    "    df['percen_d'] = stochastic_d(data)\n",
    "    df['previous'] = df['percen_d'].shift(1)\n",
    "    df['discrete_d'] = df.apply(cond_sto_d,axis=1)\n",
    "    \n",
    "    return df['discrete_d']"
   ]
  },
  {
   "cell_type": "markdown",
   "metadata": {},
   "source": [
    "### Williams %R"
   ]
  },
  {
   "cell_type": "code",
   "execution_count": 23,
   "metadata": {},
   "outputs": [],
   "source": [
    "def cond_wr(data):\n",
    "    if (data.wr > data.previous):\n",
    "        return 1\n",
    "    else:\n",
    "        return -1\n",
    "\n",
    "\n",
    "\n",
    "def discrete_wr(data):\n",
    "    df = pd.DataFrame()\n",
    "    \n",
    "    df['wr'] = williamR(data)\n",
    "    df['previous'] = df['wr'].shift(1)\n",
    "    df['discrete_wr'] = df.apply(cond_wr,axis=1)\n",
    "    \n",
    "    return df['discrete_wr']"
   ]
  },
  {
   "cell_type": "markdown",
   "metadata": {},
   "source": [
    "### Target Variable\n",
    "Since technical indicators are mainly used for short term trading purpose, hence I will be looking at a short term trading period. In this case, I will be using 3 days prediction interval. The idea is when traders look at the technical indicators on today, traders will buy the stock on the next day and hold it for 3 trading days including the day he/she bought. If the closing price on the third day is higher than the opening price on the first day, the value will 1 while the closing price on the third day is lower than the opening price on the first day, the value will be 0"
   ]
  },
  {
   "cell_type": "markdown",
   "metadata": {},
   "source": [
    "To give a more comprehensive view, if a trader looking at technical indicators on 5th of Janurary, the trader will buy the stock on 6th of January and hold the stock until 8th of January. "
   ]
  },
  {
   "cell_type": "code",
   "execution_count": 24,
   "metadata": {},
   "outputs": [],
   "source": [
    "def pred_var(data):\n",
    "    var = pd.DataFrame()\n",
    "    var['Close_in_3'] = data['Close'].transform(lambda x: x.shift(-2))\n",
    "    var['diff'] = (var['Close_in_3'] - data['Open']).shift(-1)\n",
    "    var['act_pred'] = np.where(var['diff']>0,1,0)\n",
    "    var['act_pred'].mask(var['diff'].isna(),np.nan,inplace=True)\n",
    "    return var['act_pred']"
   ]
  },
  {
   "cell_type": "code",
   "execution_count": 25,
   "metadata": {},
   "outputs": [],
   "source": [
    "y_sp = pred_var(sp500)\n",
    "y_nifty = pred_var(nifty50)\n"
   ]
  },
  {
   "cell_type": "code",
   "execution_count": 26,
   "metadata": {},
   "outputs": [
    {
     "data": {
      "text/html": [
       "<div>\n",
       "<style scoped>\n",
       "    .dataframe tbody tr th:only-of-type {\n",
       "        vertical-align: middle;\n",
       "    }\n",
       "\n",
       "    .dataframe tbody tr th {\n",
       "        vertical-align: top;\n",
       "    }\n",
       "\n",
       "    .dataframe thead th {\n",
       "        text-align: right;\n",
       "    }\n",
       "</style>\n",
       "<table border=\"1\" class=\"dataframe\">\n",
       "  <thead>\n",
       "    <tr style=\"text-align: right;\">\n",
       "      <th></th>\n",
       "      <th>sma_discrete</th>\n",
       "      <th>ema_discrete</th>\n",
       "      <th>rsi_discrete</th>\n",
       "      <th>macd_discrete</th>\n",
       "      <th>discrete_sto_k</th>\n",
       "      <th>discrete_sto_d</th>\n",
       "      <th>discrete_williamr</th>\n",
       "      <th>discrete_mom</th>\n",
       "      <th>discrete_cci</th>\n",
       "    </tr>\n",
       "    <tr>\n",
       "      <th>Date</th>\n",
       "      <th></th>\n",
       "      <th></th>\n",
       "      <th></th>\n",
       "      <th></th>\n",
       "      <th></th>\n",
       "      <th></th>\n",
       "      <th></th>\n",
       "      <th></th>\n",
       "      <th></th>\n",
       "    </tr>\n",
       "  </thead>\n",
       "  <tbody>\n",
       "    <tr>\n",
       "      <th>2004-11-01</th>\n",
       "      <td>1</td>\n",
       "      <td>1</td>\n",
       "      <td>1</td>\n",
       "      <td>-1</td>\n",
       "      <td>-1</td>\n",
       "      <td>-1</td>\n",
       "      <td>-1</td>\n",
       "      <td>0</td>\n",
       "      <td>1</td>\n",
       "    </tr>\n",
       "    <tr>\n",
       "      <th>2004-11-02</th>\n",
       "      <td>1</td>\n",
       "      <td>1</td>\n",
       "      <td>1</td>\n",
       "      <td>-1</td>\n",
       "      <td>-1</td>\n",
       "      <td>-1</td>\n",
       "      <td>-1</td>\n",
       "      <td>0</td>\n",
       "      <td>1</td>\n",
       "    </tr>\n",
       "    <tr>\n",
       "      <th>2004-11-03</th>\n",
       "      <td>1</td>\n",
       "      <td>1</td>\n",
       "      <td>1</td>\n",
       "      <td>-1</td>\n",
       "      <td>-1</td>\n",
       "      <td>-1</td>\n",
       "      <td>-1</td>\n",
       "      <td>0</td>\n",
       "      <td>1</td>\n",
       "    </tr>\n",
       "    <tr>\n",
       "      <th>2004-11-04</th>\n",
       "      <td>1</td>\n",
       "      <td>1</td>\n",
       "      <td>1</td>\n",
       "      <td>-1</td>\n",
       "      <td>-1</td>\n",
       "      <td>-1</td>\n",
       "      <td>-1</td>\n",
       "      <td>0</td>\n",
       "      <td>1</td>\n",
       "    </tr>\n",
       "    <tr>\n",
       "      <th>2004-11-05</th>\n",
       "      <td>1</td>\n",
       "      <td>1</td>\n",
       "      <td>1</td>\n",
       "      <td>-1</td>\n",
       "      <td>-1</td>\n",
       "      <td>-1</td>\n",
       "      <td>-1</td>\n",
       "      <td>0</td>\n",
       "      <td>1</td>\n",
       "    </tr>\n",
       "    <tr>\n",
       "      <th>...</th>\n",
       "      <td>...</td>\n",
       "      <td>...</td>\n",
       "      <td>...</td>\n",
       "      <td>...</td>\n",
       "      <td>...</td>\n",
       "      <td>...</td>\n",
       "      <td>...</td>\n",
       "      <td>...</td>\n",
       "      <td>...</td>\n",
       "    </tr>\n",
       "    <tr>\n",
       "      <th>2021-01-25</th>\n",
       "      <td>1</td>\n",
       "      <td>1</td>\n",
       "      <td>-1</td>\n",
       "      <td>1</td>\n",
       "      <td>1</td>\n",
       "      <td>1</td>\n",
       "      <td>1</td>\n",
       "      <td>1</td>\n",
       "      <td>-1</td>\n",
       "    </tr>\n",
       "    <tr>\n",
       "      <th>2021-01-26</th>\n",
       "      <td>1</td>\n",
       "      <td>1</td>\n",
       "      <td>-1</td>\n",
       "      <td>-1</td>\n",
       "      <td>-1</td>\n",
       "      <td>-1</td>\n",
       "      <td>-1</td>\n",
       "      <td>1</td>\n",
       "      <td>1</td>\n",
       "    </tr>\n",
       "    <tr>\n",
       "      <th>2021-01-27</th>\n",
       "      <td>-1</td>\n",
       "      <td>-1</td>\n",
       "      <td>-1</td>\n",
       "      <td>-1</td>\n",
       "      <td>-1</td>\n",
       "      <td>-1</td>\n",
       "      <td>-1</td>\n",
       "      <td>0</td>\n",
       "      <td>-1</td>\n",
       "    </tr>\n",
       "    <tr>\n",
       "      <th>2021-01-28</th>\n",
       "      <td>-1</td>\n",
       "      <td>-1</td>\n",
       "      <td>-1</td>\n",
       "      <td>-1</td>\n",
       "      <td>1</td>\n",
       "      <td>-1</td>\n",
       "      <td>1</td>\n",
       "      <td>0</td>\n",
       "      <td>1</td>\n",
       "    </tr>\n",
       "    <tr>\n",
       "      <th>2021-01-29</th>\n",
       "      <td>-1</td>\n",
       "      <td>-1</td>\n",
       "      <td>-1</td>\n",
       "      <td>-1</td>\n",
       "      <td>-1</td>\n",
       "      <td>-1</td>\n",
       "      <td>-1</td>\n",
       "      <td>0</td>\n",
       "      <td>-1</td>\n",
       "    </tr>\n",
       "  </tbody>\n",
       "</table>\n",
       "<p>4090 rows × 9 columns</p>\n",
       "</div>"
      ],
      "text/plain": [
       "            sma_discrete  ema_discrete  rsi_discrete  macd_discrete  \\\n",
       "Date                                                                  \n",
       "2004-11-01             1             1             1             -1   \n",
       "2004-11-02             1             1             1             -1   \n",
       "2004-11-03             1             1             1             -1   \n",
       "2004-11-04             1             1             1             -1   \n",
       "2004-11-05             1             1             1             -1   \n",
       "...                  ...           ...           ...            ...   \n",
       "2021-01-25             1             1            -1              1   \n",
       "2021-01-26             1             1            -1             -1   \n",
       "2021-01-27            -1            -1            -1             -1   \n",
       "2021-01-28            -1            -1            -1             -1   \n",
       "2021-01-29            -1            -1            -1             -1   \n",
       "\n",
       "            discrete_sto_k  discrete_sto_d  discrete_williamr  discrete_mom  \\\n",
       "Date                                                                          \n",
       "2004-11-01              -1              -1                 -1             0   \n",
       "2004-11-02              -1              -1                 -1             0   \n",
       "2004-11-03              -1              -1                 -1             0   \n",
       "2004-11-04              -1              -1                 -1             0   \n",
       "2004-11-05              -1              -1                 -1             0   \n",
       "...                    ...             ...                ...           ...   \n",
       "2021-01-25               1               1                  1             1   \n",
       "2021-01-26              -1              -1                 -1             1   \n",
       "2021-01-27              -1              -1                 -1             0   \n",
       "2021-01-28               1              -1                  1             0   \n",
       "2021-01-29              -1              -1                 -1             0   \n",
       "\n",
       "            discrete_cci  \n",
       "Date                      \n",
       "2004-11-01             1  \n",
       "2004-11-02             1  \n",
       "2004-11-03             1  \n",
       "2004-11-04             1  \n",
       "2004-11-05             1  \n",
       "...                  ...  \n",
       "2021-01-25            -1  \n",
       "2021-01-26             1  \n",
       "2021-01-27            -1  \n",
       "2021-01-28             1  \n",
       "2021-01-29            -1  \n",
       "\n",
       "[4090 rows x 9 columns]"
      ]
     },
     "execution_count": 26,
     "metadata": {},
     "output_type": "execute_result"
    }
   ],
   "source": [
    "x_sp = pd.DataFrame()\n",
    "x_sp['sma_discrete'] = SMA_discrete(sp500)\n",
    "x_sp['ema_discrete'] = WMA_discrete(sp500)\n",
    "x_sp['rsi_discrete'] = rsi_discrete(sp500)\n",
    "x_sp['macd_discrete'] = MACD_discrete(sp500)\n",
    "x_sp['discrete_sto_k'] = discrete_sto_k(sp500)\n",
    "x_sp['discrete_sto_d'] = discrete_sto_d(sp500)\n",
    "x_sp['discrete_williamr'] = discrete_wr(sp500)\n",
    "x_sp['discrete_mom'] = mom_discrete(sp500)\n",
    "x_sp['discrete_cci'] = CCI_discrete(sp500)\n",
    "x_sp"
   ]
  },
  {
   "cell_type": "code",
   "execution_count": 27,
   "metadata": {},
   "outputs": [],
   "source": [
    "x_nifty = pd.DataFrame()\n",
    "x_nifty['sma_discrete'] = SMA_discrete(nifty50)\n",
    "x_nifty['ema_discrete'] = WMA_discrete(nifty50)\n",
    "x_nifty['rsi_discrete'] = rsi_discrete(nifty50)\n",
    "x_nifty['macd_discrete'] = MACD_discrete(nifty50)\n",
    "x_nifty['discrete_sto_k'] = discrete_sto_k(nifty50)\n",
    "x_nifty['discrete_sto_d'] = discrete_sto_d(nifty50)\n",
    "x_nifty['discrete_williamr'] = discrete_wr(nifty50)\n",
    "x_nifty['discrete_mom'] = mom_discrete(nifty50)\n",
    "x_nifty['discrete_cci'] = CCI_discrete(nifty50)"
   ]
  },
  {
   "cell_type": "markdown",
   "metadata": {},
   "source": [
    "In this project, the dataset came from the historic price of a stock and it has to take extra care when splitting it into train and test sets since the dataset is time series. Which means keeping the order of the dataset is necessary. To ensure that we have enough dataset to train our model, the train set contains of the dataset from 2005-01-01 to 2015-12-31. Besides that, the test set is from 2016-01-01 to 2020-12-31"
   ]
  },
  {
   "cell_type": "code",
   "execution_count": 28,
   "metadata": {},
   "outputs": [],
   "source": [
    "y_train_sp = y_sp.loc[\"2005-01-01\":\"2015-12-31\"]\n",
    "y_test_sp = y_sp.loc[\"2016-01-01\":\"2020-12-31\"]\n",
    "y_train_nifty = y_nifty.loc[\"2005-01-01\":\"2015-12-31\"]\n",
    "y_test_nifty = y_nifty.loc[\"2016-01-01\":\"2020-12-31\"]\n"
   ]
  },
  {
   "cell_type": "code",
   "execution_count": 29,
   "metadata": {},
   "outputs": [],
   "source": [
    "x_train_sp = x_sp.loc[\"2005-01-01\":\"2015-12-31\"]\n",
    "x_test_sp = x_sp.loc[\"2016-01-01\":\"2020-12-31\"]\n",
    "x_train_nifty = x_nifty.loc[\"2005-01-01\":\"2015-12-31\"]\n",
    "x_test_nifty = x_nifty.loc[\"2016-01-01\":\"2020-12-31\"]"
   ]
  },
  {
   "cell_type": "code",
   "execution_count": 30,
   "metadata": {},
   "outputs": [],
   "source": [
    "comb_sp = pd.DataFrame()\n",
    "comb_sp = pd.concat([x_train_sp,y_train_sp],axis=1)\n",
    "comb_nifty = pd.DataFrame()\n",
    "comb_nifty = pd.concat([x_train_nifty,y_train_nifty],axis=1)"
   ]
  },
  {
   "cell_type": "code",
   "execution_count": 31,
   "metadata": {},
   "outputs": [
    {
     "data": {
      "text/plain": [
       "1.0    1549\n",
       "0.0    1220\n",
       "Name: act_pred, dtype: int64"
      ]
     },
     "execution_count": 31,
     "metadata": {},
     "output_type": "execute_result"
    }
   ],
   "source": [
    "comb_sp['act_pred'].value_counts()"
   ]
  },
  {
   "cell_type": "code",
   "execution_count": 32,
   "metadata": {},
   "outputs": [
    {
     "name": "stdout",
     "output_type": "stream",
     "text": [
      "The percentage of target variable for class 1.0 in S&P500: 0.56\n",
      "The percentage of target variable for class 0.0 in S&P500: 0.44\n"
     ]
    }
   ],
   "source": [
    "print(\"The percentage of target variable for class 1.0 in S&P500:\",np.round((1549 / (1549+1220)),2))\n",
    "print(\"The percentage of target variable for class 0.0 in S&P500:\",np.round((1220 / (1549+1220)),2))"
   ]
  },
  {
   "cell_type": "code",
   "execution_count": 33,
   "metadata": {},
   "outputs": [
    {
     "data": {
      "text/plain": [
       "1.0    1048\n",
       "0.0     975\n",
       "Name: act_pred, dtype: int64"
      ]
     },
     "execution_count": 33,
     "metadata": {},
     "output_type": "execute_result"
    }
   ],
   "source": [
    "comb_nifty['act_pred'].value_counts()"
   ]
  },
  {
   "cell_type": "code",
   "execution_count": 34,
   "metadata": {},
   "outputs": [
    {
     "name": "stdout",
     "output_type": "stream",
     "text": [
      "The percentage of target variable for class 1.0 in Nifty50: 0.52\n",
      "The percentage of target variable for class 0.0 in Nifty50: 0.48\n"
     ]
    }
   ],
   "source": [
    "print(\"The percentage of target variable for class 1.0 in Nifty50:\",np.round((1048 / (1048+975)),2))\n",
    "print(\"The percentage of target variable for class 0.0 in Nifty50:\",np.round((975 / (1048+975)),2))"
   ]
  },
  {
   "cell_type": "markdown",
   "metadata": {},
   "source": [
    "### Ramdom Undersampling"
   ]
  },
  {
   "cell_type": "code",
   "execution_count": 35,
   "metadata": {},
   "outputs": [],
   "source": [
    "comb_sp_under = comb_sp.drop(comb_sp[comb_sp['act_pred'].eq(1)].sample(n=329,random_state=0).index)"
   ]
  },
  {
   "cell_type": "code",
   "execution_count": 36,
   "metadata": {},
   "outputs": [],
   "source": [
    "x_train_under_sp = comb_sp_under.iloc[:,[0,1,2,3,4,5,6,7,8]]\n",
    "y_train_under_sp = comb_sp_under.iloc[:,[-1]]\n",
    "y_train_under_sp = y_train_under_sp.to_numpy()\n",
    "y_train_under_sp = y_train_under_sp.ravel()\n",
    "y_train_under_sp = pd.DataFrame(y_train_under_sp)"
   ]
  },
  {
   "cell_type": "code",
   "execution_count": 37,
   "metadata": {},
   "outputs": [
    {
     "data": {
      "text/plain": [
       "(2440, 9)"
      ]
     },
     "execution_count": 37,
     "metadata": {},
     "output_type": "execute_result"
    }
   ],
   "source": [
    "x_train_under_sp.shape"
   ]
  },
  {
   "cell_type": "code",
   "execution_count": 38,
   "metadata": {},
   "outputs": [],
   "source": [
    "comb_nifty_under = comb_nifty.drop(comb_nifty[comb_nifty['act_pred'].eq(1)].sample(73).index)"
   ]
  },
  {
   "cell_type": "code",
   "execution_count": 39,
   "metadata": {},
   "outputs": [],
   "source": [
    "x_train_under_nifty = comb_nifty_under.iloc[:,[0,1,2,3,4,5,6,7,8]]\n",
    "y_train_under_nifty = comb_nifty_under.iloc[:,[-1]]\n",
    "y_train_under_nifty = y_train_under_nifty.to_numpy()\n",
    "y_train_under_nifty = y_train_under_nifty.ravel()\n",
    "y_train_under_nifty = pd.DataFrame(y_train_under_nifty)"
   ]
  },
  {
   "cell_type": "markdown",
   "metadata": {},
   "source": [
    "### Cross Validation\n",
    "Cross validation is normally used to evaluate the model performance and it is a common approach for hyperparameter optimization as the classical approach of cross validation is K-fold cross validation which seperate the data into K-fold and allow every data to be test dataset. This approach ensure that there is no overfitting occur. However, when dealing with stock market which is a time-series dataset, a different approach has to be taken to avoid data leakage. It means the order of the train and test set is important as u should not take data in the future to train and use it to predict the past. Hence, I will be using growing window cross validation in this project."
   ]
  },
  {
   "cell_type": "code",
   "execution_count": 40,
   "metadata": {},
   "outputs": [],
   "source": [
    "time_split = TimeSeriesSplit(n_splits=5)"
   ]
  },
  {
   "cell_type": "markdown",
   "metadata": {},
   "source": [
    "# Machine Learning Models\n",
    "## Multi-Layer Perceptron"
   ]
  },
  {
   "cell_type": "code",
   "execution_count": 43,
   "metadata": {},
   "outputs": [],
   "source": [
    "nn_clf = MLPClassifier(solver='sgd',shuffle=False)\n",
    "class customMLPClassifier(MLPClassifier):\n",
    "    def resample_with_replacement(self, X_train, y_train, sample_weight):\n",
    "\n",
    "        # normalize sample_weights if not already\n",
    "        sample_weight = sample_weight / sample_weight.sum(dtype=np.float64)\n",
    "\n",
    "        X_train_resampled = np.zeros((len(X_train), len(X_train[0])), dtype=np.float32)\n",
    "        y_train_resampled = np.zeros((len(y_train)), dtype=int)\n",
    "        for i in range(len(X_train)):\n",
    "            # draw a number from 0 to len(X_train)-1\n",
    "            draw = np.random.choice(np.arange(len(X_train)), p=sample_weight)\n",
    "\n",
    "            # place the X and y at the drawn number into the resampled X and y\n",
    "            X_train_resampled[i] = X_train[draw]\n",
    "            y_train_resampled[i] = y_train[draw]\n",
    "\n",
    "        return X_train_resampled, y_train_resampled\n",
    "\n",
    "\n",
    "    def fit(self, X, y, sample_weight=None):\n",
    "        if sample_weight is not None:\n",
    "            X, y = self.resample_with_replacement(X, y, sample_weight)\n",
    "\n",
    "        return self._fit(X, y, incremental=(self.warm_start and\n",
    "                                            hasattr(self, \"classes_\")))\n",
    "\n",
    "\n"
   ]
  },
  {
   "cell_type": "markdown",
   "metadata": {},
   "source": [
    "### SP500"
   ]
  },
  {
   "cell_type": "code",
   "execution_count": 44,
   "metadata": {},
   "outputs": [
    {
     "name": "stdout",
     "output_type": "stream",
     "text": [
      "Fitting 5 folds for each of 700 candidates, totalling 3500 fits\n",
      "{'batch_size': 120, 'hidden_layer_sizes': (20,), 'learning_rate_init': 0.002, 'max_iter': 20}\n"
     ]
    }
   ],
   "source": [
    "batch_sizes = [80,100,120,140]\n",
    "learning_rate = [0.002,0.004,0.006,0.008,0.01]\n",
    "neuron = [(20,),(40,),(60,),(80,),(100,)]\n",
    "epoch = [20,40,60,80,100,150,200]\n",
    "param_grid = dict(batch_size = batch_sizes, hidden_layer_sizes = neuron, learning_rate_init = learning_rate,max_iter=epoch)\n",
    "grid_nn_sp = GridSearchCV(estimator=nn_clf, param_grid=param_grid, n_jobs=-1, cv=time_split, verbose = 3)\n",
    "grid_nn_sp.fit(x_train_under_sp,y_train_under_sp.values.ravel())\n",
    "print(grid_nn_sp.best_params_)\n"
   ]
  },
  {
   "cell_type": "code",
   "execution_count": 689,
   "metadata": {},
   "outputs": [
    {
     "name": "stdout",
     "output_type": "stream",
     "text": [
      "F1 score for NN--S&P500: 0.5740350877192982\n",
      "Accuracy score for NN--S&P500 0.5178713264495631\n"
     ]
    }
   ],
   "source": [
    "nn_sp = customMLPClassifier(solver='sgd',batch_size=120,hidden_layer_sizes=(20,),learning_rate_init=0.002,max_iter=20,random_state=24,shuffle=False)\n",
    "nn_sp.fit(x_train_under_sp,y_train_under_sp.values.ravel())\n",
    "y_pred_sp = nn_sp.predict(x_test_sp)\n",
    "f1_nn_sp = f1_score(y_test_sp,y_pred_sp)\n",
    "acc_nn_sp = accuracy_score(y_test_sp,y_pred_sp)\n",
    "print(\"F1 score for NN--S&P500:\",f1_nn_sp)\n",
    "print(\"Accuracy score for NN--S&P500\",acc_nn_sp)"
   ]
  },
  {
   "cell_type": "markdown",
   "metadata": {},
   "source": [
    "### Nifty 50"
   ]
  },
  {
   "cell_type": "code",
   "execution_count": 46,
   "metadata": {},
   "outputs": [
    {
     "name": "stdout",
     "output_type": "stream",
     "text": [
      "Fitting 5 folds for each of 700 candidates, totalling 3500 fits\n",
      "{'batch_size': 140, 'hidden_layer_sizes': (60,), 'learning_rate_init': 0.002, 'max_iter': 150}\n"
     ]
    }
   ],
   "source": [
    "batch_sizes = [80,100,120,140]\n",
    "learning_rate = [0.002,0.004,0.006,0.008,0.01]\n",
    "neuron = [(20,),(40,),(60,),(80,),(100,)]\n",
    "epoch = [20,40,60,80,100,150,200]\n",
    "param_grid = dict(batch_size = batch_sizes, hidden_layer_sizes = neuron, learning_rate_init = learning_rate,max_iter=epoch)\n",
    "grid_nn_nifty = GridSearchCV(estimator=nn_clf, param_grid=param_grid, n_jobs=-1, cv=time_split, verbose = 3)\n",
    "grid_nn_nifty.fit(x_train_under_nifty,y_train_under_nifty.values.ravel())\n",
    "print(grid_nn_nifty.best_params_)"
   ]
  },
  {
   "cell_type": "code",
   "execution_count": 707,
   "metadata": {},
   "outputs": [
    {
     "name": "stdout",
     "output_type": "stream",
     "text": [
      "F1 score for NN--NIFTY50: 0.5501130369253957\n",
      "Accuracy score for NN--NIFTY50 0.5138436482084691\n"
     ]
    }
   ],
   "source": [
    "nn_nifty = customMLPClassifier(solver='sgd',batch_size=140,hidden_layer_sizes=(60,),learning_rate_init=0.002,max_iter=150,random_state=1,shuffle=False)\n",
    "nn_nifty.fit(x_train_under_nifty,y_train_under_nifty.values.ravel())\n",
    "y_pred_nifty = nn_nifty.predict(x_test_nifty)\n",
    "f1_nn_nifty = f1_score(y_test_nifty,y_pred_nifty)\n",
    "acc_nn_nifty = accuracy_score(y_test_nifty,y_pred_nifty)\n",
    "print(\"F1 score for NN--NIFTY50:\",f1_nn_nifty)\n",
    "print(\"Accuracy score for NN--NIFTY50\",acc_nn_nifty)"
   ]
  },
  {
   "cell_type": "markdown",
   "metadata": {},
   "source": [
    "## Decision Tree"
   ]
  },
  {
   "cell_type": "code",
   "execution_count": 48,
   "metadata": {},
   "outputs": [],
   "source": [
    "dt_clf = DecisionTreeClassifier()"
   ]
  },
  {
   "cell_type": "markdown",
   "metadata": {},
   "source": [
    "### SP500"
   ]
  },
  {
   "cell_type": "code",
   "execution_count": 49,
   "metadata": {},
   "outputs": [
    {
     "name": "stdout",
     "output_type": "stream",
     "text": [
      "Fitting 5 folds for each of 2160 candidates, totalling 10800 fits\n",
      "{'max_depth': 20, 'max_features': 2, 'min_samples_leaf': 6, 'min_samples_split': 2}\n"
     ]
    }
   ],
   "source": [
    "max_depths = [6,8,10,12,14,16,18,20]\n",
    "max_feature = [1,2,3,4,5,6,7,8,9]\n",
    "min_samples_splits = [2,4,6,8,10]\n",
    "min_samples_leafs = [1,2,4,6,8,10]\n",
    "params_grid = {'max_depth':max_depths,'max_features':max_feature,'min_samples_split':min_samples_splits,'min_samples_leaf':min_samples_leafs}\n",
    "tree_grid_sp = GridSearchCV(dt_clf,params_grid,cv=time_split,scoring='accuracy',n_jobs = -1,verbose = 3,error_score='raise')\n",
    "tree_grid_sp.fit(x_train_under_sp,y_train_under_sp.values.ravel())\n",
    "print(tree_grid_sp.best_params_)"
   ]
  },
  {
   "cell_type": "code",
   "execution_count": 84,
   "metadata": {},
   "outputs": [
    {
     "name": "stdout",
     "output_type": "stream",
     "text": [
      "F1 score for DT--S&P500: 0.5573294629898404\n",
      "Accuracy score for DT--S&P500 0.5154884829229547\n"
     ]
    }
   ],
   "source": [
    "dt_sp =  DecisionTreeClassifier(max_depth=20,max_features=2,min_samples_leaf=6,min_samples_split=2,random_state=5)\n",
    "dt_sp.fit(x_train_under_sp,y_train_under_sp)\n",
    "y_pred_dt_sp = dt_sp.predict(x_test_sp)\n",
    "f1_dt_sp = f1_score(y_test_sp,y_pred_dt_sp)\n",
    "acc_dt_sp = accuracy_score(y_test_sp,y_pred_dt_sp)\n",
    "print(\"F1 score for DT--S&P500:\",f1_dt_sp)\n",
    "print(\"Accuracy score for DT--S&P500\",acc_dt_sp)"
   ]
  },
  {
   "cell_type": "markdown",
   "metadata": {},
   "source": [
    "### Nifty50"
   ]
  },
  {
   "cell_type": "code",
   "execution_count": 51,
   "metadata": {},
   "outputs": [
    {
     "name": "stdout",
     "output_type": "stream",
     "text": [
      "Fitting 5 folds for each of 2160 candidates, totalling 10800 fits\n",
      "{'max_depth': 18, 'max_features': 3, 'min_samples_leaf': 8, 'min_samples_split': 4}\n"
     ]
    }
   ],
   "source": [
    "max_depths = [6,8,10,12,14,16,18,20]\n",
    "max_feature = [1,2,3,4,5,6,7,8,9]\n",
    "min_samples_splits = [2,4,6,8,10]\n",
    "min_samples_leafs = [1,2,4,6,8,10]\n",
    "params_grid = {'max_depth':max_depths,'max_features':max_feature,'min_samples_split':min_samples_splits,'min_samples_leaf':min_samples_leafs}\n",
    "tree_grid_nifty = GridSearchCV(dt_clf,params_grid,cv=time_split,scoring='accuracy',n_jobs = -1,verbose = 3,)\n",
    "tree_grid_nifty.fit(x_train_under_nifty,y_train_under_nifty.values.ravel())\n",
    "print(tree_grid_nifty.best_params_)"
   ]
  },
  {
   "cell_type": "code",
   "execution_count": 85,
   "metadata": {},
   "outputs": [
    {
     "name": "stdout",
     "output_type": "stream",
     "text": [
      "F1 score for DT--NIFTY50: 0.5418569254185693\n",
      "Accuracy score for DT--NIFTY50 0.509771986970684\n"
     ]
    }
   ],
   "source": [
    "dt_nifty =  DecisionTreeClassifier(max_depth=18,max_features=3,min_samples_leaf=8,min_samples_split=4,random_state=1)\n",
    "dt_nifty.fit(x_train_under_nifty,y_train_under_nifty)\n",
    "y_pred_dt_nifty = dt_nifty.predict(x_test_nifty)\n",
    "f1_dt_nifty = f1_score(y_test_nifty,y_pred_dt_nifty)\n",
    "acc_dt_nifty = accuracy_score(y_test_nifty,y_pred_dt_nifty)\n",
    "print(\"F1 score for DT--NIFTY50:\",f1_dt_nifty)\n",
    "print(\"Accuracy score for DT--NIFTY50\",acc_dt_nifty)"
   ]
  },
  {
   "cell_type": "markdown",
   "metadata": {},
   "source": [
    "## SVC"
   ]
  },
  {
   "cell_type": "code",
   "execution_count": 53,
   "metadata": {},
   "outputs": [],
   "source": [
    "svc = SVC()"
   ]
  },
  {
   "cell_type": "markdown",
   "metadata": {},
   "source": [
    "### SP500"
   ]
  },
  {
   "cell_type": "code",
   "execution_count": 54,
   "metadata": {},
   "outputs": [
    {
     "name": "stdout",
     "output_type": "stream",
     "text": [
      "Fitting 5 folds for each of 256 candidates, totalling 1280 fits\n",
      "{'C': 0.5, 'degree': 3, 'gamma': 1.5, 'kernel': 'poly'}\n"
     ]
    }
   ],
   "source": [
    "C = [0.5,0.6,0.7,0.8,0.9,1,1.5,2]\n",
    "gamma = [0.5,0.6,0.7,0.8,0.9,1,1.5,2]\n",
    "degree = [2,3,4,5]\n",
    "kernels=['poly']\n",
    "params_grid = {'C':C,'gamma':gamma,'kernel':kernels,'degree':degree}\n",
    "svc_grid_sp_poly = GridSearchCV(svc,params_grid,cv=time_split,scoring='accuracy',n_jobs = -1,verbose = 3)\n",
    "svc_grid_sp_poly.fit(x_train_under_sp,y_train_under_sp.values.ravel())\n",
    "print(svc_grid_sp_poly.best_params_)"
   ]
  },
  {
   "cell_type": "code",
   "execution_count": 93,
   "metadata": {},
   "outputs": [
    {
     "name": "stdout",
     "output_type": "stream",
     "text": [
      "F1 score for SVC(poly)--S&P500: 0.5337470907680373\n",
      "Accuracy score for SVC(poly)--S&P500 0.52263701350278\n"
     ]
    }
   ],
   "source": [
    "svc_poly_sp = SVC(C=0.5,kernel='poly',gamma=1.5,degree=3,probability=True)\n",
    "svc_poly_sp.fit(x_train_under_sp,y_train_under_sp.values.ravel())\n",
    "y_pred_svc_sp_poly = svc_poly_sp.predict(x_test_sp)\n",
    "f1_svc_sp_poly = f1_score(y_test_sp,y_pred_svc_sp_poly)\n",
    "acc_svc_sp_poly = accuracy_score(y_test_sp,y_pred_svc_sp_poly)\n",
    "print(\"F1 score for SVC(poly)--S&P500:\",f1_svc_sp_poly)\n",
    "print(\"Accuracy score for SVC(poly)--S&P500\",acc_svc_sp_poly)"
   ]
  },
  {
   "cell_type": "code",
   "execution_count": 56,
   "metadata": {},
   "outputs": [
    {
     "name": "stdout",
     "output_type": "stream",
     "text": [
      "Fitting 5 folds for each of 64 candidates, totalling 320 fits\n",
      "{'C': 1.5, 'gamma': 0.5, 'kernel': 'rbf'}\n"
     ]
    }
   ],
   "source": [
    "C = [0.5,0.6,0.7,0.8,0.9,1,1.5,2]\n",
    "gamma = [0.5,0.6,0.7,0.8,0.9,1,1.5,2]\n",
    "kernels=['rbf']\n",
    "params_grid = {'C':C,'gamma':gamma,'kernel':kernels}\n",
    "svc_grid_sp_rbf = GridSearchCV(svc,params_grid,cv=time_split,scoring='accuracy',n_jobs = -1,verbose = 3,error_score='raise')\n",
    "svc_grid_sp_rbf.fit(x_train_under_sp,y_train_under_sp.values.ravel())\n",
    "print(svc_grid_sp_rbf.best_params_)"
   ]
  },
  {
   "cell_type": "code",
   "execution_count": 86,
   "metadata": {},
   "outputs": [
    {
     "name": "stdout",
     "output_type": "stream",
     "text": [
      "F1 score for SVC(rbf)--S&P500: 0.5558823529411764\n",
      "Accuracy score for SVC(rbf)--S&P500 0.5202541699761716\n"
     ]
    }
   ],
   "source": [
    "svc_rbf_sp = SVC(C=1.5,kernel='rbf',gamma=0.5,probability=True,random_state=5)\n",
    "svc_rbf_sp.fit(x_train_under_sp,y_train_under_sp.values.ravel())\n",
    "y_pred_svc_sp_rbf = svc_rbf_sp.predict(x_test_sp)\n",
    "f1_svc_sp_rbf = f1_score(y_test_sp,y_pred_svc_sp_rbf)\n",
    "acc_svc_sp_rbf = accuracy_score(y_test_sp,y_pred_svc_sp_rbf)\n",
    "print(\"F1 score for SVC(rbf)--S&P500:\",f1_svc_sp_rbf)\n",
    "print(\"Accuracy score for SVC(rbf)--S&P500\",acc_svc_sp_rbf)"
   ]
  },
  {
   "cell_type": "code",
   "execution_count": 886,
   "metadata": {},
   "outputs": [
    {
     "name": "stdout",
     "output_type": "stream",
     "text": [
      "Fitting 5 folds for each of 2160 candidates, totalling 10800 fits\n",
      "{'max_depth': 10, 'max_features': 3, 'min_samples_leaf': 4, 'min_samples_split': 6}\n"
     ]
    }
   ],
   "source": [
    "max_depths = [6,8,10,12,14,16,18,20]\n",
    "max_feature = [1,2,3,4,5,6,7,8,9]\n",
    "min_samples_splits = [2,4,6,8,10]\n",
    "min_samples_leafs = [1,2,4,6,8,10]\n",
    "params_grid = {'max_depth':max_depths,'max_features':max_feature,'min_samples_split':min_samples_splits,'min_samples_leaf':min_samples_leafs}\n",
    "tree_grid_sp_test = GridSearchCV(dt_clf,params_grid,cv=time_split,scoring='accuracy',n_jobs = -1,verbose = 3)\n",
    "tree_grid_sp_test.fit(x_train_nifty,y_train_nifty)\n",
    "print(tree_grid_sp_test.best_params_)"
   ]
  },
  {
   "cell_type": "code",
   "execution_count": 893,
   "metadata": {},
   "outputs": [
    {
     "data": {
      "text/plain": [
       "0.5244299674267101"
      ]
     },
     "execution_count": 893,
     "metadata": {},
     "output_type": "execute_result"
    }
   ],
   "source": [
    "test = DecisionTreeClassifier(max_depth=10,max_features=3,min_samples_leaf=4,min_samples_split=6,random_state=2)\n",
    "test.fit(x_train_nifty,y_train_nifty)\n",
    "test2 = test.predict(x_test_nifty)\n",
    "test1 = accuracy_score(y_test_nifty,test2)\n",
    "test1"
   ]
  },
  {
   "cell_type": "code",
   "execution_count": 894,
   "metadata": {},
   "outputs": [
    {
     "data": {
      "text/plain": [
       "1.0    774\n",
       "0.0    454\n",
       "dtype: int64"
      ]
     },
     "execution_count": 894,
     "metadata": {},
     "output_type": "execute_result"
    }
   ],
   "source": [
    "trial = pd.DataFrame(test2)\n",
    "trial.value_counts()"
   ]
  },
  {
   "cell_type": "code",
   "execution_count": 252,
   "metadata": {},
   "outputs": [],
   "source": [
    "loss,bias,var = bias_variance_decomp(dt_sp,np.array(x_train_under_sp),\n",
    "                                     np.array(y_train_under_sp).ravel(),np.array(x_test_sp),\n",
    "                                     np.array(y_test_sp).ravel(),loss='0-1_loss',num_rounds=100)"
   ]
  },
  {
   "cell_type": "code",
   "execution_count": 253,
   "metadata": {},
   "outputs": [
    {
     "name": "stdout",
     "output_type": "stream",
     "text": [
      "0.48894360603653697\n",
      "0.48848292295472595\n",
      "0.27653693407466245\n"
     ]
    }
   ],
   "source": [
    "print(loss)\n",
    "print(bias)\n",
    "print(var)"
   ]
  },
  {
   "cell_type": "markdown",
   "metadata": {},
   "source": [
    "### Nifty50"
   ]
  },
  {
   "cell_type": "code",
   "execution_count": 58,
   "metadata": {},
   "outputs": [
    {
     "name": "stdout",
     "output_type": "stream",
     "text": [
      "Fitting 5 folds for each of 256 candidates, totalling 1280 fits\n",
      "{'C': 0.6, 'degree': 3, 'gamma': 0.7, 'kernel': 'poly'}\n"
     ]
    }
   ],
   "source": [
    "C = [0.5,0.6,0.7,0.8,0.9,1,1.5,2]\n",
    "gamma = [0.5,0.6,0.7,0.8,0.9,1,1.5,2]\n",
    "degree = [2,3,4,5]\n",
    "kernels=['poly']\n",
    "params_grid = {'C':C,'gamma':gamma,'kernel':kernels,'degree':degree}\n",
    "svc_grid_nifty_poly = GridSearchCV(svc,params_grid,cv=time_split,scoring='accuracy',n_jobs = -1,verbose = 3)\n",
    "svc_grid_nifty_poly.fit(x_train_under_nifty,y_train_under_nifty.values.ravel())\n",
    "print(svc_grid_nifty_poly.best_params_)"
   ]
  },
  {
   "cell_type": "code",
   "execution_count": 92,
   "metadata": {},
   "outputs": [
    {
     "name": "stdout",
     "output_type": "stream",
     "text": [
      "F1 score for SVC(poly)--NIFTY50: 0.5206812652068127\n",
      "Accuracy score for SVC(poly)--NIFTY50 0.5187296416938111\n"
     ]
    }
   ],
   "source": [
    "svc_poly_nifty = SVC(C=0.6,kernel='poly',gamma=0.7,degree=3,probability=True)\n",
    "svc_poly_nifty.fit(x_train_under_nifty,y_train_under_nifty.values.ravel())\n",
    "y_pred_svc_nifty_poly = svc_poly_nifty.predict(x_test_nifty)\n",
    "f1_svc_nifty_poly = f1_score(y_test_nifty,y_pred_svc_nifty_poly)\n",
    "acc_svc_nifty_poly = accuracy_score(y_test_nifty,y_pred_svc_nifty_poly)\n",
    "print(\"F1 score for SVC(poly)--NIFTY50:\",f1_svc_nifty_poly)\n",
    "print(\"Accuracy score for SVC(poly)--NIFTY50\",acc_svc_nifty_poly)"
   ]
  },
  {
   "cell_type": "code",
   "execution_count": 60,
   "metadata": {},
   "outputs": [
    {
     "name": "stdout",
     "output_type": "stream",
     "text": [
      "Fitting 5 folds for each of 64 candidates, totalling 320 fits\n",
      "{'C': 0.5, 'gamma': 1, 'kernel': 'rbf'}\n"
     ]
    }
   ],
   "source": [
    "C = [0.5,0.6,0.7,0.8,0.9,1,1.5,2]\n",
    "gamma = [0.5,0.6,0.7,0.8,0.9,1,1.5,2]\n",
    "kernels=['rbf']\n",
    "params_grid = {'C':C,'gamma':gamma,'kernel':kernels}\n",
    "svc_grid_nifty_rbf = GridSearchCV(svc,params_grid,cv=time_split,scoring='accuracy',n_jobs = -1,verbose = 3)\n",
    "svc_grid_nifty_rbf.fit(x_train_under_nifty,y_train_under_nifty.values.ravel())\n",
    "print(svc_grid_nifty_rbf.best_params_)"
   ]
  },
  {
   "cell_type": "code",
   "execution_count": 89,
   "metadata": {},
   "outputs": [
    {
     "name": "stdout",
     "output_type": "stream",
     "text": [
      "F1 score for SVC(rbf)--NIFTY50: 0.537080405932865\n",
      "Accuracy score for SVC(rbf)--NIFTY50 0.5171009771986971\n"
     ]
    }
   ],
   "source": [
    "svc_rbf_nifty = SVC(C=0.5,kernel='rbf',gamma=1,probability=True,random_state=0)\n",
    "svc_rbf_nifty.fit(x_train_under_nifty,y_train_under_nifty.values.ravel())\n",
    "y_pred_svc_nifty_rbf = svc_rbf_nifty.predict(x_test_nifty)\n",
    "f1_svc_nifty_rbf = f1_score(y_test_nifty,y_pred_svc_nifty_rbf)\n",
    "acc_svc_nifty_rbf = accuracy_score(y_test_nifty,y_pred_svc_nifty_rbf)\n",
    "print(\"F1 score for SVC(rbf)--NIFTY50:\",f1_svc_nifty_rbf)\n",
    "print(\"Accuracy score for SVC(rbf)--NIFTY50\",acc_svc_nifty_rbf)"
   ]
  },
  {
   "cell_type": "markdown",
   "metadata": {},
   "source": [
    "# Ensemble Methods"
   ]
  },
  {
   "cell_type": "markdown",
   "metadata": {},
   "source": [
    "## Max Voting"
   ]
  },
  {
   "cell_type": "markdown",
   "metadata": {},
   "source": [
    "### SP500-ALL"
   ]
  },
  {
   "cell_type": "code",
   "execution_count": 690,
   "metadata": {},
   "outputs": [
    {
     "name": "stdout",
     "output_type": "stream",
     "text": [
      "F1 score for Max Voting(ALL)--SP500: 0.5446428571428571\n",
      "Accuracy score for Max Voting(ALL)--SP500 0.5138999205718825\n"
     ]
    }
   ],
   "source": [
    "voting_sp_all = VotingClassifier(estimators = [('dt',dt_sp),('svc',svc_rbf_sp),('mlp',nn_sp)],voting='soft')\n",
    "voting_sp_all.fit(x_train_under_sp,y_train_under_sp.values.ravel())\n",
    "voting_pred_sp_all = voting_sp_all.predict(x_test_sp)\n",
    "\n",
    "f1_vot_sp_all = f1_score(y_test_sp,voting_pred_sp_all)\n",
    "acc_vot_sp_all = accuracy_score(y_test_sp,voting_pred_sp_all)\n",
    "print(\"F1 score for Max Voting(ALL)--SP500:\",f1_vot_sp_all )\n",
    "print(\"Accuracy score for Max Voting(ALL)--SP500\",acc_vot_sp_all)"
   ]
  },
  {
   "cell_type": "markdown",
   "metadata": {},
   "source": [
    "### Nifty50-ALL"
   ]
  },
  {
   "cell_type": "code",
   "execution_count": 708,
   "metadata": {},
   "outputs": [
    {
     "name": "stdout",
     "output_type": "stream",
     "text": [
      "F1 score for Max Voting(ALL)--Nifty50: 0.5371965544244323\n",
      "Accuracy score for Max Voting(ALL)--Nifty50 0.5187296416938111\n"
     ]
    }
   ],
   "source": [
    "voting_nifty_all = VotingClassifier(estimators = [('dt',dt_nifty),('svc',svc_rbf_nifty),('mlp',nn_nifty)],voting='soft')\n",
    "voting_nifty_all.fit(x_train_under_nifty,y_train_under_nifty.values.ravel())\n",
    "\n",
    "voting_pred_nifty_all = voting_nifty_all.predict(x_test_nifty)\n",
    "f1_vot_nifty_all = f1_score(y_test_nifty,voting_pred_nifty_all)\n",
    "acc_vot_nifty_all = accuracy_score(y_test_nifty,voting_pred_nifty_all)\n",
    "print(\"F1 score for Max Voting(ALL)--Nifty50:\",f1_vot_nifty_all)\n",
    "print(\"Accuracy score for Max Voting(ALL)--Nifty50\",acc_vot_nifty_all)"
   ]
  },
  {
   "cell_type": "markdown",
   "metadata": {},
   "source": [
    "### Voting--DT&NN--S&P500"
   ]
  },
  {
   "cell_type": "code",
   "execution_count": 692,
   "metadata": {},
   "outputs": [
    {
     "name": "stdout",
     "output_type": "stream",
     "text": [
      "F1 score for Max Voting(DT&NN)--SP500: 0.5446428571428571\n",
      "Accuracy score for Max Voting(DT&NN)--SP500 0.5138999205718825\n"
     ]
    }
   ],
   "source": [
    "voting_sp_dtnn = VotingClassifier(estimators = [('dt',dt_sp),('mlp',nn_sp)],voting='soft')\n",
    "voting_sp_dtnn.fit(x_train_under_sp,y_train_under_sp.values.ravel())\n",
    "voting_pred_sp_dtnn = voting_sp_dtnn.predict(x_test_sp)\n",
    "\n",
    "f1_vot_sp_dtnn = f1_score(y_test_sp,voting_pred_sp_dtnn)\n",
    "acc_vot_sp_dtnn = accuracy_score(y_test_sp,voting_pred_sp_dtnn)\n",
    "print(\"F1 score for Max Voting(DT&NN)--SP500:\",f1_vot_sp_dtnn)\n",
    "print(\"Accuracy score for Max Voting(DT&NN)--SP500\",acc_vot_sp_dtnn)"
   ]
  },
  {
   "cell_type": "markdown",
   "metadata": {},
   "source": [
    "### Voting--DT&NN--Nifty50"
   ]
  },
  {
   "cell_type": "code",
   "execution_count": 709,
   "metadata": {},
   "outputs": [
    {
     "name": "stdout",
     "output_type": "stream",
     "text": [
      "F1 score for Max Voting(DT&NN)--Nifty50: 0.5467289719626168\n",
      "Accuracy score for Max Voting(DT&NN)--Nifty50 0.5260586319218241\n"
     ]
    }
   ],
   "source": [
    "voting_nifty_dtnn = VotingClassifier(estimators = [('dt',dt_nifty),('mlp',nn_nifty)],voting='soft')\n",
    "voting_nifty_dtnn.fit(x_train_under_nifty,y_train_under_nifty.values.ravel())\n",
    "\n",
    "voting_pred_nifty_dtnn = voting_nifty_dtnn.predict(x_test_nifty)\n",
    "f1_vot_nifty_dtnn = f1_score(y_test_nifty,voting_pred_nifty_dtnn)\n",
    "acc_vot_nifty_dtnn = accuracy_score(y_test_nifty,voting_pred_nifty_dtnn)\n",
    "print(\"F1 score for Max Voting(DT&NN)--Nifty50:\",f1_vot_nifty_dtnn)\n",
    "print(\"Accuracy score for Max Voting(DT&NN)--Nifty50\",acc_vot_nifty_dtnn)"
   ]
  },
  {
   "cell_type": "markdown",
   "metadata": {},
   "source": [
    "### Voting--DT&SVC--S&P500"
   ]
  },
  {
   "cell_type": "code",
   "execution_count": 694,
   "metadata": {},
   "outputs": [
    {
     "name": "stdout",
     "output_type": "stream",
     "text": [
      "F1 score for Max Voting(DT&SVC)--SP500: 0.559015206372194\n",
      "Accuracy score for Max Voting(DT&SVC)--SP500 0.5162827640984908\n"
     ]
    }
   ],
   "source": [
    "voting_sp_dtsvc = VotingClassifier(estimators = [('dt',dt_sp),('svc',svc_rbf_sp)],voting='soft')\n",
    "voting_sp_dtsvc.fit(x_train_under_sp,y_train_under_sp.values.ravel())\n",
    "voting_pred_sp_dtsvc = voting_sp_dtsvc.predict(x_test_sp)\n",
    "\n",
    "f1_vot_sp_dtsvc = f1_score(y_test_sp,voting_pred_sp_dtsvc)\n",
    "acc_vot_sp_dtsvc = accuracy_score(y_test_sp,voting_pred_sp_dtsvc)\n",
    "print(\"F1 score for Max Voting(DT&SVC)--SP500:\",f1_vot_sp_dtsvc)\n",
    "print(\"Accuracy score for Max Voting(DT&SVC)--SP500\",acc_vot_sp_dtsvc)"
   ]
  },
  {
   "cell_type": "markdown",
   "metadata": {},
   "source": [
    "### Voting--DT&SVC--Nifty50"
   ]
  },
  {
   "cell_type": "code",
   "execution_count": 712,
   "metadata": {},
   "outputs": [
    {
     "name": "stdout",
     "output_type": "stream",
     "text": [
      "F1 score for Max Voting(DT&SVC)--Nifty50: 0.5483625285605483\n",
      "Accuracy score for Max Voting(DT&SVC)--Nifty50 0.5171009771986971\n"
     ]
    }
   ],
   "source": [
    "voting_nifty_dtsvc = VotingClassifier(estimators = [('dt',dt_nifty),('svc',svc_rbf_nifty)],voting='soft')\n",
    "voting_nifty_dtsvc.fit(x_train_under_nifty,y_train_under_nifty.values.ravel())\n",
    "\n",
    "voting_pred_nifty_dtsvc = voting_nifty_dtsvc.predict(x_test_nifty)\n",
    "f1_vot_nifty_dtsvc = f1_score(y_test_nifty,voting_pred_nifty_dtsvc)\n",
    "acc_vot_nifty_dtsvc = accuracy_score(y_test_nifty,voting_pred_nifty_dtsvc)\n",
    "print(\"F1 score for Max Voting(DT&SVC)--Nifty50:\",f1_vot_nifty_dtsvc)\n",
    "print(\"Accuracy score for Max Voting(DT&SVC)--Nifty50\",acc_vot_nifty_dtsvc)"
   ]
  },
  {
   "cell_type": "markdown",
   "metadata": {},
   "source": [
    "### Voting--SVC&NN--S&P500"
   ]
  },
  {
   "cell_type": "code",
   "execution_count": 710,
   "metadata": {},
   "outputs": [
    {
     "name": "stdout",
     "output_type": "stream",
     "text": [
      "F1 score for Max Voting(NN&SVC)--SP500: 0.5644699140401145\n",
      "Accuracy score for Max Voting(NN&SVC)--SP500 0.517077045274027\n"
     ]
    }
   ],
   "source": [
    "voting_sp_nnsvc = VotingClassifier(estimators = [('nn',nn_sp),('svc',svc_rbf_sp)],voting='soft')\n",
    "voting_sp_nnsvc.fit(x_train_under_sp,y_train_under_sp.values.ravel())\n",
    "voting_pred_sp_nnsvc = voting_sp_nnsvc.predict(x_test_sp)\n",
    "\n",
    "f1_vot_sp_nnsvc = f1_score(y_test_sp,voting_pred_sp_nnsvc)\n",
    "acc_vot_sp_nnsvc = accuracy_score(y_test_sp,voting_pred_sp_nnsvc)\n",
    "print(\"F1 score for Max Voting(NN&SVC)--SP500:\",f1_vot_sp_nnsvc)\n",
    "print(\"Accuracy score for Max Voting(NN&SVC)--SP500\",acc_vot_sp_nnsvc)"
   ]
  },
  {
   "cell_type": "markdown",
   "metadata": {},
   "source": [
    "### Voting--SVC&NN--Nifty50"
   ]
  },
  {
   "cell_type": "code",
   "execution_count": 711,
   "metadata": {},
   "outputs": [
    {
     "name": "stdout",
     "output_type": "stream",
     "text": [
      "F1 score for Max Voting(NN&SVC)--Nifty50: 0.5137318255250404\n",
      "Accuracy score for Max Voting(NN&SVC)--Nifty50 0.509771986970684\n"
     ]
    }
   ],
   "source": [
    "voting_nifty_nnsvc = VotingClassifier(estimators = [('nn',nn_nifty),('svc',svc_rbf_nifty)],voting='soft')\n",
    "voting_nifty_nnsvc.fit(x_train_under_nifty,y_train_under_nifty.values.ravel())\n",
    "\n",
    "voting_pred_nifty_nnsvc = voting_nifty_nnsvc.predict(x_test_nifty)\n",
    "f1_vot_nifty_nnsvc = f1_score(y_test_nifty,voting_pred_nifty_nnsvc)\n",
    "acc_vot_nifty_nnsvc = accuracy_score(y_test_nifty,voting_pred_nifty_nnsvc)\n",
    "print(\"F1 score for Max Voting(NN&SVC)--Nifty50:\",f1_vot_nifty_nnsvc)\n",
    "print(\"Accuracy score for Max Voting(NN&SVC)--Nifty50\",acc_vot_nifty_nnsvc)"
   ]
  },
  {
   "cell_type": "markdown",
   "metadata": {},
   "source": [
    "## Bagging"
   ]
  },
  {
   "cell_type": "markdown",
   "metadata": {},
   "source": [
    "### NN--SP500"
   ]
  },
  {
   "cell_type": "code",
   "execution_count": 203,
   "metadata": {
    "scrolled": true
   },
   "outputs": [
    {
     "name": "stdout",
     "output_type": "stream",
     "text": [
      "Fitting 5 folds for each of 25 candidates, totalling 125 fits\n",
      "{'max_samples': 0.6, 'n_estimators': 20}\n"
     ]
    }
   ],
   "source": [
    "bag_nn_sp = BaggingClassifier(base_estimator=nn_sp,random_state=0,n_jobs=-1)\n",
    "estimators = [20,40,60,80,100]\n",
    "max_sample = [0.2,0.4,0.6,0.8,1.0]\n",
    "params = {'n_estimators':estimators,'max_samples':max_sample}\n",
    "bag_nn_sp_grid = GridSearchCV(bag_nn_sp,param_grid = params,cv = time_split, verbose = 1,n_jobs=-1)\n",
    "bag_nn_sp_grid.fit(x_train_under_sp,y_train_under_sp.values.ravel())\n",
    "print(bag_nn_sp_grid.best_params_)"
   ]
  },
  {
   "cell_type": "code",
   "execution_count": 815,
   "metadata": {},
   "outputs": [
    {
     "name": "stdout",
     "output_type": "stream",
     "text": [
      "F1 score for Bagging(NN)--S&P500: 0.5987780040733197\n",
      "Accuracy score for Bagging(NN)--S&P500 0.5305798252581414\n"
     ]
    }
   ],
   "source": [
    "bag_nn_sp = BaggingClassifier(base_estimator=nn_sp,max_samples=0.6,n_estimators=20,random_state=0,n_jobs=-1)\n",
    "bag_nn_sp.fit(x_train_under_sp,y_train_under_sp.values.ravel())\n",
    "y_pred_bag_nn_sp = bag_nn_sp.predict(x_test_sp)\n",
    "f1_nn_bag_sp = f1_score(y_test_sp,y_pred_bag_nn_sp)\n",
    "acc_nn_bag_sp = accuracy_score(y_test_sp,y_pred_bag_nn_sp)\n",
    "print(\"F1 score for Bagging(NN)--S&P500:\",f1_nn_bag_sp)\n",
    "print(\"Accuracy score for Bagging(NN)--S&P500\",acc_nn_bag_sp)"
   ]
  },
  {
   "cell_type": "markdown",
   "metadata": {},
   "source": [
    "### NN--Nifty50"
   ]
  },
  {
   "cell_type": "code",
   "execution_count": 238,
   "metadata": {},
   "outputs": [
    {
     "name": "stdout",
     "output_type": "stream",
     "text": [
      "Fitting 5 folds for each of 25 candidates, totalling 125 fits\n",
      "{'max_samples': 0.8, 'n_estimators': 20}\n"
     ]
    }
   ],
   "source": [
    "bag_nn_nifty = BaggingClassifier(base_estimator=nn_nifty,random_state=0,n_jobs=-1)\n",
    "estimators = [20,40,60,80,100]\n",
    "max_sample = [0.2,0.4,0.6,0.8,1.0]\n",
    "params = {'n_estimators':estimators,'max_samples':max_sample}\n",
    "bag_nn_nifty_grid = GridSearchCV(bag_nn_nifty,param_grid = params,cv = time_split, n_jobs = -1, verbose = 3)\n",
    "bag_nn_nifty_grid.fit(x_train_under_nifty,y_train_under_nifty.values.ravel())\n",
    "print(bag_nn_nifty_grid.best_params_)"
   ]
  },
  {
   "cell_type": "code",
   "execution_count": 760,
   "metadata": {
    "scrolled": true
   },
   "outputs": [
    {
     "name": "stdout",
     "output_type": "stream",
     "text": [
      "F1 score for Bagging(NN)--Nifty50: 0.5500770416024654\n",
      "Accuracy score for Bagging(NN)--Nifty50 0.5244299674267101\n"
     ]
    }
   ],
   "source": [
    "bag_nn_nifty = BaggingClassifier(base_estimator=nn_nifty,max_samples=0.8,n_estimators=20,random_state=0,n_jobs=-1)\n",
    "bag_nn_nifty.fit(x_train_under_nifty,y_train_under_nifty.values.ravel())\n",
    "y_pred_bag_nn_nifty = bag_nn_nifty.predict(x_test_nifty)\n",
    "f1_nn_bag_nifty = f1_score(y_test_nifty,y_pred_bag_nn_nifty)\n",
    "acc_nn_bag_nifty = accuracy_score(y_test_nifty,y_pred_bag_nn_nifty)\n",
    "print(\"F1 score for Bagging(NN)--Nifty50:\",f1_nn_bag_nifty)\n",
    "print(\"Accuracy score for Bagging(NN)--Nifty50\",acc_nn_bag_nifty)"
   ]
  },
  {
   "cell_type": "markdown",
   "metadata": {},
   "source": [
    "### Decision Tree--SP500"
   ]
  },
  {
   "cell_type": "code",
   "execution_count": 256,
   "metadata": {},
   "outputs": [
    {
     "name": "stdout",
     "output_type": "stream",
     "text": [
      "Fitting 5 folds for each of 25 candidates, totalling 125 fits\n",
      "{'max_samples': 0.2, 'n_estimators': 20}\n"
     ]
    }
   ],
   "source": [
    "bag_dt_sp = BaggingClassifier(base_estimator=dt_sp,n_jobs=-1)\n",
    "estimators = [20,40,60,80,100]\n",
    "max_sample = [0.2,0.4,0.6,0.8,1.0]\n",
    "params = {'n_estimators':estimators,'max_samples':max_sample}\n",
    "bag_dt_sp_grid = GridSearchCV(bag_dt_sp,param_grid = params,cv = time_split, n_jobs = -1, verbose = 3)\n",
    "bag_dt_sp_grid.fit(x_train_under_sp,y_train_under_sp.values.ravel())\n",
    "print(bag_dt_sp_grid.best_params_)"
   ]
  },
  {
   "cell_type": "code",
   "execution_count": 765,
   "metadata": {},
   "outputs": [
    {
     "name": "stdout",
     "output_type": "stream",
     "text": [
      "F1 score for Bagging(DT)--S&P500: 0.5937716262975777\n",
      "Accuracy score for Bagging(DT)--S&P500 0.5337569499602859\n"
     ]
    }
   ],
   "source": [
    "bag_dt_sp = BaggingClassifier(base_estimator=dt_sp,max_samples=0.2,n_estimators=20,n_jobs=-1,random_state=,bootstrap=False)\n",
    "bag_dt_sp.fit(x_train_under_sp,y_train_under_sp.values.ravel())\n",
    "y_pred_bag_dt_sp = bag_dt_sp.predict(x_test_sp)\n",
    "f1_dt_bag_sp = f1_score(y_test_sp,y_pred_bag_dt_sp)\n",
    "acc_dt_bag_sp = accuracy_score(y_test_sp,y_pred_bag_dt_sp)\n",
    "print(\"F1 score for Bagging(DT)--S&P500:\",f1_dt_bag_sp)\n",
    "print(\"Accuracy score for Bagging(DT)--S&P500\",acc_dt_bag_sp)"
   ]
  },
  {
   "cell_type": "markdown",
   "metadata": {},
   "source": [
    "### Decision Tree--Nifty50"
   ]
  },
  {
   "cell_type": "code",
   "execution_count": 262,
   "metadata": {},
   "outputs": [
    {
     "name": "stdout",
     "output_type": "stream",
     "text": [
      "Fitting 5 folds for each of 25 candidates, totalling 125 fits\n",
      "{'max_samples': 0.4, 'n_estimators': 20}\n"
     ]
    }
   ],
   "source": [
    "bag_dt_nifty = BaggingClassifier(base_estimator=dt_nifty,n_jobs=-1)\n",
    "estimators = [20,40,60,80,100]\n",
    "max_sample = [0.2,0.4,0.6,0.8,1.0]\n",
    "params = {'n_estimators':estimators,'max_samples':max_sample}\n",
    "bag_dt_nifty_grid = GridSearchCV(bag_dt_nifty,param_grid = params,cv = time_split, n_jobs = -1, verbose = 3)\n",
    "bag_dt_nifty_grid.fit(x_train_under_nifty,y_train_under_nifty.values.ravel())\n",
    "print(bag_dt_nifty_grid.best_params_)"
   ]
  },
  {
   "cell_type": "code",
   "execution_count": 782,
   "metadata": {},
   "outputs": [
    {
     "name": "stdout",
     "output_type": "stream",
     "text": [
      "F1 score for Bagging(DT)--Nifty50: 0.5300813008130081\n",
      "Accuracy score for Bagging(DT)--Nifty50 0.5293159609120521\n"
     ]
    }
   ],
   "source": [
    "bag_dt_nifty = BaggingClassifier(base_estimator=dt_nifty,max_samples=0.4,n_estimators=20,n_jobs=-1,random_state=,bootstrap=False)\n",
    "bag_dt_nifty.fit(x_train_under_nifty,y_train_under_nifty.values.ravel())\n",
    "y_pred_bag_dt_nifty = bag_dt_nifty.predict(x_test_nifty)\n",
    "f1_dt_bag_nifty = f1_score(y_test_nifty,y_pred_bag_dt_nifty)\n",
    "acc_dt_bag_nifty = accuracy_score(y_test_nifty,y_pred_bag_dt_nifty)\n",
    "print(\"F1 score for Bagging(DT)--Nifty50:\",f1_dt_bag_nifty)\n",
    "print(\"Accuracy score for Bagging(DT)--Nifty50\",acc_dt_bag_nifty)"
   ]
  },
  {
   "cell_type": "markdown",
   "metadata": {},
   "source": [
    "### SVC--SP500"
   ]
  },
  {
   "cell_type": "code",
   "execution_count": 265,
   "metadata": {},
   "outputs": [
    {
     "name": "stdout",
     "output_type": "stream",
     "text": [
      "Fitting 5 folds for each of 25 candidates, totalling 125 fits\n",
      "{'max_samples': 0.8, 'n_estimators': 20}\n"
     ]
    }
   ],
   "source": [
    "bag_svc_sp = BaggingClassifier(base_estimator=svc_rbf_sp,random_state=0,n_jobs=-1)\n",
    "estimators = [20,40,60,80,100]\n",
    "max_sample = [0.2,0.4,0.6,0.8,1.0]\n",
    "params = {'n_estimators':estimators,'max_samples':max_sample}\n",
    "bag_svc_sp_grid = GridSearchCV(bag_svc_sp,param_grid = params,cv = time_split, n_jobs = -1, verbose = 10)\n",
    "bag_svc_sp_grid.fit(x_train_under_sp,y_train_under_sp.values.ravel())\n",
    "print(bag_svc_sp_grid.best_params_)"
   ]
  },
  {
   "cell_type": "code",
   "execution_count": 821,
   "metadata": {},
   "outputs": [
    {
     "name": "stdout",
     "output_type": "stream",
     "text": [
      "F1 score for Bagging(SVC)--S&P500: 0.5632823365785813\n",
      "Accuracy score for Bagging(SVC)--S&P500 0.5011914217633042\n"
     ]
    }
   ],
   "source": [
    "bag_svc_sp = BaggingClassifier(base_estimator=svc_rbf_sp,max_samples=0.8,n_estimators=20,n_jobs=-1,random_state=4)\n",
    "bag_svc_sp.fit(x_train_under_sp,y_train_under_sp.values.ravel())\n",
    "y_pred_bag_svc_sp = bag_svc_sp.predict(x_test_sp)\n",
    "f1_svc_bag_sp = f1_score(y_test_sp,y_pred_bag_svc_sp)\n",
    "acc_svc_bag_sp = accuracy_score(y_test_sp,y_pred_bag_svc_sp)\n",
    "print(\"F1 score for Bagging(SVC)--S&P500:\",f1_svc_bag_sp)\n",
    "print(\"Accuracy score for Bagging(SVC)--S&P500\",acc_svc_bag_sp)"
   ]
  },
  {
   "cell_type": "code",
   "execution_count": 878,
   "metadata": {},
   "outputs": [
    {
     "data": {
      "text/plain": [
       "0.5822081016679904"
      ]
     },
     "execution_count": 878,
     "metadata": {},
     "output_type": "execute_result"
    }
   ],
   "source": [
    "bag_test =BaggingClassifier(base_estimator=test,max_samples=0.8,n_estimators=20,n_jobs=-1)\n",
    "bag_test.fit(x_train_sp,y_train_sp)\n",
    "pred = bag_test.predict(x_test_sp)\n",
    "acc_pred = accuracy_score(y_test_sp,pred)\n",
    "acc_pred"
   ]
  },
  {
   "cell_type": "markdown",
   "metadata": {},
   "source": [
    "### SVC--Nifty50"
   ]
  },
  {
   "cell_type": "code",
   "execution_count": 266,
   "metadata": {},
   "outputs": [
    {
     "name": "stdout",
     "output_type": "stream",
     "text": [
      "Fitting 5 folds for each of 25 candidates, totalling 125 fits\n",
      "{'max_samples': 1.0, 'n_estimators': 40}\n"
     ]
    }
   ],
   "source": [
    "bag_svc_nifty = BaggingClassifier(base_estimator=svc_rbf_nifty,random_state=0,n_jobs=-1,bootstrap=False)\n",
    "estimators = [20,40,60,80,100]\n",
    "max_sample = [0.2,0.4,0.6,0.8,1.0]\n",
    "params = {'n_estimators':estimators,'max_samples':max_sample}\n",
    "bag_svc_nifty_grid = GridSearchCV(bag_svc_nifty,param_grid = params,cv = time_split, n_jobs = -1, verbose = 3)\n",
    "bag_svc_nifty_grid.fit(x_train_under_nifty,y_train_under_nifty.values.ravel())\n",
    "print(bag_svc_nifty_grid.best_params_)"
   ]
  },
  {
   "cell_type": "code",
   "execution_count": 823,
   "metadata": {},
   "outputs": [
    {
     "name": "stdout",
     "output_type": "stream",
     "text": [
      "F1 score for Bagging(SVC)--Nifty50: 0.5605947955390334\n",
      "Accuracy score for Bagging(SVC)--Nifty50 0.5187296416938111\n"
     ]
    }
   ],
   "source": [
    "bag_svc_nifty = BaggingClassifier(base_estimator=svc_rbf_nifty,max_samples=1.0,n_estimators=40,n_jobs=-1,random_state=1)\n",
    "bag_svc_nifty.fit(x_train_under_nifty,y_train_under_nifty.values.ravel())\n",
    "y_pred_bag_svc_nifty = bag_svc_nifty.predict(x_test_nifty)\n",
    "f1_svc_bag_nifty = f1_score(y_test_nifty,y_pred_bag_svc_nifty)\n",
    "acc_svc_bag_nifty = accuracy_score(y_test_nifty,y_pred_bag_svc_nifty)\n",
    "print(\"F1 score for Bagging(SVC)--Nifty50:\",f1_svc_bag_nifty)\n",
    "print(\"Accuracy score for Bagging(SVC)--Nifty50\",acc_svc_bag_nifty)"
   ]
  },
  {
   "cell_type": "markdown",
   "metadata": {},
   "source": [
    "## AdaBoost"
   ]
  },
  {
   "cell_type": "markdown",
   "metadata": {},
   "source": [
    "### Neural Network--SP500"
   ]
  },
  {
   "cell_type": "code",
   "execution_count": 280,
   "metadata": {},
   "outputs": [
    {
     "name": "stdout",
     "output_type": "stream",
     "text": [
      "Fitting 5 folds for each of 25 candidates, totalling 125 fits\n",
      "{'learning_rate': 0.006, 'n_estimators': 20}\n"
     ]
    }
   ],
   "source": [
    "ada_nn_sp = AdaBoostClassifier(base_estimator=nn_sp,random_state=0)\n",
    "estimators = [20,40,60,80,100]\n",
    "learning_rates=[0.002,0.004,0.006,0.008,0.01]\n",
    "params = {\"n_estimators\":estimators,\"learning_rate\":learning_rates}\n",
    "ada_nn_grid_sp = GridSearchCV(ada_nn_sp ,param_grid=params,cv = time_split, n_jobs = -1, verbose = 3)\n",
    "ada_nn_grid_sp.fit(x_train_under_sp,y_train_under_sp.values.ravel())\n",
    "print(ada_nn_grid_sp.best_params_)"
   ]
  },
  {
   "cell_type": "code",
   "execution_count": 504,
   "metadata": {},
   "outputs": [
    {
     "name": "stdout",
     "output_type": "stream",
     "text": [
      "F1 score for AdaBoost(NN)--S&P500: 0.595482546201232\n",
      "Accuracy score for AdaBoost(NN)--S&P500 0.5305798252581414\n"
     ]
    }
   ],
   "source": [
    "ada_nn_sp = AdaBoostClassifier(base_estimator=nn_sp,learning_rate=0.006,n_estimators=20,random_state=6)\n",
    "ada_nn_sp.fit(x_train_under_sp,y_train_under_sp.values.ravel())\n",
    "y_pred_ada_nn_sp = ada_nn_sp.predict(x_test_sp)\n",
    "f1_nn_ada_sp = f1_score(y_test_sp,y_pred_ada_nn_sp)\n",
    "acc_nn_ada_sp = accuracy_score(y_test_sp,y_pred_ada_nn_sp)\n",
    "print(\"F1 score for AdaBoost(NN)--S&P500:\",f1_nn_ada_sp)\n",
    "print(\"Accuracy score for AdaBoost(NN)--S&P500\",acc_nn_ada_sp)"
   ]
  },
  {
   "cell_type": "markdown",
   "metadata": {},
   "source": [
    "### Neural Network--Nifty50"
   ]
  },
  {
   "cell_type": "code",
   "execution_count": 282,
   "metadata": {},
   "outputs": [
    {
     "name": "stdout",
     "output_type": "stream",
     "text": [
      "Fitting 5 folds for each of 25 candidates, totalling 125 fits\n",
      "{'learning_rate': 0.01, 'n_estimators': 20}\n"
     ]
    }
   ],
   "source": [
    "ada_nn_nifty = AdaBoostClassifier(base_estimator=nn_nifty,random_state=0)\n",
    "estimators = [20,40,60,80,100]\n",
    "learning_rates=[0.002,0.004,0.006,0.008,0.01]\n",
    "ada_nn_grid_nifty = GridSearchCV(ada_nn_nifty ,param_grid=params,cv = time_split, n_jobs = -1, verbose = 3)\n",
    "ada_nn_grid_nifty.fit(x_train_under_nifty,y_train_under_nifty.values.ravel())\n",
    "print(ada_nn_grid_nifty.best_params_)"
   ]
  },
  {
   "cell_type": "code",
   "execution_count": 507,
   "metadata": {},
   "outputs": [
    {
     "name": "stdout",
     "output_type": "stream",
     "text": [
      "F1 score for AdaBoost(NN)--Nifty50: 0.526742301458671\n",
      "Accuracy score for AdaBoost(NN)--Nifty50 0.5244299674267101\n"
     ]
    }
   ],
   "source": [
    "ada_nn_nifty = AdaBoostClassifier(base_estimator=nn_nifty,learning_rate=0.01,n_estimators=20,random_state=0)\n",
    "ada_nn_nifty.fit(x_train_under_nifty,y_train_under_nifty.values.ravel())\n",
    "y_pred_ada_nn_nifty = ada_nn_nifty.predict(x_test_nifty)\n",
    "f1_nn_ada_nifty = f1_score(y_test_nifty,y_pred_ada_nn_nifty)\n",
    "acc_nn_ada_nifty = accuracy_score(y_test_nifty,y_pred_ada_nn_nifty)\n",
    "print(\"F1 score for AdaBoost(NN)--Nifty50:\",f1_nn_ada_nifty)\n",
    "print(\"Accuracy score for AdaBoost(NN)--Nifty50\",acc_nn_ada_nifty)"
   ]
  },
  {
   "cell_type": "markdown",
   "metadata": {},
   "source": [
    "### Decision Tree--SP500"
   ]
  },
  {
   "cell_type": "code",
   "execution_count": 283,
   "metadata": {},
   "outputs": [
    {
     "name": "stdout",
     "output_type": "stream",
     "text": [
      "Fitting 5 folds for each of 25 candidates, totalling 125 fits\n",
      "{'learning_rate': 0.01, 'n_estimators': 40}\n"
     ]
    }
   ],
   "source": [
    "ada_dt_sp = AdaBoostClassifier(base_estimator=dt_sp)\n",
    "estimators = [20,40,60,80,100]\n",
    "learning_rates=[0.002,0.004,0.006,0.008,0.01]\n",
    "params = {\"n_estimators\":estimators,\"learning_rate\":learning_rates}\n",
    "ada_dt_grid_sp = GridSearchCV(ada_dt_sp ,param_grid=params,cv = time_split, n_jobs = -1, verbose = 3)\n",
    "ada_dt_grid_sp.fit(x_train_under_sp,y_train_under_sp.values.ravel())\n",
    "print(ada_dt_grid_sp.best_params_)"
   ]
  },
  {
   "cell_type": "code",
   "execution_count": 574,
   "metadata": {},
   "outputs": [
    {
     "name": "stdout",
     "output_type": "stream",
     "text": [
      "F1 score for AdaBoost(DT)--S&P500: 0.5818441744102931\n",
      "Accuracy score for AdaBoost(DT)--S&P500 0.5353455123113582\n"
     ]
    }
   ],
   "source": [
    "ada_dt_sp = AdaBoostClassifier(base_estimator=dt_sp,learning_rate=0.01,n_estimators=40,random_state=124)\n",
    "ada_dt_sp.fit(x_train_under_sp,y_train_under_sp.values.ravel())\n",
    "y_pred_ada_dt_sp = ada_dt_sp.predict(x_test_sp)\n",
    "f1_dt_ada_sp = f1_score(y_test_sp,y_pred_ada_dt_sp)\n",
    "acc_dt_ada_sp = accuracy_score(y_test_sp,y_pred_ada_dt_sp)\n",
    "print(\"F1 score for AdaBoost(DT)--S&P500:\",f1_dt_ada_sp)\n",
    "print(\"Accuracy score for AdaBoost(DT)--S&P500\",acc_dt_ada_sp)"
   ]
  },
  {
   "cell_type": "markdown",
   "metadata": {},
   "source": [
    "### Decision Tree--Nifty50"
   ]
  },
  {
   "cell_type": "code",
   "execution_count": 284,
   "metadata": {},
   "outputs": [
    {
     "name": "stdout",
     "output_type": "stream",
     "text": [
      "Fitting 5 folds for each of 25 candidates, totalling 125 fits\n",
      "{'learning_rate': 0.01, 'n_estimators': 100}\n"
     ]
    }
   ],
   "source": [
    "ada_dt_nifty = AdaBoostClassifier(base_estimator=dt_nifty)\n",
    "estimators = [20,40,60,80,100]\n",
    "learning_rates=[0.002,0.004,0.006,0.008,0.01]\n",
    "params = {\"n_estimators\":estimators,\"learning_rate\":learning_rates}\n",
    "ada_dt_grid_nifty = GridSearchCV(ada_dt_nifty ,param_grid=params,cv = time_split, n_jobs = -1, verbose = 3)\n",
    "ada_dt_grid_nifty.fit(x_train_under_nifty,y_train_under_nifty.values.ravel())\n",
    "print(ada_dt_grid_nifty.best_params_)"
   ]
  },
  {
   "cell_type": "code",
   "execution_count": 562,
   "metadata": {},
   "outputs": [
    {
     "name": "stdout",
     "output_type": "stream",
     "text": [
      "F1 score for AdaBoost(DT)--Nifty50: 0.5347166799680766\n",
      "Accuracy score for AdaBoost(DT)--Nifty50 0.5252442996742671\n"
     ]
    }
   ],
   "source": [
    "ada_dt_nifty = AdaBoostClassifier(base_estimator=dt_nifty,learning_rate=0.01,n_estimators=100,random_state=31)\n",
    "ada_dt_nifty.fit(x_train_under_nifty,y_train_under_nifty.values.ravel())\n",
    "y_pred_ada_dt_nifty = ada_dt_nifty.predict(x_test_nifty)\n",
    "f1_dt_ada_nifty = f1_score(y_test_nifty,y_pred_ada_dt_nifty)\n",
    "acc_dt_ada_nifty = accuracy_score(y_test_nifty,y_pred_ada_dt_nifty)\n",
    "print(\"F1 score for AdaBoost(DT)--Nifty50:\",f1_dt_ada_nifty)\n",
    "print(\"Accuracy score for AdaBoost(DT)--Nifty50\",acc_dt_ada_nifty)"
   ]
  },
  {
   "cell_type": "markdown",
   "metadata": {},
   "source": [
    "### SVC--SP500"
   ]
  },
  {
   "cell_type": "code",
   "execution_count": 285,
   "metadata": {
    "scrolled": true
   },
   "outputs": [
    {
     "name": "stdout",
     "output_type": "stream",
     "text": [
      "Fitting 5 folds for each of 25 candidates, totalling 125 fits\n",
      "{'learning_rate': 0.002, 'n_estimators': 100}\n"
     ]
    }
   ],
   "source": [
    "ada_svc_sp = AdaBoostClassifier(base_estimator=svc_rbf_sp,random_state=0)\n",
    "estimators = [20,40,60,80,100]\n",
    "learning_rates=[0.002,0.004,0.006,0.008,0.01]\n",
    "params = {\"n_estimators\":estimators,\"learning_rate\":learning_rates}\n",
    "ada_svc_grid_sp = GridSearchCV(ada_svc_sp ,param_grid=params,cv = time_split, n_jobs = -1, verbose = 3)\n",
    "ada_svc_grid_sp.fit(x_train_under_sp,y_train_under_sp.values.ravel())\n",
    "print(ada_svc_grid_sp.best_params_)"
   ]
  },
  {
   "cell_type": "code",
   "execution_count": 287,
   "metadata": {},
   "outputs": [
    {
     "name": "stdout",
     "output_type": "stream",
     "text": [
      "F1 score for AdaBoost(SVC)--S&P500: 0.7403701850925463\n",
      "Accuracy score for AdaBoost(SVC)--S&P500 0.5877680698967435\n"
     ]
    }
   ],
   "source": [
    "ada_svc_sp = AdaBoostClassifier(base_estimator=svc_rbf_sp,learning_rate=0.002,n_estimators=100,random_state=0)\n",
    "ada_svc_sp.fit(x_train_under_sp,y_train_under_sp.values.ravel())\n",
    "y_pred_ada_svc_sp = ada_svc_sp.predict(x_test_sp)\n",
    "f1_svc_ada_sp = f1_score(y_test_sp,y_pred_ada_svc_sp)\n",
    "acc_svc_ada_sp = accuracy_score(y_test_sp,y_pred_ada_svc_sp)\n",
    "print(\"F1 score for AdaBoost(SVC)--S&P500:\",f1_svc_ada_sp)\n",
    "print(\"Accuracy score for AdaBoost(SVC)--S&P500\",acc_svc_ada_sp)"
   ]
  },
  {
   "cell_type": "markdown",
   "metadata": {},
   "source": [
    "### SVC--Nifty50"
   ]
  },
  {
   "cell_type": "code",
   "execution_count": 286,
   "metadata": {},
   "outputs": [
    {
     "name": "stdout",
     "output_type": "stream",
     "text": [
      "Fitting 5 folds for each of 25 candidates, totalling 125 fits\n",
      "{'learning_rate': 0.008, 'n_estimators': 60}\n"
     ]
    }
   ],
   "source": [
    "ada_svc_nifty = AdaBoostClassifier(base_estimator=svc_rbf_nifty,random_state=0)\n",
    "estimators = [20,40,60,80,100]\n",
    "learning_rates=[0.002,0.004,0.006,0.008,0.01]\n",
    "params = {\"n_estimators\":estimators,\"learning_rate\":learning_rates}\n",
    "ada_svc_grid_nifty = GridSearchCV(ada_svc_nifty ,param_grid=params,cv = time_split, n_jobs = -1, verbose = 3)\n",
    "ada_svc_grid_nifty.fit(x_train_under_nifty,y_train_under_nifty.values.ravel())\n",
    "print(ada_svc_grid_nifty.best_params_)"
   ]
  },
  {
   "cell_type": "code",
   "execution_count": 288,
   "metadata": {},
   "outputs": [
    {
     "name": "stdout",
     "output_type": "stream",
     "text": [
      "F1 score for AdaBoost(SVC)--Nifty50: 0.6963906581740977\n",
      "Accuracy score for AdaBoost(SVC)--Nifty50 0.5342019543973942\n"
     ]
    }
   ],
   "source": [
    "ada_svc_nifty = AdaBoostClassifier(base_estimator=svc_rbf_nifty,learning_rate=0.008,n_estimators=60,random_state=0)\n",
    "ada_svc_nifty.fit(x_train_under_nifty,y_train_under_nifty.values.ravel())\n",
    "y_pred_ada_svc_nifty = ada_svc_nifty.predict(x_test_nifty)\n",
    "f1_svc_ada_nifty = f1_score(y_test_nifty,y_pred_ada_svc_nifty)\n",
    "acc_svc_ada_nifty = accuracy_score(y_test_nifty,y_pred_ada_svc_nifty)\n",
    "print(\"F1 score for AdaBoost(SVC)--Nifty50:\",f1_svc_ada_nifty)\n",
    "print(\"Accuracy score for AdaBoost(SVC)--Nifty50\",acc_svc_ada_nifty)"
   ]
  },
  {
   "cell_type": "markdown",
   "metadata": {},
   "source": [
    "## Stacking"
   ]
  },
  {
   "cell_type": "markdown",
   "metadata": {},
   "source": [
    "### Stacking-ALL--S&P500"
   ]
  },
  {
   "cell_type": "code",
   "execution_count": 713,
   "metadata": {},
   "outputs": [],
   "source": [
    "cross_val_predict_all_sp = np.row_stack([\n",
    "    np.column_stack([\n",
    "        nn_sp.fit(x_train_under_sp.iloc[time_train], y_train_under_sp.iloc[time_train].values.ravel()).predict(x_train_under_sp.iloc[time_test]),\n",
    "        dt_sp.fit(x_train_under_sp.iloc[time_train], y_train_under_sp.iloc[time_train]).predict(x_train_under_sp.iloc[time_test]),\n",
    "        svc_rbf_sp.fit(x_train_under_sp.iloc[time_train], y_train_under_sp.iloc[time_train].values.ravel()).predict(x_train_under_sp.iloc[time_test]),\n",
    "        \n",
    "        y_train_under_sp.iloc[time_test] \n",
    "    ])\n",
    "    for time_train,time_test in TimeSeriesSplit(n_splits=5).split(x_train_under_sp)\n",
    "])  \n",
    "\n",
    "\n",
    "dt_sp.fit(x_train_under_sp,y_train_under_sp)\n",
    "nn_sp.fit(x_train_under_sp,y_train_under_sp.values.ravel())\n",
    "svc_rbf_sp.fit(x_train_under_sp,y_train_under_sp.values.ravel())\n",
    "\n",
    "stacking_all_sp = LogisticRegression()\n",
    "stacking_all_sp.fit(cross_val_predict_all_sp[:,:-1], cross_val_predict_all_sp[:,-1].ravel())\n",
    "\n",
    "pred_all_sp = stacking_all_sp.predict(\n",
    "    np.column_stack([\n",
    "        nn_sp.predict(x_test_sp),\n",
    "        dt_sp.predict(x_test_sp),\n",
    "        svc_rbf_sp.predict(x_test_sp)\n",
    "    ])\n",
    ")"
   ]
  },
  {
   "cell_type": "code",
   "execution_count": 714,
   "metadata": {},
   "outputs": [
    {
     "name": "stdout",
     "output_type": "stream",
     "text": [
      "F1 score for Stacking(ALL)--SP500: 0.4\n",
      "Accuracy score for Stacking(ALL)--SP500 0.45432883240667193\n"
     ]
    }
   ],
   "source": [
    "all_stack_sp_acc = accuracy_score(y_test_sp,pred_all_sp)\n",
    "all_stack_sp_f1 = f1_score(y_test_sp,pred_all_sp)\n",
    "print(\"F1 score for Stacking(ALL)--SP500:\",all_stack_sp_f1)\n",
    "print(\"Accuracy score for Stacking(ALL)--SP500\",all_stack_sp_acc)"
   ]
  },
  {
   "cell_type": "markdown",
   "metadata": {},
   "source": [
    "### Stacking--ALL--Nifty50"
   ]
  },
  {
   "cell_type": "code",
   "execution_count": 715,
   "metadata": {},
   "outputs": [],
   "source": [
    "cross_val_predict_all_nifty = np.row_stack([\n",
    "    np.column_stack([\n",
    "        nn_nifty.fit(x_train_under_nifty.iloc[time_train], y_train_under_nifty.iloc[time_train].values.ravel()).predict(x_train_under_nifty.iloc[time_test]),\n",
    "        dt_nifty.fit(x_train_under_nifty.iloc[time_train], y_train_under_nifty.iloc[time_train]).predict(x_train_under_nifty.iloc[time_test]),\n",
    "        svc_rbf_nifty.fit(x_train_under_nifty.iloc[time_train], y_train_under_nifty.iloc[time_train].values.ravel()).predict(x_train_under_nifty.iloc[time_test]),\n",
    "        \n",
    "        y_train_under_nifty.iloc[time_test] \n",
    "    ])\n",
    "    for time_train,time_test in TimeSeriesSplit(n_splits=5).split(x_train_under_nifty)\n",
    "])  \n",
    "\n",
    "\n",
    "dt_nifty.fit(x_train_under_nifty,y_train_under_nifty)\n",
    "nn_nifty.fit(x_train_under_nifty,y_train_under_nifty.values.ravel())\n",
    "svc_rbf_nifty.fit(x_train_under_nifty,y_train_under_nifty.values.ravel())\n",
    "\n",
    "stacking_all_nifty = LogisticRegression()\n",
    "stacking_all_nifty.fit(cross_val_predict_all_nifty[:,:-1], cross_val_predict_all_nifty[:,-1].ravel())\n",
    "\n",
    "pred_all_nifty = stacking_all_nifty.predict(\n",
    "    np.column_stack([\n",
    "        nn_nifty.predict(x_test_nifty),\n",
    "        dt_nifty.predict(x_test_nifty),\n",
    "        svc_rbf_nifty.predict(x_test_nifty)\n",
    "    ])\n",
    ")"
   ]
  },
  {
   "cell_type": "code",
   "execution_count": 716,
   "metadata": {},
   "outputs": [
    {
     "name": "stdout",
     "output_type": "stream",
     "text": [
      "F1 score for Stacking(ALL)--NIFTY50: 0.4798021434460017\n",
      "Accuracy score for Stacking(ALL)--NIFTY50 0.48615635179153094\n"
     ]
    }
   ],
   "source": [
    "all_stack_nifty_acc = accuracy_score(y_test_nifty,pred_all_nifty)\n",
    "all_stack_nifty_f1 = f1_score(y_test_nifty,pred_all_nifty)\n",
    "print(\"F1 score for Stacking(ALL)--NIFTY50:\",all_stack_nifty_f1)\n",
    "print(\"Accuracy score for Stacking(ALL)--NIFTY50\",all_stack_nifty_acc)"
   ]
  },
  {
   "cell_type": "markdown",
   "metadata": {},
   "source": [
    "### Stacking--DT&NN--SP500"
   ]
  },
  {
   "cell_type": "code",
   "execution_count": 717,
   "metadata": {},
   "outputs": [],
   "source": [
    "cross_val_predict_dtnn_sp = np.row_stack([\n",
    "    np.column_stack([\n",
    "        nn_sp.fit(x_train_under_sp.iloc[time_train], y_train_under_sp.iloc[time_train].values.ravel()).predict(x_train_under_sp.iloc[time_test]),\n",
    "        dt_sp.fit(x_train_under_sp.iloc[time_train], y_train_under_sp.iloc[time_train]).predict(x_train_under_sp.iloc[time_test]),\n",
    "        \n",
    "        \n",
    "        y_train_under_sp.iloc[time_test] \n",
    "    ])\n",
    "    for time_train,time_test in TimeSeriesSplit(n_splits=5).split(x_train_under_sp)\n",
    "])  \n",
    "\n",
    "\n",
    "dt_sp.fit(x_train_under_sp,y_train_under_sp)\n",
    "nn_sp.fit(x_train_under_sp,y_train_under_sp.values.ravel())\n",
    "\n",
    "stacking_dtnn_sp = LogisticRegression()\n",
    "stacking_dtnn_sp.fit(cross_val_predict_dtnn_sp[:,:-1], cross_val_predict_dtnn_sp[:,-1].ravel())\n",
    "\n",
    "pred_dtnn_sp = stacking_dtnn_sp.predict(\n",
    "    np.column_stack([\n",
    "        nn_sp.predict(x_test_sp),\n",
    "        dt_sp.predict(x_test_sp)\n",
    "    ])\n",
    ")"
   ]
  },
  {
   "cell_type": "code",
   "execution_count": 718,
   "metadata": {},
   "outputs": [
    {
     "name": "stdout",
     "output_type": "stream",
     "text": [
      "F1 score for Stacking(DT&NN)--SP500: 0.5231447465099192\n",
      "Accuracy score for Stacking(DT&NN)--SP500 0.48451151707704526\n"
     ]
    }
   ],
   "source": [
    "dtnn_stack_sp_acc = accuracy_score(y_test_sp,pred_dtnn_sp)\n",
    "dtnn_stack_sp_f1 = f1_score(y_test_sp,pred_dtnn_sp)\n",
    "print(\"F1 score for Stacking(DT&NN)--SP500:\",dtnn_stack_sp_f1)\n",
    "print(\"Accuracy score for Stacking(DT&NN)--SP500\",dtnn_stack_sp_acc)"
   ]
  },
  {
   "cell_type": "markdown",
   "metadata": {},
   "source": [
    "### Stacking--DT&NN--Nifty50"
   ]
  },
  {
   "cell_type": "code",
   "execution_count": 719,
   "metadata": {},
   "outputs": [],
   "source": [
    "cross_val_predict_dtnn_nifty = np.row_stack([\n",
    "    np.column_stack([\n",
    "        nn_nifty.fit(x_train_under_nifty.iloc[time_train], y_train_under_nifty.iloc[time_train].values.ravel()).predict(x_train_under_nifty.iloc[time_test]),\n",
    "        dt_nifty.fit(x_train_under_nifty.iloc[time_train], y_train_under_nifty.iloc[time_train]).predict(x_train_under_nifty.iloc[time_test]),\n",
    "        \n",
    "        y_train_under_nifty.iloc[time_test] \n",
    "    ])\n",
    "    for time_train,time_test in TimeSeriesSplit(n_splits=5).split(x_train_under_nifty)\n",
    "])  \n",
    "\n",
    "dt_nifty.fit(x_train_under_nifty,y_train_under_nifty)\n",
    "nn_nifty.fit(x_train_under_nifty,y_train_under_nifty.values.ravel())\n",
    "\n",
    "stacking_dtnn_nifty = LogisticRegression()\n",
    "stacking_dtnn_nifty.fit(cross_val_predict_dtnn_nifty[:,:-1], cross_val_predict_dtnn_nifty[:,-1].ravel())\n",
    "\n",
    "pred_dtnn_nifty = stacking_dtnn_nifty.predict(\n",
    "    np.column_stack([\n",
    "        nn_nifty.predict(x_test_nifty),\n",
    "        dt_nifty.predict(x_test_nifty)\n",
    "    ])\n",
    ")"
   ]
  },
  {
   "cell_type": "code",
   "execution_count": 720,
   "metadata": {},
   "outputs": [
    {
     "name": "stdout",
     "output_type": "stream",
     "text": [
      "F1 score for Stacking(DT&NN)--NIFTY50: 0.4798021434460017\n",
      "Accuracy score for Stacking(DT&NN)--NIFTY50 0.48615635179153094\n"
     ]
    }
   ],
   "source": [
    "dtnn_stack_nifty_acc = accuracy_score(y_test_nifty,pred_dtnn_nifty)\n",
    "dtnn_stack_nifty_f1 = f1_score(y_test_nifty,pred_dtnn_nifty)\n",
    "print(\"F1 score for Stacking(DT&NN)--NIFTY50:\",dtnn_stack_nifty_f1)\n",
    "print(\"Accuracy score for Stacking(DT&NN)--NIFTY50\",dtnn_stack_nifty_acc)"
   ]
  },
  {
   "cell_type": "markdown",
   "metadata": {},
   "source": [
    "### Stacking--DT&SVC--SP500"
   ]
  },
  {
   "cell_type": "code",
   "execution_count": 721,
   "metadata": {},
   "outputs": [],
   "source": [
    "cross_val_predict_dtsvc_sp = np.row_stack([\n",
    "    np.column_stack([\n",
    "        svc_rbf_sp.fit(x_train_under_sp.iloc[time_train], y_train_under_sp.iloc[time_train].values.ravel()).predict(x_train_under_sp.iloc[time_test]),\n",
    "        dt_sp.fit(x_train_under_sp.iloc[time_train], y_train_under_sp.iloc[time_train]).predict(x_train_under_sp.iloc[time_test]),\n",
    "        \n",
    "        \n",
    "        y_train_under_sp.iloc[time_test] \n",
    "    ])\n",
    "    for time_train,time_test in TimeSeriesSplit(n_splits=5).split(x_train_under_sp)\n",
    "])  \n",
    "\n",
    "\n",
    "dt_sp.fit(x_train_under_sp,y_train_under_sp)\n",
    "svc_rbf_sp.fit(x_train_under_sp,y_train_under_sp.values.ravel())\n",
    "\n",
    "stacking_dtsvc_sp = LogisticRegression()\n",
    "stacking_dtsvc_sp.fit(cross_val_predict_dtsvc_sp[:,:-1], cross_val_predict_dtsvc_sp[:,-1].ravel())\n",
    "\n",
    "pred_dtsvc_sp = stacking_dtsvc_sp.predict(\n",
    "    np.column_stack([\n",
    "        svc_rbf_sp.predict(x_test_sp),\n",
    "        dt_sp.predict(x_test_sp)\n",
    "    ])\n",
    ")"
   ]
  },
  {
   "cell_type": "code",
   "execution_count": 722,
   "metadata": {},
   "outputs": [
    {
     "name": "stdout",
     "output_type": "stream",
     "text": [
      "F1 score for Stacking(DT&SVC)--SP500: 0.5231447465099192\n",
      "Accuracy score for Stacking(DT&SVC)--SP500 0.48451151707704526\n"
     ]
    }
   ],
   "source": [
    "dtsvc_stack_sp_acc = accuracy_score(y_test_sp,pred_dtsvc_sp)\n",
    "dtsvc_stack_sp_f1 = f1_score(y_test_sp,pred_dtsvc_sp)\n",
    "print(\"F1 score for Stacking(DT&SVC)--SP500:\",dtsvc_stack_sp_f1)\n",
    "print(\"Accuracy score for Stacking(DT&SVC)--SP500\",dtsvc_stack_sp_acc)"
   ]
  },
  {
   "cell_type": "markdown",
   "metadata": {},
   "source": [
    "### Stacking--DT&SVC--Nifty50"
   ]
  },
  {
   "cell_type": "code",
   "execution_count": 723,
   "metadata": {},
   "outputs": [],
   "source": [
    "cross_val_predict_dtsvc_nifty = np.row_stack([\n",
    "    np.column_stack([\n",
    "        svc_rbf_nifty.fit(x_train_under_nifty.iloc[time_train], y_train_under_nifty.iloc[time_train].values.ravel()).predict(x_train_under_nifty.iloc[time_test]),\n",
    "        dt_nifty.fit(x_train_under_nifty.iloc[time_train], y_train_under_nifty.iloc[time_train]).predict(x_train_under_nifty.iloc[time_test]),\n",
    "        \n",
    "        y_train_under_nifty.iloc[time_test] \n",
    "    ])\n",
    "    for time_train,time_test in TimeSeriesSplit(n_splits=5).split(x_train_under_nifty)\n",
    "])  \n",
    "\n",
    "dt_nifty.fit(x_train_under_nifty,y_train_under_nifty)\n",
    "svc_rbf_nifty.fit(x_train_under_nifty,y_train_under_nifty.values.ravel())\n",
    "\n",
    "stacking_dtsvc_nifty = LogisticRegression()\n",
    "stacking_dtsvc_nifty.fit(cross_val_predict_dtsvc_nifty[:,:-1], cross_val_predict_dtsvc_nifty[:,-1].ravel())\n",
    "\n",
    "pred_dtsvc_nifty = stacking_dtsvc_nifty.predict(\n",
    "    np.column_stack([\n",
    "        svc_rbf_nifty.predict(x_test_nifty),\n",
    "        dt_nifty.predict(x_test_nifty)\n",
    "    ])\n",
    ")"
   ]
  },
  {
   "cell_type": "code",
   "execution_count": 724,
   "metadata": {},
   "outputs": [
    {
     "name": "stdout",
     "output_type": "stream",
     "text": [
      "F1 score for Stacking(DT&SVC)--NIFTY50: 0.537080405932865\n",
      "Accuracy score for Stacking(DT&SVC)--NIFTY50 0.5171009771986971\n"
     ]
    }
   ],
   "source": [
    "dtsvc_stack_nifty_acc = accuracy_score(y_test_nifty,pred_dtsvc_nifty)\n",
    "dtsvc_stack_nifty_f1 = f1_score(y_test_nifty,pred_dtsvc_nifty)\n",
    "print(\"F1 score for Stacking(DT&SVC)--NIFTY50:\",dtsvc_stack_nifty_f1)\n",
    "print(\"Accuracy score for Stacking(DT&SVC)--NIFTY50\",dtsvc_stack_nifty_acc)"
   ]
  },
  {
   "cell_type": "markdown",
   "metadata": {},
   "source": [
    "### Stacking--SVC&NN--S&P500"
   ]
  },
  {
   "cell_type": "code",
   "execution_count": 725,
   "metadata": {},
   "outputs": [],
   "source": [
    "cross_val_predict_nnsvc_sp = np.row_stack([\n",
    "    np.column_stack([\n",
    "        svc_rbf_sp.fit(x_train_under_sp.iloc[time_train], y_train_under_sp.iloc[time_train].values.ravel()).predict(x_train_under_sp.iloc[time_test]),\n",
    "        nn_sp.fit(x_train_under_sp.iloc[time_train], y_train_under_sp.iloc[time_train].values.ravel()).predict(x_train_under_sp.iloc[time_test]),\n",
    "        \n",
    "        \n",
    "        y_train_under_sp.iloc[time_test] \n",
    "    ])\n",
    "    for time_train,time_test in TimeSeriesSplit(n_splits=5).split(x_train_under_sp)\n",
    "])  \n",
    "\n",
    "\n",
    "nn_sp.fit(x_train_under_sp,y_train_under_sp.values.ravel())\n",
    "svc_rbf_sp.fit(x_train_under_sp,y_train_under_sp.values.ravel())\n",
    "\n",
    "stacking_nnsvc_sp = LogisticRegression()\n",
    "stacking_nnsvc_sp.fit(cross_val_predict_nnsvc_sp[:,:-1], cross_val_predict_nnsvc_sp[:,-1].ravel())\n",
    "\n",
    "pred_nnsvc_sp = stacking_nnsvc_sp.predict(\n",
    "    np.column_stack([\n",
    "        svc_rbf_sp.predict(x_test_sp),\n",
    "        nn_sp.predict(x_test_sp)\n",
    "    ])\n",
    ")"
   ]
  },
  {
   "cell_type": "code",
   "execution_count": 726,
   "metadata": {},
   "outputs": [
    {
     "name": "stdout",
     "output_type": "stream",
     "text": [
      "F1 score for Stacking(NN&SVC)--SP500: 0.5038051750380518\n",
      "Accuracy score for Stacking(NN&SVC)--SP500 0.48212867355043687\n"
     ]
    }
   ],
   "source": [
    "nnsvc_stack_sp_acc = accuracy_score(y_test_sp,pred_nnsvc_sp)\n",
    "nnsvc_stack_sp_f1 = f1_score(y_test_sp,pred_nnsvc_sp)\n",
    "print(\"F1 score for Stacking(NN&SVC)--SP500:\",nnsvc_stack_sp_f1)\n",
    "print(\"Accuracy score for Stacking(NN&SVC)--SP500\",nnsvc_stack_sp_acc)"
   ]
  },
  {
   "cell_type": "markdown",
   "metadata": {},
   "source": [
    "### Stacking-NN&SVC--Nifty50"
   ]
  },
  {
   "cell_type": "code",
   "execution_count": 727,
   "metadata": {},
   "outputs": [],
   "source": [
    "cross_val_predict_nnsvc_nifty = np.row_stack([\n",
    "    np.column_stack([\n",
    "        svc_rbf_nifty.fit(x_train_under_nifty.iloc[time_train], y_train_under_nifty.iloc[time_train].values.ravel()).predict(x_train_under_nifty.iloc[time_test]),\n",
    "        nn_nifty.fit(x_train_under_nifty.iloc[time_train], y_train_under_nifty.iloc[time_train].values.ravel()).predict(x_train_under_nifty.iloc[time_test]),\n",
    "        \n",
    "        y_train_under_nifty.iloc[time_test] \n",
    "    ])\n",
    "    for time_train,time_test in TimeSeriesSplit(n_splits=5).split(x_train_under_nifty)\n",
    "])  \n",
    "\n",
    "nn_nifty.fit(x_train_under_nifty,y_train_under_nifty.values.ravel())\n",
    "svc_rbf_nifty.fit(x_train_under_nifty,y_train_under_nifty.values.ravel())\n",
    "\n",
    "stacking_nnsvc_nifty = LogisticRegression()\n",
    "stacking_nnsvc_nifty.fit(cross_val_predict_nnsvc_nifty[:,:-1], cross_val_predict_nnsvc_nifty[:,-1].ravel())\n",
    "\n",
    "pred_nnsvc_nifty = stacking_nnsvc_nifty.predict(\n",
    "    np.column_stack([\n",
    "        svc_rbf_nifty.predict(x_test_nifty),\n",
    "        nn_nifty.predict(x_test_nifty)\n",
    "    ])\n",
    ")"
   ]
  },
  {
   "cell_type": "code",
   "execution_count": 728,
   "metadata": {},
   "outputs": [
    {
     "name": "stdout",
     "output_type": "stream",
     "text": [
      "F1 score for Stacking(NN&SVC)--NIFTY50: 0.4798021434460017\n",
      "Accuracy score for Stacking(NN&SVC)--NIFTY50 0.48615635179153094\n"
     ]
    }
   ],
   "source": [
    "nnsvc_stack_nifty_acc = accuracy_score(y_test_nifty,pred_nnsvc_nifty)\n",
    "nnsvc_stack_nifty_f1 = f1_score(y_test_nifty,pred_nnsvc_nifty)\n",
    "print(\"F1 score for Stacking(NN&SVC)--NIFTY50:\",nnsvc_stack_nifty_f1)\n",
    "print(\"Accuracy score for Stacking(NN&SVC)--NIFTY50\",nnsvc_stack_nifty_acc)"
   ]
  },
  {
   "cell_type": "markdown",
   "metadata": {},
   "source": [
    "## Critical Evaluation"
   ]
  },
  {
   "cell_type": "markdown",
   "metadata": {},
   "source": [
    "### Single Classifier--S&P500"
   ]
  },
  {
   "cell_type": "code",
   "execution_count": 584,
   "metadata": {},
   "outputs": [
    {
     "data": {
      "image/png": "[encoded data removed]",
      "text/plain": [
       "<Figure size 432x288 with 1 Axes>"
      ]
     },
     "metadata": {
      "needs_background": "light"
     },
     "output_type": "display_data"
    }
   ],
   "source": [
    "single_model_sp = [\"DT\",\"MLP\",\"SVC-rbf\",\"SVC-poly\"]\n",
    "single_model_acc_sp = [acc_dt_sp,acc_nn_sp,acc_svc_sp_rbf,acc_svc_sp_poly]\n",
    "single_model_f1_sp = [f1_dt_sp,f1_nn_sp,f1_svc_sp_rbf,f1_svc_sp_poly]\n",
    "width = 0.40\n",
    "x = np.arange(4)\n",
    "plt.bar(x-0.2,single_model_acc_sp,width,color='green')\n",
    "plt.bar(x+0.2,single_model_f1_sp,width,color='orange')\n",
    "plt.ylim(0.45, 0.61)\n",
    "plt.legend([\"Accuracy\",\"F1-score\"])\n",
    "plt.xlabel(\"Single Model--S&P500\")\n",
    "plt.xticks(x,single_model_sp)\n",
    "plt.savefig('Single_model--S&P500.jpg')"
   ]
  },
  {
   "cell_type": "markdown",
   "metadata": {},
   "source": [
    "### Single Classifier--Nifty50"
   ]
  },
  {
   "cell_type": "code",
   "execution_count": 585,
   "metadata": {},
   "outputs": [
    {
     "data": {
      "image/png": "[encoded data removed]",
      "text/plain": [
       "<Figure size 432x288 with 1 Axes>"
      ]
     },
     "metadata": {
      "needs_background": "light"
     },
     "output_type": "display_data"
    }
   ],
   "source": [
    "single_model_nifty = ['DT','MLP','SVC-rbf','SVC-poly']\n",
    "single_model_acc_nifty = [acc_dt_nifty,acc_nn_nifty,acc_svc_nifty_rbf,acc_svc_nifty_poly]\n",
    "single_model_f1_nifty = [f1_dt_nifty,f1_nn_nifty,f1_svc_nifty_rbf,f1_svc_nifty_poly]\n",
    "width = 0.40\n",
    "x = np.arange(4)\n",
    "plt.bar(x-0.2,single_model_acc_nifty,width,color='green')\n",
    "plt.bar(x+0.2,single_model_f1_nifty,width,color='orange')\n",
    "plt.ylim(0.45, 0.56)\n",
    "plt.legend([\"Accuracy\",\"F1-score\"])\n",
    "plt.xlabel(\"Single Model--Nifty50\")\n",
    "plt.xticks(x,single_model_sp)\n",
    "plt.savefig('Single_model--Nifty50.jpg')"
   ]
  },
  {
   "cell_type": "markdown",
   "metadata": {},
   "source": [
    "### Voting--S&P500"
   ]
  },
  {
   "cell_type": "code",
   "execution_count": 586,
   "metadata": {},
   "outputs": [
    {
     "data": {
      "image/png": "[encoded data removed]",
      "text/plain": [
       "<Figure size 432x288 with 1 Axes>"
      ]
     },
     "metadata": {
      "needs_background": "light"
     },
     "output_type": "display_data"
    }
   ],
   "source": [
    "vot_sp = ['Voting-all','Voting-DT&NN','Voting-DT&SVC','Voting-SVC&NN']\n",
    "vot_acc_sp = [acc_vot_sp_all,acc_vot_sp_dtnn,acc_vot_sp_dtsvc,acc_vot_sp_nnsvc]\n",
    "vot_f1_sp = [f1_vot_sp_all,f1_vot_sp_dtnn,f1_vot_sp_dtsvc,f1_vot_sp_nnsvc]\n",
    "\n",
    "width = 0.40\n",
    "x = np.arange(4)\n",
    "plt.bar(x-0.2,vot_acc_sp,width,color='green')\n",
    "plt.bar(x+0.2,vot_f1_sp,width,color='orange')\n",
    "plt.ylim(0.45, 0.62)\n",
    "plt.legend([\"Accuracy\",\"F1-score\"])\n",
    "plt.xlabel(\"Voting--S&P500\")\n",
    "plt.xticks(x,vot_sp)\n",
    "plt.savefig('Voting--S&P500.jpg')"
   ]
  },
  {
   "cell_type": "markdown",
   "metadata": {},
   "source": [
    "### Voting--Nifty50"
   ]
  },
  {
   "cell_type": "code",
   "execution_count": 587,
   "metadata": {},
   "outputs": [
    {
     "data": {
      "image/png": "[encoded data removed]",
      "text/plain": [
       "<Figure size 432x288 with 1 Axes>"
      ]
     },
     "metadata": {
      "needs_background": "light"
     },
     "output_type": "display_data"
    }
   ],
   "source": [
    "vot_nifty = ['Voting-all','Voting-DT&NN','Voting-DT&SVC','Voting-SVC&NN']\n",
    "vot_acc_nifty = [acc_vot_nifty_all,acc_vot_nifty_dtnn,acc_vot_nifty_dtsvc,acc_vot_nifty_nnsvc]\n",
    "vot_f1_nifty = [f1_vot_nifty_all,f1_vot_nifty_dtnn,f1_vot_nifty_dtsvc,f1_vot_nifty_nnsvc]\n",
    "\n",
    "width = 0.40\n",
    "x = np.arange(4)\n",
    "plt.bar(x-0.2,vot_acc_nifty,width,color='green')\n",
    "plt.bar(x+0.2,vot_f1_nifty,width,color='orange')\n",
    "plt.ylim(0.45, 0.56)\n",
    "plt.legend([\"Accuracy\",\"F1-score\"])\n",
    "plt.xlabel(\"Voting--Nifty50\")\n",
    "plt.xticks(x,vot_nifty)\n",
    "plt.savefig('Voting--Nifty50.jpg')"
   ]
  },
  {
   "cell_type": "markdown",
   "metadata": {},
   "source": [
    "### Bagging--S&P500"
   ]
  },
  {
   "cell_type": "code",
   "execution_count": 588,
   "metadata": {},
   "outputs": [
    {
     "data": {
      "image/png": "[encoded data removed]",
      "text/plain": [
       "<Figure size 432x288 with 1 Axes>"
      ]
     },
     "metadata": {
      "needs_background": "light"
     },
     "output_type": "display_data"
    }
   ],
   "source": [
    "bag_sp = ['MLP-BAG','SVC-BAG','DT-BAG']\n",
    "bag_acc_sp = [acc_nn_bag_sp,acc_svc_bag_sp,acc_dt_bag_sp]\n",
    "bag_f1_sp = [f1_nn_bag_sp,f1_svc_bag_sp,f1_dt_bag_sp]\n",
    "\n",
    "width = 0.40\n",
    "x = np.arange(3)\n",
    "plt.bar(x-0.2,bag_acc_sp,width,color='green')\n",
    "plt.bar(x+0.2,bag_f1_sp,width,color='orange')\n",
    "plt.ylim(0.45, 0.65)\n",
    "plt.legend([\"Accuracy\",\"F1-score\"])\n",
    "plt.xlabel(\"Bagging--S&P500\")\n",
    "plt.xticks(x,bag_sp)\n",
    "plt.savefig('Bagging--S&P500.jpg')"
   ]
  },
  {
   "cell_type": "markdown",
   "metadata": {},
   "source": [
    "### Bagging--Nifty50"
   ]
  },
  {
   "cell_type": "code",
   "execution_count": 589,
   "metadata": {},
   "outputs": [
    {
     "data": {
      "image/png": "[encoded data removed]",
      "text/plain": [
       "<Figure size 432x288 with 1 Axes>"
      ]
     },
     "metadata": {
      "needs_background": "light"
     },
     "output_type": "display_data"
    }
   ],
   "source": [
    "bag_nifty = ['MLP-BAG','SVC-BAG','DT-BAG']\n",
    "bag_acc_nifty = [acc_nn_bag_nifty,acc_svc_bag_nifty,acc_dt_bag_nifty]\n",
    "bag_f1_nifty = [f1_nn_bag_nifty,f1_svc_bag_nifty,f1_dt_bag_nifty]\n",
    "\n",
    "width = 0.40\n",
    "x = np.arange(3)\n",
    "plt.bar(x-0.2,bag_acc_nifty,width,color='green')\n",
    "plt.bar(x+0.2,bag_f1_nifty,width,color='orange')\n",
    "plt.ylim(0.40, 0.58)\n",
    "plt.legend([\"Accuracy\",\"F1-score\"])\n",
    "plt.xlabel(\"Bagging--Nifty50\")\n",
    "plt.xticks(x,bag_nifty)\n",
    "plt.savefig('Bagging--Nifty50.jpg')"
   ]
  },
  {
   "cell_type": "markdown",
   "metadata": {},
   "source": [
    "### AdaBoost--S&P500"
   ]
  },
  {
   "cell_type": "code",
   "execution_count": 590,
   "metadata": {},
   "outputs": [
    {
     "data": {
      "image/png": "[encoded data removed]",
      "text/plain": [
       "<Figure size 432x288 with 1 Axes>"
      ]
     },
     "metadata": {
      "needs_background": "light"
     },
     "output_type": "display_data"
    }
   ],
   "source": [
    "ada_sp = ['MLP-AdaBoost','SVC-AdaBoost','DT-AdaBoost']\n",
    "ada_acc_sp = [acc_nn_ada_sp,acc_svc_ada_sp,acc_dt_ada_sp]\n",
    "ada_f1_sp = [f1_nn_ada_sp,f1_svc_ada_sp,f1_dt_ada_sp]\n",
    "\n",
    "width = 0.40\n",
    "x = np.arange(3)\n",
    "plt.bar(x-0.2,ada_acc_sp,width,color='green')\n",
    "plt.bar(x+0.2,ada_f1_sp,width,color='orange')\n",
    "plt.ylim(0.0, 0.75)\n",
    "plt.legend([\"Accuracy\",\"F1-score\"])\n",
    "plt.xlabel(\"AdaBoost--S&P500\")\n",
    "plt.xticks(x,ada_sp)\n",
    "plt.savefig('AdaBoost--S&P500.jpg')"
   ]
  },
  {
   "cell_type": "markdown",
   "metadata": {},
   "source": [
    "### AdaBoost--Nifty50"
   ]
  },
  {
   "cell_type": "code",
   "execution_count": 515,
   "metadata": {},
   "outputs": [
    {
     "data": {
      "image/png": "[encoded data removed]",
      "text/plain": [
       "<Figure size 432x288 with 1 Axes>"
      ]
     },
     "metadata": {
      "needs_background": "light"
     },
     "output_type": "display_data"
    }
   ],
   "source": [
    "ada_nifty = ['MLP-AdaBoost','SVC-AdaBoost','DT-AdaBoost']\n",
    "ada_acc_nifty = [acc_nn_ada_nifty,acc_svc_ada_nifty,acc_dt_ada_nifty]\n",
    "ada_f1_nifty = [f1_nn_ada_nifty,f1_svc_ada_nifty,f1_dt_ada_nifty]\n",
    "\n",
    "width = 0.40\n",
    "x = np.arange(3)\n",
    "plt.bar(x-0.2,ada_acc_nifty,width,color='green')\n",
    "plt.bar(x+0.2,ada_f1_nifty,width,color='orange')\n",
    "plt.ylim(0.45, 0.71)\n",
    "plt.legend([\"Accuracy\",\"F1-score\"])\n",
    "plt.xlabel(\"AdaBoost--Nifty50\")\n",
    "plt.xticks(x,ada_nifty)\n",
    "plt.savefig('AdaBoost--Nifty50.jpg')"
   ]
  },
  {
   "cell_type": "markdown",
   "metadata": {},
   "source": [
    "### Stacking--S&P500"
   ]
  },
  {
   "cell_type": "code",
   "execution_count": 730,
   "metadata": {},
   "outputs": [
    {
     "data": {
      "image/png": "[encoded data removed]",
      "text/plain": [
       "<Figure size 432x288 with 1 Axes>"
      ]
     },
     "metadata": {
      "needs_background": "light"
     },
     "output_type": "display_data"
    }
   ],
   "source": [
    "stack_sp = ['Stack-all','Stack-DT&MLP','Stack-DT&SVC','Stack-SVC&MLP']\n",
    "stack_acc_sp = [all_stack_sp_acc,dtnn_stack_sp_acc,dtsvc_stack_sp_acc,nnsvc_stack_sp_acc]\n",
    "stack_f1_sp = [all_stack_sp_f1,dtnn_stack_sp_f1,dtsvc_stack_sp_f1,nnsvc_stack_sp_f1]\n",
    "\n",
    "width = 0.40\n",
    "x = np.arange(4)\n",
    "plt.bar(x-0.2,stack_acc_sp,width,color='green')\n",
    "plt.bar(x+0.2,stack_f1_sp,width,color='orange')\n",
    "plt.ylim(0.30, 0.55)\n",
    "plt.legend([\"Accuracy\",\"F1-score\"])\n",
    "plt.xlabel(\"Stacking--S&P500\")\n",
    "plt.xticks(x,stack_sp)\n",
    "plt.savefig('Stacking--S&P500.jpg')"
   ]
  },
  {
   "cell_type": "markdown",
   "metadata": {},
   "source": [
    "### Stacking--Nifty50"
   ]
  },
  {
   "cell_type": "code",
   "execution_count": 729,
   "metadata": {},
   "outputs": [
    {
     "data": {
      "image/png": "[encoded data removed]",
      "text/plain": [
       "<Figure size 432x288 with 1 Axes>"
      ]
     },
     "metadata": {
      "needs_background": "light"
     },
     "output_type": "display_data"
    }
   ],
   "source": [
    "stack_nifty = ['Stack-all','Stack-DT&MLP','Stack-DT&SVC','Stack-SVC&MLP']\n",
    "stack_acc_nifty = [all_stack_nifty_acc,dtnn_stack_nifty_acc,dtsvc_stack_nifty_acc,nnsvc_stack_nifty_acc]\n",
    "stack_f1_nifty = [all_stack_nifty_f1,dtnn_stack_nifty_f1,dtsvc_stack_nifty_f1,nnsvc_stack_nifty_f1]\n",
    "\n",
    "width = 0.40\n",
    "x = np.arange(4)\n",
    "plt.bar(x-0.2,stack_acc_nifty,width,color='green')\n",
    "plt.bar(x+0.2,stack_f1_nifty,width,color='orange')\n",
    "plt.ylim(0.45, 0.55)\n",
    "plt.legend([\"Accuracy\",\"F1-score\"])\n",
    "plt.xlabel(\"Stacking--Nifty50\")\n",
    "plt.xticks(x,stack_nifty)\n",
    "plt.savefig('Stacking--Nifty50.jpg')"
   ]
  },
  {
   "cell_type": "markdown",
   "metadata": {},
   "source": [
    "### Final Comparison"
   ]
  },
  {
   "cell_type": "markdown",
   "metadata": {},
   "source": [
    "### S&P500"
   ]
  },
  {
   "cell_type": "code",
   "execution_count": 732,
   "metadata": {},
   "outputs": [
    {
     "data": {
      "image/png": "[encoded data removed]",
      "text/plain": [
       "<Figure size 432x288 with 1 Axes>"
      ]
     },
     "metadata": {
      "needs_background": "light"
     },
     "output_type": "display_data"
    }
   ],
   "source": [
    "final_sp = [\"SVC-rbf\",\"BAG-MLP\",\"MLP-AdaBoost\",\"Stack-MLP&SVC\",\"Voting-DT&MLP\"]\n",
    "final_acc_sp = [acc_svc_sp_rbf,acc_nn_bag_sp,acc_nn_ada_sp,nnsvc_stack_sp_acc,acc_vot_sp_dtnn]\n",
    "final_f1_sp = [f1_svc_sp_rbf,f1_nn_bag_sp,f1_nn_ada_sp,nnsvc_stack_sp_f1,f1_vot_sp_dtnn]\n",
    "\n",
    "width = 0.40\n",
    "x = np.arange(5)\n",
    "plt.bar(x-0.2,final_acc_sp,width,color='green')\n",
    "plt.bar(x+0.2,final_f1_sp,width,color='orange')\n",
    "plt.ylim(0.45, 0.65)\n",
    "plt.legend([\"Accuracy\",\"F1-score\"])\n",
    "plt.xlabel(\"Final Comparison--S&P500\")\n",
    "plt.xticks(x,final_sp,rotation=45)\n",
    "plt.savefig('final_sp.jpg')"
   ]
  },
  {
   "cell_type": "markdown",
   "metadata": {},
   "source": [
    "### Nifty50"
   ]
  },
  {
   "cell_type": "code",
   "execution_count": 731,
   "metadata": {},
   "outputs": [
    {
     "data": {
      "image/png": "[encoded data removed]",
      "text/plain": [
       "<Figure size 432x288 with 1 Axes>"
      ]
     },
     "metadata": {
      "needs_background": "light"
     },
     "output_type": "display_data"
    }
   ],
   "source": [
    "final_nifty = [\"SVC-rbf\",\"BAG-MLP\",\"DT-AdaBoost\",\"Stack-SVC&DT\",\"Voting-DT&SVC\"]\n",
    "final_acc_nifty = [acc_svc_nifty_rbf,acc_nn_bag_nifty,acc_dt_ada_nifty,dtsvc_stack_nifty_acc,acc_vot_nifty_dtsvc]\n",
    "final_f1_nifty = [f1_svc_nifty_rbf,f1_nn_bag_nifty,f1_dt_ada_nifty,dtsvc_stack_nifty_f1,f1_vot_nifty_dtsvc]\n",
    "\n",
    "width = 0.40\n",
    "x = np.arange(5)\n",
    "plt.bar(x-0.2,final_acc_nifty,width,color='green')\n",
    "plt.bar(x+0.2,final_f1_nifty,width,color='orange')\n",
    "plt.ylim(0.45, 0.55)\n",
    "plt.legend([\"Accuracy\",\"F1-score\"])\n",
    "plt.xlabel(\"Final Comparison--Nifty50\")\n",
    "plt.xticks(x,final_nifty,rotation=45)\n",
    "plt.savefig('final_nifty.jpg')"
   ]
  },
  {
   "cell_type": "code",
   "execution_count": null,
   "metadata": {},
   "outputs": [],
   "source": []
  }
 ],
 "metadata": {
  "kernelspec": {
   "display_name": "Python 3",
   "language": "python",
   "name": "python3"
  },
  "language_info": {
   "codemirror_mode": {
    "name": "ipython",
    "version": 3
   },
   "file_extension": ".py",
   "mimetype": "text/x-python",
   "name": "python",
   "nbconvert_exporter": "python",
   "pygments_lexer": "ipython3",
   "version": "3.8.5"
  }
 },
 "nbformat": 4,
 "nbformat_minor": 4
}
